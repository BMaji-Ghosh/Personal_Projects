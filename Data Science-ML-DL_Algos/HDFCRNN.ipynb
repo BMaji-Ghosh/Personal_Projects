{
 "cells": [
  {
   "cell_type": "code",
   "execution_count": 16,
   "id": "28acf372",
   "metadata": {},
   "outputs": [],
   "source": [
    "import pandas as pd\n",
    "df=pd.read_csv(\"hdfc.csv\")"
   ]
  },
  {
   "cell_type": "code",
   "execution_count": 17,
   "id": "3596eb4f",
   "metadata": {},
   "outputs": [
    {
     "name": "stdout",
     "output_type": "stream",
     "text": [
      "<class 'pandas.core.frame.DataFrame'>\n",
      "RangeIndex: 1087 entries, 0 to 1086\n",
      "Data columns (total 14 columns):\n",
      " #   Column         Non-Null Count  Dtype \n",
      "---  ------         --------------  ----- \n",
      " 0   Date           1087 non-null   object\n",
      " 1   series         1087 non-null   object\n",
      " 2   OPEN           1087 non-null   object\n",
      " 3   HIGH           1087 non-null   object\n",
      " 4   LOW            1087 non-null   object\n",
      " 5   PREV. CLOSE    1087 non-null   object\n",
      " 6   ltp            1087 non-null   object\n",
      " 7   close          1087 non-null   object\n",
      " 8   vwap           1087 non-null   object\n",
      " 9   52W H          1087 non-null   object\n",
      " 10  52W L          1087 non-null   object\n",
      " 11  VOLUME         1087 non-null   object\n",
      " 12  VALUE          1087 non-null   object\n",
      " 13  No of trades   1087 non-null   object\n",
      "dtypes: object(14)\n",
      "memory usage: 119.0+ KB\n"
     ]
    }
   ],
   "source": [
    "df.info()"
   ]
  },
  {
   "cell_type": "code",
   "execution_count": 19,
   "id": "3cb1c385",
   "metadata": {},
   "outputs": [],
   "source": [
    "df['close']=df['close'].str.replace(',','').astype(float)"
   ]
  },
  {
   "cell_type": "code",
   "execution_count": null,
   "id": "c07e7401",
   "metadata": {},
   "outputs": [],
   "source": []
  }
 ],
 "metadata": {
  "kernelspec": {
   "display_name": "base",
   "language": "python",
   "name": "python3"
  },
  "language_info": {
   "codemirror_mode": {
    "name": "ipython",
    "version": 3
   },
   "file_extension": ".py",
   "mimetype": "text/x-python",
   "name": "python",
   "nbconvert_exporter": "python",
   "pygments_lexer": "ipython3",
   "version": "3.12.7"
  }
 },
 "nbformat": 4,
 "nbformat_minor": 5
}
