{
 "cells": [
  {
   "cell_type": "markdown",
   "id": "fe4211ad-6c39-4040-81fa-37a49b87c3c4",
   "metadata": {},
   "source": [
    "# DUMMY CODE"
   ]
  },
  {
   "cell_type": "code",
   "execution_count": null,
   "id": "f9c189a1-a2c7-4a85-8716-5bd3bcb4b700",
   "metadata": {},
   "outputs": [],
   "source": [
    "import numpy as np\n",
    "from sklearn.neighbors import KNeighborsClassifier\n",
    "\n",
    "# Define the dataset\n",
    "X_train = np.array([[2.0, 3.0], [4.0, 2.0], [3.0, 5.0], [6.0, 1.0], [5.0, 3.5]])\n",
    "y_train = np.array(['A', 'B', 'A', 'B', 'A'])\n",
    "\n",
    "# Create and fit the KNN classifier\n",
    "knn_classifier = KNeighborsClassifier(n_neighbors=5)\n",
    "knn_classifier.fit(X_train, y_train)\n",
    "\n",
    "# Define the new data point\n",
    "X_new = np.array([4.5, 2.5]).reshape(1, -1)  # Reshape to (1, 2)\n",
    "\n",
    "knn_classifier.predict(X_new)"
   ]
  },
  {
   "cell_type": "markdown",
   "id": "d5c3d283-a53b-4ecd-8a6a-551dde9205fb",
   "metadata": {},
   "source": [
    "# STEPS \n",
    "##### STEP 1 :Loaded Data\n",
    "##### STEP 2 :Basic Overivew Data\n",
    "##### STEP 3 :Plotting Graphs\n",
    "##### STEP 4 :Divided into input (X) and output(Y)\n",
    "##### STEP 5 :Scaled our Data (Standard Scaler)\n",
    "##### STEP 6 :Divided into Train & Test \n",
    "##### STEP 7 :Modeling with KNN\n",
    "##### STEP 8 :K value? Elbow method\n",
    "##### STEP 9 :Evaluated our Model\n",
    "##### STEP 10:Predicting on single patient"
   ]
  },
  {
   "cell_type": "markdown",
   "id": "981e6cba-4488-4714-baa4-b2661e1ad428",
   "metadata": {},
   "source": [
    "# PROJECT"
   ]
  },
  {
   "cell_type": "code",
   "execution_count": null,
   "id": "3ab6bc36-d88a-4318-9ee6-3c437c0edd3b",
   "metadata": {},
   "outputs": [],
   "source": [
    "import numpy as np \n",
    "import pandas as pd\n",
    "import matplotlib.pyplot as plt \n",
    "import seaborn as sns"
   ]
  },
  {
   "cell_type": "code",
   "execution_count": null,
   "id": "490f6603-d7b7-4470-a695-c860937ac016",
   "metadata": {},
   "outputs": [],
   "source": [
    "df=pd.read_csv('Heart Prediction Quantum Dataset.csv')"
   ]
  },
  {
   "cell_type": "code",
   "execution_count": null,
   "id": "8039c921-eb65-4658-8dc7-a3d4dc7e60d2",
   "metadata": {},
   "outputs": [],
   "source": [
    "df"
   ]
  },
  {
   "cell_type": "code",
   "execution_count": null,
   "id": "6e034111-e27b-444a-9789-9914e4c9209e",
   "metadata": {},
   "outputs": [],
   "source": [
    "df.info()"
   ]
  },
  {
   "cell_type": "code",
   "execution_count": 27,
   "id": "c606b923-bc35-4193-b669-eac095735010",
   "metadata": {},
   "outputs": [
    {
     "data": {
      "text/html": [
       "<div>\n",
       "<style scoped>\n",
       "    .dataframe tbody tr th:only-of-type {\n",
       "        vertical-align: middle;\n",
       "    }\n",
       "\n",
       "    .dataframe tbody tr th {\n",
       "        vertical-align: top;\n",
       "    }\n",
       "\n",
       "    .dataframe thead th {\n",
       "        text-align: right;\n",
       "    }\n",
       "</style>\n",
       "<table border=\"1\" class=\"dataframe\">\n",
       "  <thead>\n",
       "    <tr style=\"text-align: right;\">\n",
       "      <th></th>\n",
       "      <th>Age</th>\n",
       "      <th>Gender</th>\n",
       "      <th>BloodPressure</th>\n",
       "      <th>Cholesterol</th>\n",
       "      <th>HeartRate</th>\n",
       "      <th>QuantumPatternFeature</th>\n",
       "      <th>HeartDisease</th>\n",
       "    </tr>\n",
       "  </thead>\n",
       "  <tbody>\n",
       "    <tr>\n",
       "      <th>count</th>\n",
       "      <td>500.000000</td>\n",
       "      <td>500.000000</td>\n",
       "      <td>500.000000</td>\n",
       "      <td>500.00000</td>\n",
       "      <td>500.000000</td>\n",
       "      <td>500.000000</td>\n",
       "      <td>500.000000</td>\n",
       "    </tr>\n",
       "    <tr>\n",
       "      <th>mean</th>\n",
       "      <td>54.864000</td>\n",
       "      <td>0.468000</td>\n",
       "      <td>132.874000</td>\n",
       "      <td>221.50000</td>\n",
       "      <td>88.766000</td>\n",
       "      <td>8.317407</td>\n",
       "      <td>0.600000</td>\n",
       "    </tr>\n",
       "    <tr>\n",
       "      <th>std</th>\n",
       "      <td>14.315004</td>\n",
       "      <td>0.499475</td>\n",
       "      <td>26.418516</td>\n",
       "      <td>43.86363</td>\n",
       "      <td>17.417289</td>\n",
       "      <td>0.919629</td>\n",
       "      <td>0.490389</td>\n",
       "    </tr>\n",
       "    <tr>\n",
       "      <th>min</th>\n",
       "      <td>30.000000</td>\n",
       "      <td>0.000000</td>\n",
       "      <td>90.000000</td>\n",
       "      <td>150.00000</td>\n",
       "      <td>60.000000</td>\n",
       "      <td>6.164692</td>\n",
       "      <td>0.000000</td>\n",
       "    </tr>\n",
       "    <tr>\n",
       "      <th>25%</th>\n",
       "      <td>43.000000</td>\n",
       "      <td>0.000000</td>\n",
       "      <td>111.000000</td>\n",
       "      <td>183.75000</td>\n",
       "      <td>73.000000</td>\n",
       "      <td>7.675779</td>\n",
       "      <td>0.000000</td>\n",
       "    </tr>\n",
       "    <tr>\n",
       "      <th>50%</th>\n",
       "      <td>55.000000</td>\n",
       "      <td>0.000000</td>\n",
       "      <td>132.000000</td>\n",
       "      <td>221.00000</td>\n",
       "      <td>89.000000</td>\n",
       "      <td>8.323064</td>\n",
       "      <td>1.000000</td>\n",
       "    </tr>\n",
       "    <tr>\n",
       "      <th>75%</th>\n",
       "      <td>66.250000</td>\n",
       "      <td>1.000000</td>\n",
       "      <td>155.000000</td>\n",
       "      <td>258.00000</td>\n",
       "      <td>104.000000</td>\n",
       "      <td>8.935999</td>\n",
       "      <td>1.000000</td>\n",
       "    </tr>\n",
       "    <tr>\n",
       "      <th>max</th>\n",
       "      <td>79.000000</td>\n",
       "      <td>1.000000</td>\n",
       "      <td>179.000000</td>\n",
       "      <td>299.00000</td>\n",
       "      <td>119.000000</td>\n",
       "      <td>10.784886</td>\n",
       "      <td>1.000000</td>\n",
       "    </tr>\n",
       "  </tbody>\n",
       "</table>\n",
       "</div>"
      ],
      "text/plain": [
       "              Age      Gender  BloodPressure  Cholesterol   HeartRate  \\\n",
       "count  500.000000  500.000000     500.000000    500.00000  500.000000   \n",
       "mean    54.864000    0.468000     132.874000    221.50000   88.766000   \n",
       "std     14.315004    0.499475      26.418516     43.86363   17.417289   \n",
       "min     30.000000    0.000000      90.000000    150.00000   60.000000   \n",
       "25%     43.000000    0.000000     111.000000    183.75000   73.000000   \n",
       "50%     55.000000    0.000000     132.000000    221.00000   89.000000   \n",
       "75%     66.250000    1.000000     155.000000    258.00000  104.000000   \n",
       "max     79.000000    1.000000     179.000000    299.00000  119.000000   \n",
       "\n",
       "       QuantumPatternFeature  HeartDisease  \n",
       "count             500.000000    500.000000  \n",
       "mean                8.317407      0.600000  \n",
       "std                 0.919629      0.490389  \n",
       "min                 6.164692      0.000000  \n",
       "25%                 7.675779      0.000000  \n",
       "50%                 8.323064      1.000000  \n",
       "75%                 8.935999      1.000000  \n",
       "max                10.784886      1.000000  "
      ]
     },
     "execution_count": 27,
     "metadata": {},
     "output_type": "execute_result"
    }
   ],
   "source": [
    "df.describe()"
   ]
  },
  {
   "cell_type": "code",
   "execution_count": 28,
   "id": "16db042f-f513-4114-935d-2d15cfad1af2",
   "metadata": {},
   "outputs": [],
   "source": [
    "import Omkar_Stats"
   ]
  },
  {
   "cell_type": "code",
   "execution_count": 32,
   "id": "5b367c80-22b3-4ff4-bfe7-e3181abb6253",
   "metadata": {},
   "outputs": [
    {
     "name": "stdout",
     "output_type": "stream",
     "text": [
      "Age\n",
      "Total Revenue 27432\n",
      "Total Count 500\n",
      "Mean 54.864\n",
      "Median 55.0\n",
      "Mode [62]\n",
      "Minimum 30\n",
      "Maximum 79\n",
      "Range 49\n",
      "Variance 204.50950399999996\n",
      "Standard Deviation 14.300681941781656\n",
      "Quartile 1 43.0\n",
      "Quartile 3 66.25\n",
      "Inter Quartile Range 23.25\n",
      "Lower Whisker 8.125\n",
      "Upper Whisker 101.125\n",
      "Skewness -0.10559629619505961\n",
      "Kurtosis -1.1105776246525663\n"
     ]
    },
    {
     "name": "stderr",
     "output_type": "stream",
     "text": [
      "D:\\Desktop\\all\\sunimpex\\Code Practice\\Omkar_Stats.py:30: FutureWarning: Unlike other reduction functions (e.g. `skew`, `kurtosis`), the default behavior of `mode` typically preserves the axis it acts along. In SciPy 1.11.0, this behavior will change: the default value of `keepdims` will become False, the `axis` over which the statistic is taken will be eliminated, and the value None will no longer be accepted. Set `keepdims` to True or False to avoid this warning.\n",
      "  mode_val,mode_count=st.mode(data)\n"
     ]
    },
    {
     "data": {
      "image/png": "[encoded data removed]",
      "text/plain": [
       "<Figure size 432x288 with 1 Axes>"
      ]
     },
     "metadata": {
      "needs_background": "light"
     },
     "output_type": "display_data"
    },
    {
     "name": "stdout",
     "output_type": "stream",
     "text": [
      "None\n",
      "Gender\n",
      "Total Revenue 234\n",
      "Total Count 500\n",
      "Mean 0.468\n",
      "Median 0.0\n",
      "Mode [0]\n",
      "Minimum 0\n",
      "Maximum 1\n",
      "Range 1\n",
      "Variance 0.24897600000000003\n",
      "Standard Deviation 0.498974949271003\n",
      "Quartile 1 0.0\n",
      "Quartile 3 1.0\n",
      "Inter Quartile Range 1.0\n",
      "Lower Whisker -1.5\n",
      "Upper Whisker 2.5\n",
      "Skewness 0.12826295206503524\n",
      "Kurtosis -1.983548615127563\n"
     ]
    },
    {
     "name": "stderr",
     "output_type": "stream",
     "text": [
      "D:\\Desktop\\all\\sunimpex\\Code Practice\\Omkar_Stats.py:30: FutureWarning: Unlike other reduction functions (e.g. `skew`, `kurtosis`), the default behavior of `mode` typically preserves the axis it acts along. In SciPy 1.11.0, this behavior will change: the default value of `keepdims` will become False, the `axis` over which the statistic is taken will be eliminated, and the value None will no longer be accepted. Set `keepdims` to True or False to avoid this warning.\n",
      "  mode_val,mode_count=st.mode(data)\n"
     ]
    },
    {
     "data": {
      "image/png": "[encoded data removed]",
      "text/plain": [
       "<Figure size 432x288 with 1 Axes>"
      ]
     },
     "metadata": {
      "needs_background": "light"
     },
     "output_type": "display_data"
    },
    {
     "name": "stdout",
     "output_type": "stream",
     "text": [
      "None\n",
      "BloodPressure\n",
      "Total Revenue 66437\n",
      "Total Count 500\n",
      "Mean 132.874\n",
      "Median 132.0\n",
      "Mode [140]\n",
      "Minimum 90\n",
      "Maximum 179\n",
      "Range 89\n",
      "Variance 696.5421240000002\n",
      "Standard Deviation 26.39208449516635\n",
      "Quartile 1 111.0\n",
      "Quartile 3 155.0\n",
      "Inter Quartile Range 44.0\n",
      "Lower Whisker 45.0\n",
      "Upper Whisker 221.0\n",
      "Skewness 0.07548811031849383\n",
      "Kurtosis -1.1760535275248203\n"
     ]
    },
    {
     "name": "stderr",
     "output_type": "stream",
     "text": [
      "D:\\Desktop\\all\\sunimpex\\Code Practice\\Omkar_Stats.py:30: FutureWarning: Unlike other reduction functions (e.g. `skew`, `kurtosis`), the default behavior of `mode` typically preserves the axis it acts along. In SciPy 1.11.0, this behavior will change: the default value of `keepdims` will become False, the `axis` over which the statistic is taken will be eliminated, and the value None will no longer be accepted. Set `keepdims` to True or False to avoid this warning.\n",
      "  mode_val,mode_count=st.mode(data)\n"
     ]
    },
    {
     "data": {
      "image/png": "[encoded data removed]",
      "text/plain": [
       "<Figure size 432x288 with 1 Axes>"
      ]
     },
     "metadata": {
      "needs_background": "light"
     },
     "output_type": "display_data"
    },
    {
     "name": "stdout",
     "output_type": "stream",
     "text": [
      "None\n",
      "Cholesterol\n",
      "Total Revenue 110750\n",
      "Total Count 500\n",
      "Mean 221.5\n",
      "Median 221.0\n",
      "Mode [161]\n",
      "Minimum 150\n",
      "Maximum 299\n",
      "Range 149\n",
      "Variance 1920.17\n",
      "Standard Deviation 43.819744408200286\n",
      "Quartile 1 183.75\n",
      "Quartile 3 258.0\n",
      "Inter Quartile Range 74.25\n",
      "Lower Whisker 72.375\n",
      "Upper Whisker 369.375\n",
      "Skewness 0.09603709914485536\n",
      "Kurtosis -1.2268671684722114\n"
     ]
    },
    {
     "name": "stderr",
     "output_type": "stream",
     "text": [
      "D:\\Desktop\\all\\sunimpex\\Code Practice\\Omkar_Stats.py:30: FutureWarning: Unlike other reduction functions (e.g. `skew`, `kurtosis`), the default behavior of `mode` typically preserves the axis it acts along. In SciPy 1.11.0, this behavior will change: the default value of `keepdims` will become False, the `axis` over which the statistic is taken will be eliminated, and the value None will no longer be accepted. Set `keepdims` to True or False to avoid this warning.\n",
      "  mode_val,mode_count=st.mode(data)\n"
     ]
    },
    {
     "data": {
      "image/png": "[encoded data removed]",
      "text/plain": [
       "<Figure size 432x288 with 1 Axes>"
      ]
     },
     "metadata": {
      "needs_background": "light"
     },
     "output_type": "display_data"
    },
    {
     "name": "stdout",
     "output_type": "stream",
     "text": [
      "None\n",
      "HeartRate\n",
      "Total Revenue 44383\n",
      "Total Count 500\n",
      "Mean 88.766\n",
      "Median 89.0\n",
      "Mode [103]\n",
      "Minimum 60\n",
      "Maximum 119\n",
      "Range 59\n",
      "Variance 302.75524399999983\n",
      "Standard Deviation 17.399863332796606\n",
      "Quartile 1 73.0\n",
      "Quartile 3 104.0\n",
      "Inter Quartile Range 31.0\n",
      "Lower Whisker 26.5\n",
      "Upper Whisker 150.5\n",
      "Skewness -0.003964199458562421\n",
      "Kurtosis -1.232195305704595\n"
     ]
    },
    {
     "name": "stderr",
     "output_type": "stream",
     "text": [
      "D:\\Desktop\\all\\sunimpex\\Code Practice\\Omkar_Stats.py:30: FutureWarning: Unlike other reduction functions (e.g. `skew`, `kurtosis`), the default behavior of `mode` typically preserves the axis it acts along. In SciPy 1.11.0, this behavior will change: the default value of `keepdims` will become False, the `axis` over which the statistic is taken will be eliminated, and the value None will no longer be accepted. Set `keepdims` to True or False to avoid this warning.\n",
      "  mode_val,mode_count=st.mode(data)\n"
     ]
    },
    {
     "data": {
      "image/png": "[encoded data removed]",
      "text/plain": [
       "<Figure size 432x288 with 1 Axes>"
      ]
     },
     "metadata": {
      "needs_background": "light"
     },
     "output_type": "display_data"
    },
    {
     "name": "stdout",
     "output_type": "stream",
     "text": [
      "None\n",
      "QuantumPatternFeature\n",
      "Total Revenue 4158.703722397006\n",
      "Total Count 500\n",
      "Mean 8.31740744479401\n",
      "Median 8.323063611\n",
      "Mode [6.1646921]\n",
      "Minimum 6.164692103\n",
      "Maximum 10.78488616\n",
      "Range 4.620194056999999\n",
      "Variance 0.8440259223100857\n",
      "Standard Deviation 0.9187088343485578\n",
      "Quartile 1 7.6757793145\n",
      "Quartile 3 8.93599865975\n",
      "Inter Quartile Range 1.2602193452500003\n",
      "Lower Whisker 5.785450296624999\n",
      "Upper Whisker 10.826327677625\n",
      "Skewness 0.0756232707661455\n",
      "Kurtosis -0.40449707136054247\n"
     ]
    },
    {
     "name": "stderr",
     "output_type": "stream",
     "text": [
      "D:\\Desktop\\all\\sunimpex\\Code Practice\\Omkar_Stats.py:30: FutureWarning: Unlike other reduction functions (e.g. `skew`, `kurtosis`), the default behavior of `mode` typically preserves the axis it acts along. In SciPy 1.11.0, this behavior will change: the default value of `keepdims` will become False, the `axis` over which the statistic is taken will be eliminated, and the value None will no longer be accepted. Set `keepdims` to True or False to avoid this warning.\n",
      "  mode_val,mode_count=st.mode(data)\n"
     ]
    },
    {
     "data": {
      "image/png": "[encoded data removed]",
      "text/plain": [
       "<Figure size 432x288 with 1 Axes>"
      ]
     },
     "metadata": {
      "needs_background": "light"
     },
     "output_type": "display_data"
    },
    {
     "name": "stdout",
     "output_type": "stream",
     "text": [
      "None\n",
      "HeartDisease\n",
      "Total Revenue 300\n",
      "Total Count 500\n",
      "Mean 0.6\n",
      "Median 1.0\n",
      "Mode [1]\n",
      "Minimum 0\n",
      "Maximum 1\n",
      "Range 1\n",
      "Variance 0.2399999999999983\n",
      "Standard Deviation 0.4898979485566339\n",
      "Quartile 1 0.0\n",
      "Quartile 3 1.0\n",
      "Inter Quartile Range 1.0\n",
      "Lower Whisker -1.5\n",
      "Upper Whisker 2.5\n",
      "Skewness -0.40824829046386296\n",
      "Kurtosis -1.833333333333333\n"
     ]
    },
    {
     "name": "stderr",
     "output_type": "stream",
     "text": [
      "D:\\Desktop\\all\\sunimpex\\Code Practice\\Omkar_Stats.py:30: FutureWarning: Unlike other reduction functions (e.g. `skew`, `kurtosis`), the default behavior of `mode` typically preserves the axis it acts along. In SciPy 1.11.0, this behavior will change: the default value of `keepdims` will become False, the `axis` over which the statistic is taken will be eliminated, and the value None will no longer be accepted. Set `keepdims` to True or False to avoid this warning.\n",
      "  mode_val,mode_count=st.mode(data)\n"
     ]
    },
    {
     "data": {
      "image/png": "[encoded data removed]",
      "text/plain": [
       "<Figure size 432x288 with 1 Axes>"
      ]
     },
     "metadata": {
      "needs_background": "light"
     },
     "output_type": "display_data"
    },
    {
     "name": "stdout",
     "output_type": "stream",
     "text": [
      "None\n"
     ]
    }
   ],
   "source": [
    "for i in df.columns:\n",
    "    print(i)\n",
    "    print(Omkar_Stats.cal_stats(df[i]))"
   ]
  },
  {
   "cell_type": "code",
   "execution_count": null,
   "id": "2803a17a-59f3-4125-abe8-17488bf67098",
   "metadata": {},
   "outputs": [],
   "source": [
    "sns.countplot(data=df,x='Gender')\n",
    "plt.title('Gender Countplot')\n",
    "plt.show()"
   ]
  },
  {
   "cell_type": "code",
   "execution_count": null,
   "id": "3c2210f2-6c6b-49dd-a383-2b762c4a06a9",
   "metadata": {},
   "outputs": [],
   "source": [
    "sns.countplot(data=df,x='HeartDisease')\n",
    "plt.title('Gender Countplot')\n",
    "plt.show()"
   ]
  },
  {
   "cell_type": "code",
   "execution_count": null,
   "id": "20b162c6-4650-4685-9924-dbed05c6dfa9",
   "metadata": {},
   "outputs": [],
   "source": [
    "for i in ['Age',  'BloodPressure', 'Cholesterol', 'HeartRate','QuantumPatternFeature']:\n",
    "    print(i)\n",
    "    sns.displot(df[i])\n",
    "    plt.show()"
   ]
  },
  {
   "cell_type": "code",
   "execution_count": null,
   "id": "2adbf655-8e8d-4852-a8bb-def8551afe8b",
   "metadata": {},
   "outputs": [],
   "source": [
    "for i in ['Age',  'BloodPressure', 'Cholesterol', 'HeartRate','QuantumPatternFeature']:\n",
    "    print(i)\n",
    "    sns.boxplot(df[i])\n",
    "    plt.show()"
   ]
  },
  {
   "cell_type": "code",
   "execution_count": 33,
   "id": "b379f67e-c680-48a0-b9bd-9d49f18347c5",
   "metadata": {},
   "outputs": [],
   "source": [
    "from sklearn.model_selection import train_test_split"
   ]
  },
  {
   "cell_type": "code",
   "execution_count": 86,
   "id": "89125b7d-e78f-4114-ab20-a307d83ecdbd",
   "metadata": {},
   "outputs": [],
   "source": [
    "X=df.drop('HeartDisease',axis=1)\n",
    "y=df['HeartDisease']"
   ]
  },
  {
   "cell_type": "code",
   "execution_count": 108,
   "id": "39620c38-cb89-4ec4-b896-fb152eb07474",
   "metadata": {},
   "outputs": [
    {
     "name": "stdout",
     "output_type": "stream",
     "text": [
      "Age 54.864\n",
      "Gender 0.468\n",
      "BloodPressure 132.874\n",
      "Cholesterol 221.5\n",
      "HeartRate 88.766\n",
      "QuantumPatternFeature 8.317407444794\n",
      "HeartDisease 0.6\n"
     ]
    }
   ],
   "source": [
    "for i in df.columns:\n",
    "    print(i,df[i].mean())"
   ]
  },
  {
   "cell_type": "code",
   "execution_count": 87,
   "id": "f904b27a-6ff0-4423-bb19-f85ed8e73c27",
   "metadata": {},
   "outputs": [],
   "source": [
    "#STANDARD NORMAL DISTRIBUTION?\n",
    "#mean=0\n",
    "#var=1\n",
    "#SCALING FEATURES\n",
    "from sklearn.preprocessing import StandardScaler"
   ]
  },
  {
   "cell_type": "code",
   "execution_count": 89,
   "id": "fdc7a555-6c4e-4425-bf7e-877c426b3058",
   "metadata": {},
   "outputs": [],
   "source": [
    "ss=StandardScaler()\n",
    "X=ss.fit_transform(X)"
   ]
  },
  {
   "cell_type": "code",
   "execution_count": 109,
   "id": "d0581239-c703-46d9-84af-98afdc351f63",
   "metadata": {},
   "outputs": [
    {
     "name": "stdout",
     "output_type": "stream",
     "text": [
      "Age 2.0250467969162856e-16\n",
      "Gender -2.1316282072803006e-17\n",
      "BloodPressure 1.7763568394002506e-16\n",
      "Cholesterol 3.552713678800501e-18\n",
      "HeartRate -2.8332891588433995e-16\n",
      "QuantumPatternFeature -5.684341886080802e-17\n"
     ]
    }
   ],
   "source": [
    "X=pd.DataFrame(data=X,columns=['Age','Gender','BloodPressure','Cholesterol','HeartRate','QuantumPatternFeature'])\n",
    "for i in X.columns:\n",
    "    print(i,X[i].mean())\n",
    "\n"
   ]
  },
  {
   "cell_type": "code",
   "execution_count": 100,
   "id": "426ed6aa-fef3-40af-bae3-86313407bc55",
   "metadata": {},
   "outputs": [],
   "source": [
    "X_train, X_test, y_train, y_test = train_test_split(X, y, test_size=0.33, random_state=42)"
   ]
  },
  {
   "cell_type": "code",
   "execution_count": 101,
   "id": "f95f2886-b999-4fbe-a288-f92f47a57d4a",
   "metadata": {},
   "outputs": [],
   "source": [
    "from sklearn.neighbors import KNeighborsClassifier"
   ]
  },
  {
   "cell_type": "code",
   "execution_count": 118,
   "id": "3a8a9aff-bf90-4ff2-b7c9-2a80a37675d3",
   "metadata": {},
   "outputs": [],
   "source": [
    "knn=KNeighborsClassifier(n_neighbors=18)"
   ]
  },
  {
   "cell_type": "code",
   "execution_count": 119,
   "id": "f583f8e1-627a-462c-82bb-c1b28c5874a7",
   "metadata": {},
   "outputs": [
    {
     "data": {
      "text/html": [
       "<style>#sk-container-id-8 {color: black;}#sk-container-id-8 pre{padding: 0;}#sk-container-id-8 div.sk-toggleable {background-color: white;}#sk-container-id-8 label.sk-toggleable__label {cursor: pointer;display: block;width: 100%;margin-bottom: 0;padding: 0.3em;box-sizing: border-box;text-align: center;}#sk-container-id-8 label.sk-toggleable__label-arrow:before {content: \"▸\";float: left;margin-right: 0.25em;color: #696969;}#sk-container-id-8 label.sk-toggleable__label-arrow:hover:before {color: black;}#sk-container-id-8 div.sk-estimator:hover label.sk-toggleable__label-arrow:before {color: black;}#sk-container-id-8 div.sk-toggleable__content {max-height: 0;max-width: 0;overflow: hidden;text-align: left;background-color: #f0f8ff;}#sk-container-id-8 div.sk-toggleable__content pre {margin: 0.2em;color: black;border-radius: 0.25em;background-color: #f0f8ff;}#sk-container-id-8 input.sk-toggleable__control:checked~div.sk-toggleable__content {max-height: 200px;max-width: 100%;overflow: auto;}#sk-container-id-8 input.sk-toggleable__control:checked~label.sk-toggleable__label-arrow:before {content: \"▾\";}#sk-container-id-8 div.sk-estimator input.sk-toggleable__control:checked~label.sk-toggleable__label {background-color: #d4ebff;}#sk-container-id-8 div.sk-label input.sk-toggleable__control:checked~label.sk-toggleable__label {background-color: #d4ebff;}#sk-container-id-8 input.sk-hidden--visually {border: 0;clip: rect(1px 1px 1px 1px);clip: rect(1px, 1px, 1px, 1px);height: 1px;margin: -1px;overflow: hidden;padding: 0;position: absolute;width: 1px;}#sk-container-id-8 div.sk-estimator {font-family: monospace;background-color: #f0f8ff;border: 1px dotted black;border-radius: 0.25em;box-sizing: border-box;margin-bottom: 0.5em;}#sk-container-id-8 div.sk-estimator:hover {background-color: #d4ebff;}#sk-container-id-8 div.sk-parallel-item::after {content: \"\";width: 100%;border-bottom: 1px solid gray;flex-grow: 1;}#sk-container-id-8 div.sk-label:hover label.sk-toggleable__label {background-color: #d4ebff;}#sk-container-id-8 div.sk-serial::before {content: \"\";position: absolute;border-left: 1px solid gray;box-sizing: border-box;top: 0;bottom: 0;left: 50%;z-index: 0;}#sk-container-id-8 div.sk-serial {display: flex;flex-direction: column;align-items: center;background-color: white;padding-right: 0.2em;padding-left: 0.2em;position: relative;}#sk-container-id-8 div.sk-item {position: relative;z-index: 1;}#sk-container-id-8 div.sk-parallel {display: flex;align-items: stretch;justify-content: center;background-color: white;position: relative;}#sk-container-id-8 div.sk-item::before, #sk-container-id-8 div.sk-parallel-item::before {content: \"\";position: absolute;border-left: 1px solid gray;box-sizing: border-box;top: 0;bottom: 0;left: 50%;z-index: -1;}#sk-container-id-8 div.sk-parallel-item {display: flex;flex-direction: column;z-index: 1;position: relative;background-color: white;}#sk-container-id-8 div.sk-parallel-item:first-child::after {align-self: flex-end;width: 50%;}#sk-container-id-8 div.sk-parallel-item:last-child::after {align-self: flex-start;width: 50%;}#sk-container-id-8 div.sk-parallel-item:only-child::after {width: 0;}#sk-container-id-8 div.sk-dashed-wrapped {border: 1px dashed gray;margin: 0 0.4em 0.5em 0.4em;box-sizing: border-box;padding-bottom: 0.4em;background-color: white;}#sk-container-id-8 div.sk-label label {font-family: monospace;font-weight: bold;display: inline-block;line-height: 1.2em;}#sk-container-id-8 div.sk-label-container {text-align: center;}#sk-container-id-8 div.sk-container {/* jupyter's `normalize.less` sets `[hidden] { display: none; }` but bootstrap.min.css set `[hidden] { display: none !important; }` so we also need the `!important` here to be able to override the default hidden behavior on the sphinx rendered scikit-learn.org. See: https://github.com/scikit-learn/scikit-learn/issues/21755 */display: inline-block !important;position: relative;}#sk-container-id-8 div.sk-text-repr-fallback {display: none;}</style><div id=\"sk-container-id-8\" class=\"sk-top-container\"><div class=\"sk-text-repr-fallback\"><pre>KNeighborsClassifier(n_neighbors=18)</pre><b>In a Jupyter environment, please rerun this cell to show the HTML representation or trust the notebook. <br />On GitHub, the HTML representation is unable to render, please try loading this page with nbviewer.org.</b></div><div class=\"sk-container\" hidden><div class=\"sk-item\"><div class=\"sk-estimator sk-toggleable\"><input class=\"sk-toggleable__control sk-hidden--visually\" id=\"sk-estimator-id-8\" type=\"checkbox\" checked><label for=\"sk-estimator-id-8\" class=\"sk-toggleable__label sk-toggleable__label-arrow\">KNeighborsClassifier</label><div class=\"sk-toggleable__content\"><pre>KNeighborsClassifier(n_neighbors=18)</pre></div></div></div></div></div>"
      ],
      "text/plain": [
       "KNeighborsClassifier(n_neighbors=18)"
      ]
     },
     "execution_count": 119,
     "metadata": {},
     "output_type": "execute_result"
    }
   ],
   "source": [
    "knn.fit(X_train,y_train)"
   ]
  },
  {
   "cell_type": "code",
   "execution_count": 120,
   "id": "7bc9a6fe-99f5-4395-9f19-434da7247d78",
   "metadata": {},
   "outputs": [],
   "source": [
    "y_pred_train=knn.predict(X_train)\n",
    "y_pred_test=knn.predict(X_test)"
   ]
  },
  {
   "cell_type": "code",
   "execution_count": 121,
   "id": "41768182-a400-42d3-8ff3-d91aba091747",
   "metadata": {},
   "outputs": [],
   "source": [
    "from sklearn.metrics import classification_report"
   ]
  },
  {
   "cell_type": "code",
   "execution_count": 122,
   "id": "d03e131c-eec6-4dff-acda-2ab4e05e8dea",
   "metadata": {},
   "outputs": [
    {
     "name": "stdout",
     "output_type": "stream",
     "text": [
      "              precision    recall  f1-score   support\n",
      "\n",
      "           0       0.88      0.86      0.87       134\n",
      "           1       0.91      0.92      0.91       201\n",
      "\n",
      "    accuracy                           0.90       335\n",
      "   macro avg       0.89      0.89      0.89       335\n",
      "weighted avg       0.90      0.90      0.90       335\n",
      "\n"
     ]
    }
   ],
   "source": [
    "print(classification_report(y_train,y_pred_train))"
   ]
  },
  {
   "cell_type": "code",
   "execution_count": 123,
   "id": "175abdd5-d7da-436b-ba2d-e0ec5a969f52",
   "metadata": {},
   "outputs": [
    {
     "name": "stdout",
     "output_type": "stream",
     "text": [
      "              precision    recall  f1-score   support\n",
      "\n",
      "           0       0.85      0.85      0.85        66\n",
      "           1       0.90      0.90      0.90        99\n",
      "\n",
      "    accuracy                           0.88       165\n",
      "   macro avg       0.87      0.87      0.87       165\n",
      "weighted avg       0.88      0.88      0.88       165\n",
      "\n"
     ]
    }
   ],
   "source": [
    "print(classification_report(y_test,y_pred_test))"
   ]
  },
  {
   "cell_type": "code",
   "execution_count": 116,
   "id": "9bf1c286-5bd1-45ee-bf2a-b78f11681586",
   "metadata": {},
   "outputs": [],
   "source": [
    "#list to save all errors\n",
    "error_rates=[]\n",
    "\n",
    "#for loop to try different k values\n",
    "for i in range(1,36):\n",
    "    \n",
    "    knn=KNeighborsClassifier(n_neighbors=i)#making model\n",
    "    knn.fit(X_train,y_train) #fitting training data \n",
    "    y_pred_test=knn.predict(X_test) #predicting on testing data\n",
    "    error=np.mean(y_pred_test!=y_test) #calculating error\n",
    "    error_rates.append(error) #adding that error to error_rates"
   ]
  },
  {
   "cell_type": "code",
   "execution_count": 117,
   "id": "26a35dd1-fe09-4e14-95df-9e4558efabd4",
   "metadata": {},
   "outputs": [
    {
     "data": {
      "image/png": "[encoded data removed]",
      "text/plain": [
       "<Figure size 720x432 with 1 Axes>"
      ]
     },
     "metadata": {
      "needs_background": "light"
     },
     "output_type": "display_data"
    }
   ],
   "source": [
    "# ELBOW METHOD\n",
    "plt.figure(figsize=(10,6))\n",
    "plt.plot(range(1,36),error_rates,marker='o', linestyle='--')\n",
    "plt.title('Error Rate vs K value')\n",
    "plt.xlabel('K')\n",
    "plt.ylabel('Error')\n",
    "plt.show()"
   ]
  },
  {
   "cell_type": "code",
   "execution_count": 127,
   "id": "394815e4-e08d-497c-a78a-1fc5594f3c9b",
   "metadata": {},
   "outputs": [
    {
     "name": "stdin",
     "output_type": "stream",
     "text": [
      "Please enter age here 22\n",
      "Please enter gender here 0\n",
      "Please enter blood pressure here 50\n",
      "Please enter Cholesterol here 50\n",
      "Please enter HeartRate here 50\n",
      "Please enter QuantumPatternFeature here 40\n"
     ]
    },
    {
     "name": "stdout",
     "output_type": "stream",
     "text": [
      "Hooray! You dont have heart disease\n"
     ]
    },
    {
     "name": "stderr",
     "output_type": "stream",
     "text": [
      "c:\\users\\admin\\anaconda3\\lib\\site-packages\\sklearn\\base.py:465: UserWarning: X does not have valid feature names, but KNeighborsClassifier was fitted with feature names\n",
      "  warnings.warn(\n"
     ]
    }
   ],
   "source": [
    "Age=int(input('Please enter age here'))\n",
    "Gender=int(input('Please enter gender here'))\n",
    "BloodPressure=int(input('Please enter blood pressure here'))\n",
    "Cholesterol=int(input('Please enter Cholesterol here'))\n",
    "HeartRate=int(input('Please enter HeartRate here'))\n",
    "QuantumPatternFeature=int(input('Please enter QuantumPatternFeature here'))\n",
    "\n",
    "user_input=np.array([Age,Gender,BloodPressure,Cholesterol,HeartRate,QuantumPatternFeature]).reshape(1,-1)\n",
    "\n",
    "if knn.predict(user_input)==0:\n",
    "    print('Hooray! You dont have heart disease')\n",
    "else:\n",
    "    print('Oops! Sorry You have heart disease')"
   ]
  },
  {
   "cell_type": "code",
   "execution_count": null,
   "id": "c3b085df-2700-403b-b637-ffee4459d423",
   "metadata": {},
   "outputs": [],
   "source": []
  }
 ],
 "metadata": {
  "kernelspec": {
   "display_name": "Python 3 (ipykernel)",
   "language": "python",
   "name": "python3"
  },
  "language_info": {
   "codemirror_mode": {
    "name": "ipython",
    "version": 3
   },
   "file_extension": ".py",
   "mimetype": "text/x-python",
   "name": "python",
   "nbconvert_exporter": "python",
   "pygments_lexer": "ipython3",
   "version": "3.8.11"
  }
 },
 "nbformat": 4,
 "nbformat_minor": 5
}
