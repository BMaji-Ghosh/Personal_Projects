{
 "cells": [
  {
   "cell_type": "code",
   "execution_count": 17,
   "id": "3eb12a5f",
   "metadata": {},
   "outputs": [
    {
     "name": "stdout",
     "output_type": "stream",
     "text": [
      "['green', 'yellow', 'blue', 'white', 'Orange']\n"
     ]
    }
   ],
   "source": [
    "colors=['red','green','yellow','blue','white']\n",
    "\n",
    "colors.append('Orange')\n",
    "colors\n",
    "colors.remove('red')\n",
    "colors\n",
    "print(colors[::])"
   ]
  },
  {
   "cell_type": "code",
   "execution_count": 18,
   "id": "4bccbb06",
   "metadata": {},
   "outputs": [
    {
     "name": "stdout",
     "output_type": "stream",
     "text": [
      "['yellow']\n"
     ]
    }
   ],
   "source": [
    "print(colors[1:2])"
   ]
  },
  {
   "cell_type": "code",
   "execution_count": 19,
   "id": "1196b584",
   "metadata": {},
   "outputs": [
    {
     "name": "stdout",
     "output_type": "stream",
     "text": [
      "['Orange', 'white', 'blue', 'yellow', 'green']\n"
     ]
    }
   ],
   "source": [
    "print(colors[::-1])"
   ]
  },
  {
   "cell_type": "code",
   "execution_count": 20,
   "id": "074cc8d7",
   "metadata": {},
   "outputs": [
    {
     "name": "stdout",
     "output_type": "stream",
     "text": [
      "None\n"
     ]
    },
    {
     "data": {
      "text/plain": [
       "['green', 'yellow', 'olive', 'blue', 'white', 'Orange']"
      ]
     },
     "execution_count": 20,
     "metadata": {},
     "output_type": "execute_result"
    }
   ],
   "source": [
    "print(colors.insert(2,\"olive\"))\n",
    "colors"
   ]
  },
  {
   "cell_type": "code",
   "execution_count": 21,
   "id": "39ea1f66",
   "metadata": {},
   "outputs": [
    {
     "data": {
      "text/plain": [
       "['green', 'yellow', 'green', 'blue', 'white', 'Orange']"
      ]
     },
     "execution_count": 21,
     "metadata": {},
     "output_type": "execute_result"
    }
   ],
   "source": [
    "colors[2]='green'\n",
    "colors"
   ]
  },
  {
   "cell_type": "code",
   "execution_count": 22,
   "id": "01e77d42",
   "metadata": {},
   "outputs": [
    {
     "data": {
      "text/plain": [
       "('green', 'yellow', 'olive', 'olive', 'olive', 'blue', 'white', 'Orange')"
      ]
     },
     "execution_count": 22,
     "metadata": {},
     "output_type": "execute_result"
    }
   ],
   "source": [
    "#tuple\n",
    "x=('green', 'yellow', 'olive', 'olive', 'olive', 'blue', 'white', 'Orange')\n",
    "x\n"
   ]
  },
  {
   "cell_type": "code",
   "execution_count": null,
   "id": "6b10a7cf",
   "metadata": {},
   "outputs": [],
   "source": []
  },
  {
   "cell_type": "code",
   "execution_count": 24,
   "id": "7ba88321",
   "metadata": {},
   "outputs": [
    {
     "data": {
      "text/plain": [
       "<StringArray>\n",
       "['green', 'yellow', 'olive', 'olive', 'olive', 'blue', 'white', 'Orange']\n",
       "Length: 8, dtype: string"
      ]
     },
     "execution_count": 24,
     "metadata": {},
     "output_type": "execute_result"
    }
   ],
   "source": [
    "import pandas as pd\n",
    "y=pd.array(['green', 'yellow', 'olive', 'olive', 'olive', 'blue', 'white', 'Orange'])\n",
    "y"
   ]
  },
  {
   "cell_type": "code",
   "execution_count": 31,
   "id": "99309c11",
   "metadata": {},
   "outputs": [
    {
     "name": "stdout",
     "output_type": "stream",
     "text": [
      "<IntegerArray>\n",
      "[5, 7, 9]\n",
      "Length: 3, dtype: Int64\n"
     ]
    }
   ],
   "source": [
    "x=pd.array([2,3,4])\n",
    "y=pd.array([3,4,5])\n",
    "\n",
    "print(x+y)"
   ]
  },
  {
   "cell_type": "code",
   "execution_count": 38,
   "id": "760a4ff0",
   "metadata": {},
   "outputs": [
    {
     "name": "stdout",
     "output_type": "stream",
     "text": [
      "[12, 12, 422, 23423, 424, 234, 42, 77, 56, 6, 46, 4, 2324, 4354, 113]\n",
      "[12, 422, 424, 42, 56, 46, 2324, 113]\n",
      "[113, 56, 422]\n",
      "[12, 422, 424, 42, 56, 46, 2324, 113]\n"
     ]
    }
   ],
   "source": [
    "#operations in list\n",
    "ex=[113,4354,2324,4,46,6,56,77,42,234,424,23423,422,12,12]\n",
    "print(ex[::-1])\n",
    "\n",
    "ex=ex[::-2]\n",
    "print(ex)\n",
    "\n",
    "print(ex[::-3])\n",
    "print(ex)"
   ]
  },
  {
   "cell_type": "code",
   "execution_count": null,
   "id": "0440a296",
   "metadata": {},
   "outputs": [],
   "source": []
  }
 ],
 "metadata": {
  "kernelspec": {
   "display_name": "Python 3",
   "language": "python",
   "name": "python3"
  },
  "language_info": {
   "codemirror_mode": {
    "name": "ipython",
    "version": 3
   },
   "file_extension": ".py",
   "mimetype": "text/x-python",
   "name": "python",
   "nbconvert_exporter": "python",
   "pygments_lexer": "ipython3",
   "version": "3.13.1"
  }
 },
 "nbformat": 4,
 "nbformat_minor": 5
}
