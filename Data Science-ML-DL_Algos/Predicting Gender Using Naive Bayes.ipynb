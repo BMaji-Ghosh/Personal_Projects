{
 "cells": [
  {
   "cell_type": "code",
   "execution_count": 62,
   "id": "30241343-94cb-4e5b-8835-314022c4672e",
   "metadata": {},
   "outputs": [],
   "source": [
    "import numpy as np\n",
    "import pandas as pd\n",
    "import matplotlib.pyplot as plt\n",
    "import seaborn as sns"
   ]
  },
  {
   "cell_type": "code",
   "execution_count": 63,
   "id": "b4128054-3f6a-4e9f-9b48-82563baadc82",
   "metadata": {},
   "outputs": [],
   "source": [
    "df=pd.read_csv('gender_classification_v7.csv')"
   ]
  },
  {
   "cell_type": "code",
   "execution_count": null,
   "id": "5d670e01-d2cb-4890-ad54-4b345a543dc1",
   "metadata": {},
   "outputs": [],
   "source": [
    "df.info()"
   ]
  },
  {
   "cell_type": "code",
   "execution_count": null,
   "id": "609e0c0a-8abc-4828-b67b-9362a88b5c96",
   "metadata": {},
   "outputs": [],
   "source": [
    "df.describe()"
   ]
  },
  {
   "cell_type": "code",
   "execution_count": null,
   "id": "f99f7e3d-90c9-40ad-ae3f-1c8074d7b25f",
   "metadata": {},
   "outputs": [],
   "source": [
    "df.head(3)"
   ]
  },
  {
   "cell_type": "code",
   "execution_count": null,
   "id": "27a5d885-5c66-4881-a33f-4bb99eebeb5d",
   "metadata": {},
   "outputs": [],
   "source": [
    "df.tail(3)"
   ]
  },
  {
   "cell_type": "code",
   "execution_count": null,
   "id": "df2018eb-19fa-49f2-84a7-ea93cad3be5c",
   "metadata": {},
   "outputs": [],
   "source": [
    "from sklearn.preprocessing import LabelEncoder"
   ]
  },
  {
   "cell_type": "code",
   "execution_count": null,
   "id": "bbc703f0-5b97-45bf-abea-f98c12cad98f",
   "metadata": {},
   "outputs": [],
   "source": [
    "le=LabelEncoder()\n",
    "df['gender']=le.fit_transform(df['gender'])"
   ]
  },
  {
   "cell_type": "code",
   "execution_count": null,
   "id": "36e58d8a-fcc4-4483-924c-9d37b70d37ff",
   "metadata": {},
   "outputs": [],
   "source": [
    "import Omkar_Stats"
   ]
  },
  {
   "cell_type": "code",
   "execution_count": null,
   "id": "7d32b21b-adca-4ee5-8723-ea70db4043da",
   "metadata": {},
   "outputs": [],
   "source": [
    "for i in df.columns:\n",
    "    print(i)\n",
    "    Omkar_Stats.cal_stats(df[i])\n",
    "    print('-'*40)"
   ]
  },
  {
   "cell_type": "code",
   "execution_count": null,
   "id": "a1ccbcc4-a416-473a-af8f-d4e05a4c5b34",
   "metadata": {},
   "outputs": [],
   "source": [
    "#df['long_hair'].fillna(df['long_hair'].mean())"
   ]
  },
  {
   "cell_type": "code",
   "execution_count": null,
   "id": "ef2f121b-3b84-4577-9569-310895c43e03",
   "metadata": {},
   "outputs": [],
   "source": [
    "df.isnull().sum()"
   ]
  },
  {
   "cell_type": "code",
   "execution_count": null,
   "id": "28b3b2fd-169e-4290-b51a-f14a896cc448",
   "metadata": {},
   "outputs": [],
   "source": [
    "df.columns"
   ]
  },
  {
   "cell_type": "code",
   "execution_count": null,
   "id": "1c456aa6-b2d3-4415-88e9-ce2f9e1c98b7",
   "metadata": {},
   "outputs": [],
   "source": [
    "sns.pairplot(df[['forehead_width_cm', 'forehead_height_cm']])"
   ]
  },
  {
   "cell_type": "code",
   "execution_count": null,
   "id": "2381b1c1-c071-40b5-a2e8-e181fd02e216",
   "metadata": {},
   "outputs": [],
   "source": [
    "for i in df.drop(['forehead_width_cm', 'forehead_height_cm'],axis=1).columns:\n",
    "    print(i)\n",
    "    sns.countplot(data=df,x=i)\n",
    "    plt.show()"
   ]
  },
  {
   "cell_type": "code",
   "execution_count": null,
   "id": "9c330039-dfb4-40ac-9277-405660c46b61",
   "metadata": {},
   "outputs": [],
   "source": [
    "sns.heatmap(df.corr(),annot=True,vmin=-1,vmax=1,cmap='coolwarm')\n",
    "plt.show()"
   ]
  },
  {
   "cell_type": "code",
   "execution_count": null,
   "id": "3c9c043e-41ea-469e-8e43-cf7365cb64cb",
   "metadata": {},
   "outputs": [],
   "source": [
    "X=df.drop('gender',axis=1)\n",
    "y=df['gender']"
   ]
  },
  {
   "cell_type": "code",
   "execution_count": null,
   "id": "49619280-2a71-4b72-acf0-9391f3d24947",
   "metadata": {},
   "outputs": [],
   "source": [
    "from sklearn.preprocessing import StandardScaler\n",
    "ss=StandardScaler()\n",
    "X=ss.fit_transform(X)\n",
    "\n",
    "#data --> mean=0 & std dev=1"
   ]
  },
  {
   "cell_type": "code",
   "execution_count": null,
   "id": "e6247c80-ba3c-4a50-8d30-f33e2e7d3ab6",
   "metadata": {},
   "outputs": [],
   "source": [
    "from sklearn.model_selection import train_test_split"
   ]
  },
  {
   "cell_type": "code",
   "execution_count": null,
   "id": "aa083c34-687b-4225-a0c4-06fefa7d8793",
   "metadata": {},
   "outputs": [],
   "source": [
    "X_train, X_test, y_train, y_test = train_test_split(X, y, test_size=0.20, random_state=100)"
   ]
  },
  {
   "cell_type": "code",
   "execution_count": null,
   "id": "ff4d3938-f0e5-4039-98ad-fcca39935a25",
   "metadata": {},
   "outputs": [],
   "source": [
    "len(X_train)"
   ]
  },
  {
   "cell_type": "code",
   "execution_count": null,
   "id": "5ef68ebc-a81f-4cdf-9458-fdc2cc7a0f18",
   "metadata": {},
   "outputs": [],
   "source": [
    "len(X_test)"
   ]
  },
  {
   "cell_type": "code",
   "execution_count": null,
   "id": "6945e798-b41c-481b-b815-5f2cddcef184",
   "metadata": {},
   "outputs": [],
   "source": [
    "from sklearn.naive_bayes import GaussianNB"
   ]
  },
  {
   "cell_type": "code",
   "execution_count": null,
   "id": "1609669f-6586-45ec-a1c4-224913c0ccbc",
   "metadata": {},
   "outputs": [],
   "source": [
    "model=GaussianNB()"
   ]
  },
  {
   "cell_type": "code",
   "execution_count": null,
   "id": "7ec75d88-89ea-4ed5-b69a-a30f3fa53b04",
   "metadata": {},
   "outputs": [],
   "source": [
    "model.fit(X_train,y_train)"
   ]
  },
  {
   "cell_type": "code",
   "execution_count": null,
   "id": "9f88a0ae-b6d0-455f-86d6-0cf0fa0500b6",
   "metadata": {},
   "outputs": [],
   "source": [
    "y_train_pred=model.predict(X_train)"
   ]
  },
  {
   "cell_type": "code",
   "execution_count": null,
   "id": "809ea28f-591a-4750-b684-07a00b6ada8e",
   "metadata": {},
   "outputs": [],
   "source": [
    "y_test_pred=model.predict(X_test)"
   ]
  },
  {
   "cell_type": "code",
   "execution_count": null,
   "id": "be47e254-63d8-44c1-8e75-79ee592644e6",
   "metadata": {},
   "outputs": [],
   "source": [
    "from sklearn.metrics import classification_report"
   ]
  },
  {
   "cell_type": "code",
   "execution_count": null,
   "id": "8428a7f9-f80e-468c-a6cf-f8c0159209ad",
   "metadata": {},
   "outputs": [],
   "source": [
    "print(classification_report(y_train,y_train_pred))"
   ]
  },
  {
   "cell_type": "code",
   "execution_count": null,
   "id": "d40e8bd6-45d5-46fe-8f01-1a7a99cb3314",
   "metadata": {},
   "outputs": [],
   "source": [
    "print(classification_report(y_test,y_test_pred))"
   ]
  },
  {
   "cell_type": "code",
   "execution_count": 61,
   "id": "da868937-08ba-425d-928b-c96fafa21ea0",
   "metadata": {},
   "outputs": [
    {
     "name": "stdin",
     "output_type": "stream",
     "text": [
      "Please enter value here 1\n"
     ]
    },
    {
     "name": "stdout",
     "output_type": "stream",
     "text": [
      "Widht Forehead (cm)\n"
     ]
    },
    {
     "name": "stdin",
     "output_type": "stream",
     "text": [
      "Please enter value here 13\n"
     ]
    },
    {
     "name": "stdout",
     "output_type": "stream",
     "text": [
      "Height Forehead (cm)\n"
     ]
    },
    {
     "name": "stdin",
     "output_type": "stream",
     "text": [
      "Please enter value here 7\n"
     ]
    },
    {
     "name": "stdout",
     "output_type": "stream",
     "text": [
      "Nose Wide?\n"
     ]
    },
    {
     "name": "stdin",
     "output_type": "stream",
     "text": [
      "Please enter value here 1\n"
     ]
    },
    {
     "name": "stdout",
     "output_type": "stream",
     "text": [
      "Nose Long?\n"
     ]
    },
    {
     "name": "stdin",
     "output_type": "stream",
     "text": [
      "Please enter value here 1\n"
     ]
    },
    {
     "name": "stdout",
     "output_type": "stream",
     "text": [
      "Lips Thin?\n"
     ]
    },
    {
     "name": "stdin",
     "output_type": "stream",
     "text": [
      "Please enter value here 1\n"
     ]
    },
    {
     "name": "stdout",
     "output_type": "stream",
     "text": [
      "Is Nose Far away from Lip?\n"
     ]
    },
    {
     "name": "stdin",
     "output_type": "stream",
     "text": [
      "Please enter value here 1\n"
     ]
    },
    {
     "name": "stdout",
     "output_type": "stream",
     "text": [
      "Prediction: Male\n"
     ]
    }
   ],
   "source": [
    "# print('Long Hair')\n",
    "long_hair=int(input('Please enter value here'))\n",
    "\n",
    "print('Widht Forehead (cm)')\n",
    "forehead_width_cm=int(input('Please enter value here'))\n",
    "\n",
    "print('Height Forehead (cm)')\n",
    "forehead_height_cm=int(input('Please enter value here'))\n",
    "\n",
    "print('Nose Wide?')\n",
    "nose_wide=int(input('Please enter value here'))\n",
    "\n",
    "print('Nose Long?')\n",
    "nose_long=int(input('Please enter value here'))\n",
    "\n",
    "print('Lips Thin?')\n",
    "lips_thin=int(input('Please enter value here'))\n",
    "\n",
    "print('Is Nose Far away from Lip?')\n",
    "distance_nose_to_lip_long=int(input('Please enter value here'))\n",
    "\n",
    "user_input=np.array([long_hair,forehead_width_cm,forehead_height_cm,nose_wide,nose_long,lips_thin,distance_nose_to_lip_long]).reshape(1,-1)\n",
    "\n",
    "if model.predict(user_input)==0:\n",
    "    print('Prediction: Female')\n",
    "else:\n",
    "    print('Prediction: Male')\n",
    "    "
   ]
  },
  {
   "cell_type": "code",
   "execution_count": 64,
   "id": "cdd377b1-1f2d-47a7-907e-4665d64beb41",
   "metadata": {},
   "outputs": [
    {
     "data": {
      "text/plain": [
       "long_hair                       1\n",
       "forehead_width_cm            13.6\n",
       "forehead_height_cm            7.1\n",
       "nose_wide                       1\n",
       "nose_long                       1\n",
       "lips_thin                       1\n",
       "distance_nose_to_lip_long       1\n",
       "gender                       Male\n",
       "Name: 1729, dtype: object"
      ]
     },
     "execution_count": 64,
     "metadata": {},
     "output_type": "execute_result"
    }
   ],
   "source": [
    "df.iloc[1729]"
   ]
  },
  {
   "cell_type": "code",
   "execution_count": null,
   "id": "f6eb4dd6-81d8-48a0-85f2-3f891a9971ae",
   "metadata": {},
   "outputs": [],
   "source": []
  }
 ],
 "metadata": {
  "kernelspec": {
   "display_name": "Python 3 (ipykernel)",
   "language": "python",
   "name": "python3"
  },
  "language_info": {
   "codemirror_mode": {
    "name": "ipython",
    "version": 3
   },
   "file_extension": ".py",
   "mimetype": "text/x-python",
   "name": "python",
   "nbconvert_exporter": "python",
   "pygments_lexer": "ipython3",
   "version": "3.8.11"
  }
 },
 "nbformat": 4,
 "nbformat_minor": 5
}
