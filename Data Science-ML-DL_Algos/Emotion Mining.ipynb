{
 "cells": [
  {
   "cell_type": "code",
   "execution_count": 1,
   "id": "f3aa24f9-548c-4259-846b-9c3979706f36",
   "metadata": {},
   "outputs": [
    {
     "name": "stdout",
     "output_type": "stream",
     "text": [
      "Requirement already satisfied: textblob in c:\\users\\admin\\anaconda3\\lib\\site-packages (0.17.1)\n",
      "Requirement already satisfied: nltk>=3.1 in c:\\users\\admin\\anaconda3\\lib\\site-packages (from textblob) (3.6.2)\n",
      "Requirement already satisfied: regex in c:\\users\\admin\\anaconda3\\lib\\site-packages (from nltk>=3.1->textblob) (2020.10.15)\n",
      "Requirement already satisfied: click in c:\\users\\admin\\anaconda3\\lib\\site-packages (from nltk>=3.1->textblob) (8.0.1)\n",
      "Requirement already satisfied: joblib in c:\\users\\admin\\anaconda3\\lib\\site-packages (from nltk>=3.1->textblob) (1.3.2)\n",
      "Requirement already satisfied: tqdm in c:\\users\\admin\\anaconda3\\lib\\site-packages (from nltk>=3.1->textblob) (4.62.1)\n",
      "Requirement already satisfied: colorama in c:\\users\\admin\\anaconda3\\lib\\site-packages (from click->nltk>=3.1->textblob) (0.4.6)\n",
      "Note: you may need to restart the kernel to use updated packages.\n"
     ]
    }
   ],
   "source": [
    "pip install textblob"
   ]
  },
  {
   "cell_type": "code",
   "execution_count": 20,
   "id": "7dbcb1ba-c1fb-408d-94d0-a3d3a9e15fc8",
   "metadata": {},
   "outputs": [
    {
     "name": "stdout",
     "output_type": "stream",
     "text": [
      "This movie is ok nothing special\n",
      "Emotion Detected: Satisfied\n"
     ]
    }
   ],
   "source": [
    "from textblob import TextBlob\n",
    "#score --> -1 to 1\n",
    "# love--> +1\n",
    "# like--> +0.5\n",
    "# bed --> 0\n",
    "# dislike --> -0.5\n",
    "# hate --> -1\n",
    "text='This movie is ok nothing special'\n",
    "text_analysis=TextBlob(text)\n",
    "polarity_score=text_analysis.polarity\n",
    "print(text)\n",
    "if polarity_score>0.5:\n",
    "    print('Emotion Detected: Happy')\n",
    "elif polarity_score>0:\n",
    "    print('Emotion Detected: Satisfied')\n",
    "elif polarity_score==0:\n",
    "    print('Emotion Detected: Neutral')\n",
    "elif polarity_score>-0.5:\n",
    "    print('Emotion Detected: Sad')\n",
    "else:\n",
    "    print('Emotion Detected: Angry')\n",
    "    \n",
    "\n",
    "    "
   ]
  },
  {
   "cell_type": "code",
   "execution_count": null,
   "id": "71c5357f-2d36-4434-8692-d836c33fef79",
   "metadata": {},
   "outputs": [],
   "source": []
  }
 ],
 "metadata": {
  "kernelspec": {
   "display_name": "Python 3 (ipykernel)",
   "language": "python",
   "name": "python3"
  },
  "language_info": {
   "codemirror_mode": {
    "name": "ipython",
    "version": 3
   },
   "file_extension": ".py",
   "mimetype": "text/x-python",
   "name": "python",
   "nbconvert_exporter": "python",
   "pygments_lexer": "ipython3",
   "version": "3.8.11"
  }
 },
 "nbformat": 4,
 "nbformat_minor": 5
}
