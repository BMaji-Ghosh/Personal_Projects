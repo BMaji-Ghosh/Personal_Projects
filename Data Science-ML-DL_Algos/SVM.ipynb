{
 "cells": [
  {
   "cell_type": "code",
   "execution_count": null,
   "id": "c36bf644-583f-4838-b6a4-c28ca02d899f",
   "metadata": {},
   "outputs": [],
   "source": [
    "import numpy as np\n",
    "import pandas as pd\n",
    "import matplotlib.pyplot as plt\n",
    "import seaborn as sns"
   ]
  },
  {
   "cell_type": "code",
   "execution_count": null,
   "id": "f6c13ffc-d50f-4a59-bad7-a0b93d929f76",
   "metadata": {},
   "outputs": [],
   "source": [
    "df=pd.read_excel('circle data.xlsx')"
   ]
  },
  {
   "cell_type": "code",
   "execution_count": null,
   "id": "17b68c8e-55e9-4f86-82ad-e6b27e5a5cd9",
   "metadata": {},
   "outputs": [],
   "source": [
    "sns.scatterplot(data=df,x='col1',y='col2',c=df['target'])\n",
    "plt.show()"
   ]
  },
  {
   "cell_type": "code",
   "execution_count": null,
   "id": "688d7f4a-4f80-45b7-8e28-ab4ec07cd664",
   "metadata": {},
   "outputs": [],
   "source": [
    "X=df.drop(['target'],axis=1)\n",
    "y=df['target']"
   ]
  },
  {
   "cell_type": "code",
   "execution_count": null,
   "id": "c3aa8eb3-a69f-451f-af69-ce8314a68a53",
   "metadata": {},
   "outputs": [],
   "source": [
    "from sklearn.model_selection import train_test_split"
   ]
  },
  {
   "cell_type": "code",
   "execution_count": null,
   "id": "1a06d0cd-521b-457c-92be-0b574ba3e709",
   "metadata": {},
   "outputs": [],
   "source": [
    "X_train,X_test,y_train,y_test=train_test_split(X,y,test_size=0.2)"
   ]
  },
  {
   "cell_type": "code",
   "execution_count": null,
   "id": "24c9ec8a-3335-435b-b425-063242c812df",
   "metadata": {},
   "outputs": [],
   "source": [
    "from sklearn.linear_model import LogisticRegression"
   ]
  },
  {
   "cell_type": "code",
   "execution_count": null,
   "id": "c9d2cdf8-4ebd-480a-ac8b-2224da6a4606",
   "metadata": {},
   "outputs": [],
   "source": [
    "lr=LogisticRegression()"
   ]
  },
  {
   "cell_type": "code",
   "execution_count": null,
   "id": "a4ad1059-d459-4e18-8eb9-78f98091df54",
   "metadata": {},
   "outputs": [],
   "source": [
    "lr.fit(X_train,y_train)"
   ]
  },
  {
   "cell_type": "code",
   "execution_count": null,
   "id": "6a0c0879-0e05-480e-950b-5bfb04b84b3c",
   "metadata": {},
   "outputs": [],
   "source": [
    "y_pred_test=lr.predict(X_test)"
   ]
  },
  {
   "cell_type": "code",
   "execution_count": null,
   "id": "147251d9-4cf8-4dea-b78c-bc30ba18031f",
   "metadata": {},
   "outputs": [],
   "source": [
    "y_pred_train=lr.predict(X_train)"
   ]
  },
  {
   "cell_type": "code",
   "execution_count": null,
   "id": "9d3c8c83-c235-4723-90e1-3a5acfa7d2a0",
   "metadata": {},
   "outputs": [],
   "source": [
    "from sklearn.metrics import classification_report"
   ]
  },
  {
   "cell_type": "code",
   "execution_count": null,
   "id": "77df846d-1652-4f72-9318-4d090360cef8",
   "metadata": {},
   "outputs": [],
   "source": [
    "print(classification_report(y_train,y_pred_train))"
   ]
  },
  {
   "cell_type": "code",
   "execution_count": null,
   "id": "f1f82043-5617-4966-a45e-3d46b6dad577",
   "metadata": {},
   "outputs": [],
   "source": [
    "print(classification_report(y_test,y_pred_test))"
   ]
  },
  {
   "cell_type": "code",
   "execution_count": null,
   "id": "181521a9-1d86-4b38-a56f-b3edf0387d97",
   "metadata": {},
   "outputs": [],
   "source": [
    "from sklearn.svm import SVC"
   ]
  },
  {
   "cell_type": "code",
   "execution_count": null,
   "id": "abaacaa0-d919-443a-9771-31f394059bad",
   "metadata": {},
   "outputs": [],
   "source": [
    "param_dict={'C':[0.1,1,10,100],\n",
    "           'gamma':['scale',0.1,1,10,0.01],\n",
    "           'kernel':['rbf']}"
   ]
  },
  {
   "cell_type": "code",
   "execution_count": null,
   "id": "623da97c-a6e8-4d23-a2cb-d9e76035073e",
   "metadata": {},
   "outputs": [],
   "source": [
    "from sklearn.model_selection import GridSearchCV"
   ]
  },
  {
   "cell_type": "code",
   "execution_count": null,
   "id": "28760d7d-f32b-44c6-bd37-c6d89dbd8287",
   "metadata": {},
   "outputs": [],
   "source": [
    "grid=GridSearchCV(SVC(),param_grid=param_dict)"
   ]
  },
  {
   "cell_type": "code",
   "execution_count": null,
   "id": "e0ccd4ee-9102-4df9-a4a4-1d80ad67e6d2",
   "metadata": {},
   "outputs": [],
   "source": [
    "grid.fit(X_train,y_train)"
   ]
  },
  {
   "cell_type": "code",
   "execution_count": null,
   "id": "70444c0e-e481-460b-ac2d-cd1a1cc9d3df",
   "metadata": {},
   "outputs": [],
   "source": [
    "grid.best_params_"
   ]
  },
  {
   "cell_type": "code",
   "execution_count": null,
   "id": "a5da0372-fbb9-48a5-98d1-5bc477a4201f",
   "metadata": {},
   "outputs": [],
   "source": [
    "best_svc=grid.best_estimator_"
   ]
  },
  {
   "cell_type": "code",
   "execution_count": null,
   "id": "ccb2f7ff-ba9d-45a5-bbf7-64634d52a157",
   "metadata": {},
   "outputs": [],
   "source": [
    "y_pred_train=best_svc.predict(X_train)\n",
    "y_pred_test=best_svc.predict(X_test)\n"
   ]
  },
  {
   "cell_type": "code",
   "execution_count": null,
   "id": "330a70e2-e1ff-4ffc-8aae-7af26a5fdedc",
   "metadata": {},
   "outputs": [],
   "source": [
    "print(classification_report(y_train,y_pred_train))"
   ]
  },
  {
   "cell_type": "code",
   "execution_count": null,
   "id": "a7d53f21-b384-45be-8528-92ac78b97923",
   "metadata": {},
   "outputs": [],
   "source": [
    "print(classification_report(y_test,y_pred_test))"
   ]
  },
  {
   "cell_type": "code",
   "execution_count": null,
   "id": "31adf5f1-f421-4122-a268-3f22cdc3c5a4",
   "metadata": {},
   "outputs": [],
   "source": []
  }
 ],
 "metadata": {
  "kernelspec": {
   "display_name": "Python 3 (ipykernel)",
   "language": "python",
   "name": "python3"
  },
  "language_info": {
   "codemirror_mode": {
    "name": "ipython",
    "version": 3
   },
   "file_extension": ".py",
   "mimetype": "text/x-python",
   "name": "python",
   "nbconvert_exporter": "python",
   "pygments_lexer": "ipython3",
   "version": "3.8.11"
  }
 },
 "nbformat": 4,
 "nbformat_minor": 5
}
