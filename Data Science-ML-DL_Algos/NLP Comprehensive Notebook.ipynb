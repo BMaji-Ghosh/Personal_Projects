{
 "cells": [
  {
   "cell_type": "markdown",
   "id": "e64c24d2-21d9-47b5-b34a-9ad97a04debd",
   "metadata": {
    "id": "e64c24d2-21d9-47b5-b34a-9ad97a04debd"
   },
   "source": [
    "#### Import Libraries & Load Models"
   ]
  },
  {
   "cell_type": "code",
   "execution_count": 1,
   "id": "701bd46e-777e-4529-bcac-5bdb84c6618c",
   "metadata": {
    "executionInfo": {
     "elapsed": 8906,
     "status": "ok",
     "timestamp": 1747404142114,
     "user": {
      "displayName": "Omkar Jagtap",
      "userId": "05902089059513571464"
     },
     "user_tz": -330
    },
    "id": "701bd46e-777e-4529-bcac-5bdb84c6618c"
   },
   "outputs": [],
   "source": [
    "import nltk\n",
    "from nltk.tokenize import word_tokenize,sent_tokenize\n",
    "from nltk.corpus import stopwords\n",
    "from nltk import pos_tag, ne_chunk\n",
    "from nltk.chunk import tree2conlltags\n",
    "from nltk.stem import PorterStemmer,WordNetLemmatizer"
   ]
  },
  {
   "cell_type": "code",
   "execution_count": null,
   "id": "9c690f35-d94f-4280-9a14-2b87023d6a14",
   "metadata": {
    "colab": {
     "base_uri": "https://localhost:8080/"
    },
    "executionInfo": {
     "elapsed": 4355,
     "status": "ok",
     "timestamp": 1747404146485,
     "user": {
      "displayName": "Omkar Jagtap",
      "userId": "05902089059513571464"
     },
     "user_tz": -330
    },
    "id": "9c690f35-d94f-4280-9a14-2b87023d6a14",
    "outputId": "88a3c399-8444-4f8d-9b3a-a5c21764ba20"
   },
   "outputs": [
    {
     "name": "stderr",
     "output_type": "stream",
     "text": [
      "[nltk_data] Downloading package punkt_tab to /root/nltk_data...\n",
      "[nltk_data]   Unzipping tokenizers/punkt_tab.zip.\n",
      "[nltk_data] Downloading package averaged_perceptron_tagger to\n",
      "[nltk_data]     /root/nltk_data...\n",
      "[nltk_data]   Unzipping taggers/averaged_perceptron_tagger.zip.\n",
      "[nltk_data] Downloading package maxent_ne_chunker to\n",
      "[nltk_data]     /root/nltk_data...\n",
      "[nltk_data]   Unzipping chunkers/maxent_ne_chunker.zip.\n",
      "[nltk_data] Downloading package words to /root/nltk_data...\n",
      "[nltk_data]   Unzipping corpora/words.zip.\n",
      "[nltk_data] Downloading package wordnet to /root/nltk_data...\n",
      "[nltk_data] Downloading package stopwords to /root/nltk_data...\n",
      "[nltk_data]   Unzipping corpora/stopwords.zip.\n"
     ]
    },
    {
     "data": {
      "text/plain": [
       "True"
      ]
     },
     "execution_count": 2,
     "metadata": {},
     "output_type": "execute_result"
    }
   ],
   "source": [
    "nltk.download('punkt_tab')\n",
    "nltk.download('averaged_perceptron_tagger')\n",
    "nltk.download('maxent_ne_chunker')\n",
    "nltk.download('words')\n",
    "nltk.download('wordnet')\n",
    "nltk.download('stopwords')\n"
   ]
  },
  {
   "cell_type": "markdown",
   "id": "22d2b3f9-620f-48e1-8efc-d5d6f9e40359",
   "metadata": {
    "id": "22d2b3f9-620f-48e1-8efc-d5d6f9e40359"
   },
   "source": [
    "#### Input Text"
   ]
  },
  {
   "cell_type": "code",
   "execution_count": 3,
   "id": "46c402f9-c657-496e-816c-767536612ee1",
   "metadata": {
    "executionInfo": {
     "elapsed": 3,
     "status": "ok",
     "timestamp": 1747404148941,
     "user": {
      "displayName": "Omkar Jagtap",
      "userId": "05902089059513571464"
     },
     "user_tz": -330
    },
    "id": "46c402f9-c657-496e-816c-767536612ee1"
   },
   "outputs": [],
   "source": [
    "text=\"\"\"Apple Inc. is planning to open a new office in Bengaluru in 2025.\n",
    "This will create thousands of job opportunities for software engineers.\n",
    "Tim Cook announced this in a press conference in California.\"\"\""
   ]
  },
  {
   "cell_type": "markdown",
   "id": "3b5b11f8-b053-45a0-82c7-8d7fa40ec8ca",
   "metadata": {
    "id": "3b5b11f8-b053-45a0-82c7-8d7fa40ec8ca"
   },
   "source": [
    "#### Sentence Tokenization"
   ]
  },
  {
   "cell_type": "code",
   "execution_count": 4,
   "id": "090db0ca-75c7-4f1f-9ba3-21f7e30cbea9",
   "metadata": {
    "colab": {
     "base_uri": "https://localhost:8080/"
    },
    "executionInfo": {
     "elapsed": 265,
     "status": "ok",
     "timestamp": 1747404149987,
     "user": {
      "displayName": "Omkar Jagtap",
      "userId": "05902089059513571464"
     },
     "user_tz": -330
    },
    "id": "090db0ca-75c7-4f1f-9ba3-21f7e30cbea9",
    "outputId": "e87077d3-b1d3-4bf4-e67f-dd8c9cb7b522"
   },
   "outputs": [
    {
     "name": "stdout",
     "output_type": "stream",
     "text": [
      "['Apple Inc. is planning to open a new office in Bengaluru in 2025.', 'This will create thousands of job opportunities for software engineers.', 'Tim Cook announced this in a press conference in California.']\n"
     ]
    }
   ],
   "source": [
    "sentences=sent_tokenize(text)\n",
    "print(sentences)"
   ]
  },
  {
   "cell_type": "markdown",
   "id": "851f2982-d8ea-46e1-9fb8-f960d9018f24",
   "metadata": {
    "id": "851f2982-d8ea-46e1-9fb8-f960d9018f24"
   },
   "source": [
    "#### Word Tokenization"
   ]
  },
  {
   "cell_type": "code",
   "execution_count": 5,
   "id": "733331df-3b87-4ef8-b38a-b8586ae78073",
   "metadata": {
    "colab": {
     "base_uri": "https://localhost:8080/"
    },
    "executionInfo": {
     "elapsed": 6,
     "status": "ok",
     "timestamp": 1747404151952,
     "user": {
      "displayName": "Omkar Jagtap",
      "userId": "05902089059513571464"
     },
     "user_tz": -330
    },
    "id": "733331df-3b87-4ef8-b38a-b8586ae78073",
    "outputId": "888f574e-1ecd-4cc6-c0e7-d2cb61d90f38"
   },
   "outputs": [
    {
     "name": "stdout",
     "output_type": "stream",
     "text": [
      "['Apple', 'Inc.', 'is', 'planning', 'to', 'open', 'a', 'new', 'office', 'in', 'Bengaluru', 'in', '2025', '.', 'This', 'will', 'create', 'thousands', 'of', 'job', 'opportunities', 'for', 'software', 'engineers', '.', 'Tim', 'Cook', 'announced', 'this', 'in', 'a', 'press', 'conference', 'in', 'California', '.']\n"
     ]
    }
   ],
   "source": [
    "words=word_tokenize(text)\n",
    "print(words)"
   ]
  },
  {
   "cell_type": "markdown",
   "id": "3baf91dc-849b-47a6-9d80-8bcb760ed43c",
   "metadata": {
    "id": "3baf91dc-849b-47a6-9d80-8bcb760ed43c"
   },
   "source": [
    "#### Stopwords Removal\n"
   ]
  },
  {
   "cell_type": "code",
   "execution_count": 6,
   "id": "323c4092-3c4d-407c-a03d-759b6e99c21a",
   "metadata": {
    "executionInfo": {
     "elapsed": 17,
     "status": "ok",
     "timestamp": 1747404152961,
     "user": {
      "displayName": "Omkar Jagtap",
      "userId": "05902089059513571464"
     },
     "user_tz": -330
    },
    "id": "323c4092-3c4d-407c-a03d-759b6e99c21a"
   },
   "outputs": [],
   "source": [
    "stop_words_list=stopwords.words('english')\n",
    "filtered_words=[i for i in words if i.lower() not in stop_words_list]"
   ]
  },
  {
   "cell_type": "markdown",
   "id": "e1f77d3a-bda0-47a7-a169-edca901031aa",
   "metadata": {
    "id": "e1f77d3a-bda0-47a7-a169-edca901031aa"
   },
   "source": [
    "#### Stemming"
   ]
  },
  {
   "cell_type": "code",
   "execution_count": 7,
   "id": "e67506ad-d214-4e21-9afc-f3b395ed383a",
   "metadata": {
    "executionInfo": {
     "elapsed": 4,
     "status": "ok",
     "timestamp": 1747404155378,
     "user": {
      "displayName": "Omkar Jagtap",
      "userId": "05902089059513571464"
     },
     "user_tz": -330
    },
    "id": "e67506ad-d214-4e21-9afc-f3b395ed383a"
   },
   "outputs": [],
   "source": [
    "stemmer=PorterStemmer()\n",
    "stemmed=[stemmer.stem(i) for i in filtered_words]"
   ]
  },
  {
   "cell_type": "markdown",
   "id": "a662918c-bac9-46f9-ac3f-f4d85cab0562",
   "metadata": {
    "id": "a662918c-bac9-46f9-ac3f-f4d85cab0562"
   },
   "source": [
    "#### Lemmatization"
   ]
  },
  {
   "cell_type": "code",
   "execution_count": 8,
   "id": "bd7c51d6-c35d-4d79-99fd-24640c83fd14",
   "metadata": {
    "executionInfo": {
     "elapsed": 4663,
     "status": "ok",
     "timestamp": 1747404161179,
     "user": {
      "displayName": "Omkar Jagtap",
      "userId": "05902089059513571464"
     },
     "user_tz": -330
    },
    "id": "bd7c51d6-c35d-4d79-99fd-24640c83fd14"
   },
   "outputs": [],
   "source": [
    "lemma=WordNetLemmatizer()\n",
    "lemmatized=[lemma.lemmatize(i) for i in filtered_words]"
   ]
  },
  {
   "cell_type": "markdown",
   "id": "1673c163-d3ca-47cd-a24e-40818fd1eba0",
   "metadata": {
    "id": "1673c163-d3ca-47cd-a24e-40818fd1eba0"
   },
   "source": [
    "#### Part of Speech tagging"
   ]
  },
  {
   "cell_type": "code",
   "execution_count": 10,
   "id": "2f439db9-ff35-4227-a755-a3308d850f22",
   "metadata": {
    "colab": {
     "base_uri": "https://localhost:8080/"
    },
    "executionInfo": {
     "elapsed": 787,
     "status": "ok",
     "timestamp": 1747404169487,
     "user": {
      "displayName": "Omkar Jagtap",
      "userId": "05902089059513571464"
     },
     "user_tz": -330
    },
    "id": "2f439db9-ff35-4227-a755-a3308d850f22",
    "outputId": "a51b6b22-072e-4330-a804-a5c8428d8019"
   },
   "outputs": [
    {
     "name": "stderr",
     "output_type": "stream",
     "text": [
      "[nltk_data] Downloading package averaged_perceptron_tagger_eng to\n",
      "[nltk_data]     /root/nltk_data...\n",
      "[nltk_data]   Unzipping taggers/averaged_perceptron_tagger_eng.zip.\n"
     ]
    }
   ],
   "source": [
    "nltk.download('averaged_perceptron_tagger_eng')\n",
    "#nltk.download('maxent_')\n",
    "pos_tags=pos_tag(filtered_words)"
   ]
  },
  {
   "cell_type": "markdown",
   "id": "14d333b9-4291-404e-ac0d-7e070b8bddd6",
   "metadata": {
    "id": "14d333b9-4291-404e-ac0d-7e070b8bddd6"
   },
   "source": [
    "#### Named Entity Recognition"
   ]
  },
  {
   "cell_type": "code",
   "execution_count": 12,
   "id": "2a7fb02c-e964-4ec7-b800-5fc53624bfac",
   "metadata": {
    "colab": {
     "base_uri": "https://localhost:8080/"
    },
    "executionInfo": {
     "elapsed": 1570,
     "status": "ok",
     "timestamp": 1747404183419,
     "user": {
      "displayName": "Omkar Jagtap",
      "userId": "05902089059513571464"
     },
     "user_tz": -330
    },
    "id": "2a7fb02c-e964-4ec7-b800-5fc53624bfac",
    "outputId": "254e8080-3d28-4f2c-9ff8-6c5025282ced"
   },
   "outputs": [
    {
     "name": "stderr",
     "output_type": "stream",
     "text": [
      "[nltk_data] Downloading package maxent_ne_chunker_tab to\n",
      "[nltk_data]     /root/nltk_data...\n",
      "[nltk_data]   Unzipping chunkers/maxent_ne_chunker_tab.zip.\n"
     ]
    },
    {
     "data": {
      "text/plain": [
       "[('Apple', 'NNP', 'B-PERSON'),\n",
       " ('Inc.', 'NNP', 'O'),\n",
       " ('planning', 'VBG', 'O'),\n",
       " ('open', 'JJ', 'O'),\n",
       " ('new', 'JJ', 'O'),\n",
       " ('office', 'NN', 'O'),\n",
       " ('Bengaluru', 'NNP', 'O'),\n",
       " ('2025', 'CD', 'O'),\n",
       " ('.', '.', 'O'),\n",
       " ('create', 'VB', 'O'),\n",
       " ('thousands', 'NNS', 'O'),\n",
       " ('job', 'NN', 'O'),\n",
       " ('opportunities', 'NNS', 'O'),\n",
       " ('software', 'NN', 'O'),\n",
       " ('engineers', 'NNS', 'O'),\n",
       " ('.', '.', 'O'),\n",
       " ('Tim', 'NNP', 'B-PERSON'),\n",
       " ('Cook', 'NNP', 'I-PERSON'),\n",
       " ('announced', 'VBD', 'O'),\n",
       " ('press', 'NN', 'O'),\n",
       " ('conference', 'NN', 'O'),\n",
       " ('California', 'NNP', 'B-GPE'),\n",
       " ('.', '.', 'O')]"
      ]
     },
     "execution_count": 12,
     "metadata": {},
     "output_type": "execute_result"
    }
   ],
   "source": [
    "nltk.download('maxent_ne_chunker_tab')\n",
    "ne_tree=ne_chunk(pos_tags)\n",
    "#ne_tree.draw()\n",
    "tree2conlltags(ne_tree)"
   ]
  },
  {
   "cell_type": "markdown",
   "id": "639b6f26-48e9-4376-b02b-e519d7aaa55e",
   "metadata": {
    "id": "639b6f26-48e9-4376-b02b-e519d7aaa55e"
   },
   "source": [
    "#### Document similarity using Cosine"
   ]
  },
  {
   "cell_type": "code",
   "execution_count": 13,
   "id": "adb22bc1-b263-45ed-8a24-ad1fb1d09b0f",
   "metadata": {
    "colab": {
     "base_uri": "https://localhost:8080/"
    },
    "executionInfo": {
     "elapsed": 30,
     "status": "ok",
     "timestamp": 1747404186093,
     "user": {
      "displayName": "Omkar Jagtap",
      "userId": "05902089059513571464"
     },
     "user_tz": -330
    },
    "id": "adb22bc1-b263-45ed-8a24-ad1fb1d09b0f",
    "outputId": "baf1f83c-e8a8-4d36-eeab-5bd4bc406d2d"
   },
   "outputs": [
    {
     "data": {
      "text/plain": [
       "array([[0.20412415]])"
      ]
     },
     "execution_count": 13,
     "metadata": {},
     "output_type": "execute_result"
    }
   ],
   "source": [
    "text1=\"I love natural language processing\"\n",
    "text2=\"Personally i feel nlp is what i love\"\n",
    "text3=\"I love natural language processing\"\n",
    "from sklearn.feature_extraction.text import CountVectorizer\n",
    "\n",
    "cv=CountVectorizer()\n",
    "vectors=cv.fit_transform([text1,text2,text3])\n",
    "\n",
    "from sklearn.metrics.pairwise import cosine_similarity\n",
    "\n",
    "cosine_similarity(vectors[0],vectors[1])"
   ]
  },
  {
   "cell_type": "markdown",
   "id": "1ed4cc26-a5b8-41ab-82b4-73f1bff7cf59",
   "metadata": {
    "id": "1ed4cc26-a5b8-41ab-82b4-73f1bff7cf59"
   },
   "source": [
    "Nouns\n",
    "\n",
    "NN\tNoun, singular\tbook\n",
    "NNS\tNoun, plural\tbooks\n",
    "NNP\tProper noun, singular\tLondon\n",
    "NNPS\tProper noun, plural\tIndians\n",
    "\n",
    "\n",
    "\n",
    "---\n",
    "\n",
    "Verbs\n",
    "\n",
    "VB\tBase form\teat\n",
    "VBD\tPast tense\tate\n",
    "VBG\tGerund/Present participle\teating\n",
    "VBN\tPast participle\teaten\n",
    "VBP\tPresent (non-3rd person)\teat (I/you eat)\n",
    "VBZ\tPresent (3rd person)\teats (he eats)\n",
    "\n",
    "\n",
    "\n",
    "---\n",
    "\n",
    "Adjectives\n",
    "\n",
    "JJ\tAdjective\tbeautiful\n",
    "JJR\tComparative\tprettier\n",
    "JJS\tSuperlative\tprettiest\n",
    "\n",
    "\n",
    "\n",
    "---\n",
    "\n",
    "Adverbs\n",
    "\n",
    "RB\tAdverb\tquickly\n",
    "RBR\tComparative adv.\tfaster\n",
    "RBS\tSuperlative adv.\tfastest\n",
    "\n",
    "\n",
    "\n",
    "---\n",
    "\n",
    "Pronouns\n",
    "\n",
    "PRP\tPersonal pronoun\tI, you, he\n",
    "PRP$\tPossessive pronoun\tmy, your\n",
    "WP\tWh-pronoun\twho\n",
    "WP$\tPossessive wh-pronoun\twhose\n",
    "\n",
    "\n",
    "\n",
    "---\n",
    "\n",
    "Determiners & Conjunctions\n",
    "\n",
    "DT\tDeterminer\tthe, a, an\n",
    "CC\tCoordinating conj.\tand, but\n",
    "IN\tPreposition/Subconj.\tin, of, that\n",
    "\n",
    "\n",
    "\n",
    "---\n",
    "\n",
    "Others\n",
    "\n",
    "TO\t\"to\" as preposition\tto run\n",
    "MD\tModal verb\tcan, must, will\n",
    "EX\tExistential \"there\"\tthere is\n",
    "UH\tInterjection\toh, wow\n",
    "CD\tCardinal number\tone, 2023\n",
    "FW\tForeign word\tdéjà vu\n",
    "SYM\tSymbol\t%, $, +"
   ]
  },
  {
   "cell_type": "code",
   "execution_count": null,
   "id": "8-6a48-MbhqI",
   "metadata": {
    "id": "8-6a48-MbhqI"
   },
   "outputs": [],
   "source": [
    "# Step 1: Install Required Libraries\n",
    "!pip install wikipedia wordcloud"
   ]
  },
  {
   "cell_type": "code",
   "execution_count": 32,
   "id": "HHKDG6BGaGaN",
   "metadata": {
    "colab": {
     "base_uri": "https://localhost:8080/"
    },
    "executionInfo": {
     "elapsed": 1116,
     "status": "ok",
     "timestamp": 1747410169617,
     "user": {
      "displayName": "Omkar Jagtap",
      "userId": "05902089059513571464"
     },
     "user_tz": -330
    },
    "id": "HHKDG6BGaGaN",
    "outputId": "f3ed17ff-daed-47a8-f2ee-5d0f20e1d6ed"
   },
   "outputs": [
    {
     "name": "stdout",
     "output_type": "stream",
     "text": [
      "Indian people or Indians are the citizens and nationals of the Republic of India or people who trace their ancestry to India. While the demonym \"Indian\" applies to people originating from the present-day India, it was also used as the identifying term for people originating from what is now Pakistan and Bangladesh prior to the Partition of India in 1947.\n",
      "In 2022, the population of India stood at 1.4 billion people, of various ethnic groups. According to United Nations forecasts, India overtook China as the world's most populous country by the end of April 2023, containing 17.50 percent of the global population. In addition to the Indian population, the Indian overseas diaspora also boasts large numbers, particularly in former British colonies due to the historical Indian indenture system, Arab states of the Persian Gulf, and the Western world.\n",
      "Particularly in North America and the Caribbean, the terms \"Asian Indian\" and \"East Indian\" are sometimes used to differentiate Indians from the indigenous peoples of the Americas. Although the misidentification of indigenous Americans as Indians occurred during the European colonization of the Americas, the term \"Indian\" is still used as an identifier for indigenous populations in North America and the Caribbean. This usage is growing rarer, as terms such as indigenous, Amerindian, and specifically First Nations in Canada, and Native American in the United States, are widely used in official discourse, census, and law.\n",
      "\n",
      "\n",
      "== Ethnonym ==\n",
      "\n",
      "The name Bhārata has been used as a self-ascribed name by people of the Indian subcontinent and the Republic of India since 1949. The designation \"Bhārata\" appears in the official Sanskrit name of the country, Bhārata Gaṇarājya. The name is derived from the ancient Vedic and Puranas, which refer to the land that constitutes India as Bhārata varṣam and uses this term to distinguish it from other varṣas or continents. The Bhāratas were a vedic tribe mentioned in the Rigveda, notably participating in the Battle of the Ten Kings. India is named after legendary Emperor Bharata who was a descendant of the Bhāratas tribe, scion of Kuru Dynasty who unified the Indian Subcontinent under one realm.\n",
      "\n",
      "\"The country (varṣam) that lies north of the ocean and south of the snowy mountains is called Bhāratam; there dwell the descendants of Bharata.\"-Vishnu Purana\n",
      "In early Vedic literature, the term Āryāvarta (Sanskrit: आर्यावर्त) was in popular use before Bhārata. The Manusmṛti (2.22) gives the name Āryāvarta to \"the tract between the Himalaya and the Vindhya ranges, from the Eastern (Bay of Bengal) to the Western Sea (Arabian Sea)\".\n",
      "While the word Indian and India is derived from Greek Ἰνδία (Indía), via Latin India. Indía in Koine Greek denoted the region beyond the Indus (Ἰνδός) river, since Herodotus (5th century BC) ἡ Ἰνδική χώρη, hē Indikē chōrē; \"the Indian land\", Ἰνδός, Indos, \"an Indian\", from Old Persian Hinduš and medieval term Hindustani. The name is derived ultimately from Sindhu, the Sanskrit name of the river Indus, but also meaning \"river\" generically.\n",
      "\n",
      "\n",
      "== History ==\n",
      "\n",
      "\n",
      "=== Ancient era ===\n",
      "\n",
      "The history of India includes the prehistoric settlements and societies in the Indian subcontinent; the blending of the Indus Valley civilization and Indo-Aryan culture into the Vedic Civilization; the development of Hinduism as a synthesis of various Indian cultures and traditions; the rise of sixteen oligarchic republics known as Mahajanapadas; the rise of the Śramaṇa movement; the birth of Jainism and Buddhism in the 6th century BCE, and the onset of a succession of powerful dynasties and empires for more than two millennia throughout various geographic areas of the subcontinent, including the growth of Muslim dynasties during the Medieval period intertwined with Hindu powers; the advent of European traders resulting in the establishment of British India; and the subsequent independence movement that led to the Partition of India and the creation of the Republic of India.\n",
      "The Indian people established during the ancient and medieval periods to the early eighteenth century some of the greatest empires and dynasties in South Asian history like the Maurya Empire, Satavahana dynasty, Gupta Empire, Rashtrakuta dynasty, Chalukya Empire, Chola Empire, Karkota Empire, Pala Empire, Vijayanagara Empire, Delhi Sultanate, Mughal Empire, Maratha Confederacy and Sikh Empire. The first great empire of the Indian people was the Maurya Empire having Patliputra(currently Patna, Bihar) as its capital, conquered the major part of South Asia in the 4th and 3rd centuries BC during the reign of Chandragupta Maurya and Ashoka alongside their senior advisor, Acharya Chanakya, the world's pioneer of the fields of political science and economics. The next great ancient empire of the Indian people was the Gupta Empire. This period, witnessing a Hindu religious and intellectual resurgence, is known as the classical or \"Golden Age of India\". During this period, aspects of Indian civilisation, administration, culture, and Hinduism and Buddhism spread to much of Asia, while the Chola Empire in the south had flourishing maritime trade links with the Roman Empire during this period. The ancient Indian mathematicians Aryabhata, Bhāskara I and Brahmagupta invented the concept of zero and the Hindu–Arabic numeral system decimal system during this period. During this period Indian cultural influence spread over many parts of Southeast Asia which led to the establishment of Indianized kingdoms in Southeast Asia.\n",
      "\n",
      "\n",
      "=== Medieval era ===\n",
      "During the early medieval period the great Rashtrakuta dynasty governed most of the Indian subcontinent from the 8th to 10th centuries and the Amoghavarsha of the Rashtrakuta Dynasty was described by the Arab traveller Sulaiman as one of the four great kings of the world. The medieval south Indian mathematician Mahāvīra lived in the Rashtrakuta dynasty and was the first Indian mathematician who separated astrology from mathematics and who wrote the earliest Indian text entirely devoted to mathematics. The greatest maritime empire of the medieval Indians was the Chola dynasty. Under the great Rajaraja Chola I and his successor Rajendra Chola I the Chola dynasty became a military, economic and cultural power in South Asia and South-East Asia. The power of the Chola empire was proclaimed to the eastern world by the expedition to the Ganges which Rajendra Chola I undertook and by the occupation of cities of the maritime empire of Srivijaya in Southeast Asia, as well as by the repeated embassies to China.\n",
      "During the late medieval period the great Vijayanagara Empire ruled most of southern India from the 14th to 16th centuries and reached its peak during the reign of Sri Krishnadevaraya The medieval Kerala School of Astronomy and Mathematics flourished during this period under such well known south Indian mathematicians as Madhava (c. 1340 – c. 1425), who made important contributions to Trigonometry and Calculus, and Nilakhanta (c. 1444–1545), who postulated on the orbitals of planets.\n",
      "\n",
      "\n",
      "=== Modern era ===\n",
      "The Mughal Empire consolidated much of the Indian sub-continent under a single realm. Under the Mughals, India developed a strong and stable economy, leading to commercial expansion and greater patronage of culture, greatly influencing Indian society. The Mughal Empire balanced and pacified local societies through new administrative practices and had diverse and inclusive ruling elites, leading to more systematic, centralised, and uniform rule. Newly coherent social groups in northern and western India, such as the Marathas, the Rajputs, the Pathans, the Jats and the Sikhs, gained military and governing ambitions during Mughal rule, which, through collaboration or adversity, gave them both recognition and military experience.\n",
      "Following the death of Aurangzeb in the early 18th century, the empire saw the emergence of autonomous regional powers such as Marathas, the Rajputs and various de facto independent Mughal governors and other Hindu and Muslim princely states, though they all continued to recognise the Mughal emperor as their suzerain. The period also saw the emergence of the British East India Company who took control of large parts of the empire, though they nominally ruled and traded under the authority of the emperor and nominally considered him as their suzerain. The regions under Company rule witnessed a period of rapid development of infrastructure, economic decline and major famines. During the first half of the 20th century, a nationwide struggle for Indian independence movement was launched, the Indian subcontinent gained independence from the United Kingdom in 1947, after the British provinces were partitioned into the dominions of India and Pakistan and the princely states all acceded to one of the new states.\n",
      "\n",
      "\n",
      "== Culture ==\n",
      "\n",
      "India is one of the world's oldest civilisations. The Indian culture, often labelled as an amalgamation of several various cultures, spans across the Indian subcontinent and has been influenced and shaped by a history that is several thousand years old. Throughout the history of India, Indian culture has been heavily influenced by Dharmic religions. They have been credited with shaping much of Indian philosophy, literature, architecture, art and music. Greater India was the historical extent of Indian culture beyond the Indian subcontinent. This particularly concerns the spread of Hinduism, Buddhism, architecture, administration and writing system from India to other parts of Asia through the Silk Road by the travellers and maritime traders during the early centuries of the Common Era. To the west, Greater India overlaps with Greater Persia in the Hindu Kush and Pamir Mountains. During medieval period, Islam played a significant role in shaping Indian cultural heritage. Over the centuries, there has been significant integration of Hindus, Jains, and Sikhs with Muslims across India.\n",
      "\n",
      "\n",
      "=== Religion ===\n",
      "\n",
      "India is the birthplace of Hinduism, Buddhism, Jainism and Sikhism, collectively known as Indian religions. Indian religions, also known as Dharmic religions, are a major form of world religions along with Abrahamic ones. Today, Hinduism and Buddhism are the world's third- and fourth-largest religions respectively, with over 1 billion followers altogether, and possibly as many as 1.5 or 1.6 billion followers. Throughout India's history, religion has been an important part of the country's culture. Religious diversity and religious tolerance are both established in the country by the law and by custom; the Constitution of India has declared the right to freedom of religion to be a fundamental right.\n",
      "Atheism and agnosticism have a long history in India and flourished within Śramaṇa movement. The Cārvāka school originated in India around the 6th century BCE and is one of the earliest form of materialistic and atheistic movement in ancient India. Sramana, Buddhism, Jainism, Ājīvika and some schools of Hinduism like Samkhya consider atheism to be valid and reject the concept of creator deity, ritualism and supernaturalism. India has produced some notable atheist politicians and social reformers.\n",
      "Although approximately 80% of the citizens of India are Hindus, the country has a substantial population of Muslims, Christians, Sikhs, Buddhists, Jains, Parsis and adherents of tribal faiths. Zoroastrianism and Judaism each has several thousands of Indian adherents, and also have an ancient history in India. India has the largest population of people adhering to Zoroastrianism and Baháʼí Faith in the world, even though these two religions are not native to India. Many other world religions also have a relationship with Indian spirituality, such as the Baháʼí Faith which recognises Buddha and Krishna as manifestations of the God Almighty. Despite the strong role of religion in Indian life, atheism and agnostics also have visible influence along with a self-ascribed tolerance to other people. According to the 2012 WIN-Gallup Global Index of Religion and Atheism report, 81% of Indians were religious, 13% were not religious, 3% were convinced atheists, and 3% were unsure or did not respond.\n",
      "Traditionally, Indian society is grouped according to their caste. It is a system in which social stratification within various social sections defined by thousands of endogamous hereditary groups are often termed jāti or castes. Within a jāti, there exists exogamous groups known as gotras, the lineage or clan of an individuals. Caste barriers have mostly broken down in cities but still exists in some form in rural areas.\n",
      "Most Indian states are majority Hindu. However, Jammu and Kashmir and Lakshadweep are majority Muslim; Nagaland, Mizoram, and Meghalaya are majority Christian, Punjab is majority Sikh, and Ladakh and Arunachal Pradesh are majority non-Hindu but do not have a single religious majority group. In most non-Hindu majority Indian states and union territories, Hindus constitute a large minority. Although participants in the Indian census may choose to not declare their religion, there is no mechanism for a person to indicate that he/she does not adhere to any religion. Due to this limitation in the Indian census process, the data for persons not affiliated with any religion may not be accurate. India contains the majority of the world's Hindus, Jains, Sikhs, Zoroastrians and Baháʼí. Christianity is widespread in Northeast India, parts of southern India, particularly in Kerala and among various populations of Central India. Muslims are the largest religious minority. India is also home to the third-largest Muslim population in the world after Indonesia and Pakistan.\n",
      "\n",
      "\n",
      "=== Family ===\n",
      "\n",
      "Historically, India had a prevailing tradition of the joint family system or undivided family. Joint family system is an extended family arrangement prevalent throughout the Indian subcontinent, particularly in India. The family is headed by a patriarch, the oldest male, who makes decisions on economic and social matters on behalf of the entire family. The patriarch's wife generally exerts control over the household, minor religious practices and often wields considerable influence in domestic matters. A patrilineal joint family consists of an older man and his wife, his sons and unmarried daughters, his sons' wives and children. Family income flows into a common pool, from which resources are drawn to meet the needs of all members, which are regulated by the heads of the family. However, with modernisation and economic development, India has witnessed a break up of traditional joint family into more nuclear families and the traditional joint family in India accounted for a small percent of Indian households.\n",
      "Arranged marriages have been the tradition in Indian society. Marriage is considered a union of the two families rather than just the individuals, the process involved in an arranged marriage can be different depending on the communities and families. Recent survey study found that fewer marriages are purely arranged without consent and that the majority of surveyed Indian marriages are arranged with consent. The study also suggested that Indian culture is trending away from traditional arranged marriages, they find that the marriage trends in India are similar to trends observed over last 40 years where arranged marriages were previously common, particularly in China and Japan.\n",
      "\n",
      "\n",
      "=== Dress ===\n",
      "India's clothing styles have continuously evolved over the course of history. Cotton was first cultivated in Indian subcontinent around the 5th millennium BC. Dyes used during this period are still in use, particularly indigo, red madder, lac and turmeric. Silk was woven around 2450 BC and 2000 BC. In the 11th century BC Rig-veda mentions dyed and embroidered garments known as paridhan and pesas respectively and thus highlights the development of sophisticated garment manufacturing techniques during this period. In the 5th century BCE, Greek historian Herodotus describes the richness of the quality of Indian textiles. By the 2nd century AD, cotton, muslins and silk textiles manufactured in India were imported by the Roman Empire and was one of the major exports of ancient India to other parts of the world along with Indian spices and Wootz steel.\n",
      "Traditional Indian clothing greatly varies across different parts of the country and is influenced by local culture, geography and climate. Women traditionally wear Sari, Gagra Choli, Angarkha, Phiran, Shalwar Kameez, Gharara and Bandi with Dupatta or Ghoonghat worn over head or shoulder to complete the outfit. Men traditionally wear Angarkha, Achkan, Bagalbandi, Kurta, Kameez, Phiran, Sherwani and Koti for upper garment, lower garment includes Dhoti, Churidar, Shalwar, and Lungi. Pagri is usually worn around head to complete the outfit. In urban centres, people often wear western clothing and variety of other contemporary fashion.\n",
      "\n",
      "\n",
      "=== Cuisine ===\n",
      "\n",
      "Indian food varies from region to region. Staple foods of Indian cuisine include a variety of lentils (dal), whole-wheat flour (aṭṭa), rice and millet (kutki, kodra, bājra), which has been cultivated in Indian subcontinent since 6200 BCE. Over time, segments of the population embraced vegetarianism during Śramaṇa movement while an equitable climate permitted a variety of fruits, vegetables, and grains to be grown throughout the year. A food classification system that categorised any item as saatvic, raajsic or taamsic developed in Ayurveda tradition. The Bhagavad Gita prescribed certain dietary practices. During this period, consumption of various types of meat became taboo, due to being considered sacred or impure. Indian cuisines use numerous ingredients, deploy a wide range of food preparation styles, cooking techniques and culinary presentation depending on geographical location.\n",
      "\n",
      "\n",
      "=== Performing arts ===\n",
      "\n",
      "The oldest preserved examples of Indian music are the melodies of the Samaveda (1000 BC) that are still sung in certain Śrauta sacrifices; this is the earliest account of Indian musical hymns. The Samaveda, and other Hindu texts, heavily influenced India's classical music tradition, which is known today in two distinct styles: Hindustani music and Carnatic music. Both the Hindustani and Carnatic music systems are based on the melodic base known as Rāga, sung to a rhythmic cycle known as Tāla. These principles were refined in the nātyaśāstra (200 BC) and the dattilam (300 AD).\n",
      "The nātyaśāstrais an ancient Indian treatise on the performing arts, encompassing theatre, dance and music. It was written during the period between 200 BCE and 200 CE in classical India and is traditionally attributed to the Sage Bharata. Natya Shastra is incredibly wide in its scope. While it primarily deals with stagecraft, it has come to influence music, classical dance, and literature as well. It covers stage design, music, dance, makeup, and virtually every other aspect of stagecraft.\n",
      "Indian drama and theatre has a long history alongside its music and dance. One of the earliest known theatre play is Mṛcchakatika composed by Śudraka. Followed by Aśvaghoṣa's Śāriputraprakaraṇa and Bhāsa's Swapnavāsavadatta and Pancharātra. Most notable works are Kālidāsa's Abhijñānaśākuntala, Vikramorvaśīya and Mālavikāgnimitra. Harsha's Ratnavali, Priyadarsika, and Naganandam, other notable ancient dramatists include Bhatta Narayana, Bhavabhuti, Vishakhadatta, Thirayattam and Viswanatha Kaviraja.\n",
      "Notable fable story-plays Panchatantra, Baital Pachisi, Kathasaritsagara, Brihatkatha and Jataka tales were performed in folk theatres since ancient period. Jataka tales has become part of Southeast and East Asian folklore with the spread of Buddhism. These literature's were also influential in development of One Thousand and One Nights during medieval period.\n",
      "\n",
      "\n",
      "=== Contribution and discoveries ===\n",
      "\n",
      "Indian people have played a major role in the development of the philosophy, sciences, mathematics, arts, architecture and astronomy throughout history. During the ancient period, notable mathematics accomplishment of India included Hindu–Arabic numeral system with decimal place-value and a symbol for zero, interpolation formula, Fibonacci's identity, theorem, the first complete arithmetic solution (including zero and negative solutions) to quadratic equations. Chakravala method, sign convention, madhava series, and the sine and cosine in trigonometric functions can be traced to the jyā and koti-jyā. Notable military inventions include war elephants, crucible steel weapons popularly known as Damascus steel and Mysorean rockets. Other notable inventions during ancient period include chess, cotton, sugar, fired bricks, carbon pigment ink, ruler, lac, lacquer, stepwell, indigo dye, snake and ladder, muslin, ludo, calico, Wootz steel, incense clock, shampoo, palampore, chintz, and prefabricated homes.\n",
      "Indian cultural aspects, religions, philosophy, arts and architecture have developed over several millennia and have spread through much of Asia in peaceful manner. Many architectural structures of India such as Sanchi Stupa, Taj Mahal and Mahabodhi Temple are UNESCO World Heritage Sites today.\n",
      "In modern times, Indian people have continued to contribute to mathematics, sciences and astrophysics. Among them are Satyendra Nath Bose, Srinivasa Ramanujan, Jagadish Chandra Bose, Meghnad Saha, Homi J. Bhabha, Prasanta Chandra Mahalanobis, and notable Nobel Prize recipients C. V. Raman, Har Gobind Khorana, Venkatraman Ramakrishnan, and Subrahmanyan Chandrasekhar who is notable for currently accepted theory on the later evolutionary stages of massive stars, including black holes.\n",
      "\n",
      "\n",
      "=== National personification ===\n",
      "Bharat Mata (Hindi, from Sanskrit भारत माता, Bhārata Mātā), Mother India, or Bhāratāmbā (from अंबा ambā 'mother') is the national personification of India as a mother goddess.\n",
      "The image of Bharat Mata formed with the Indian independence movement of the late 19th century. A play by Kiran Chandra Bandyopadhyay, Bhārat Mātā, was first performed in 1873. She is usually depicted as a woman clad in an orange or saffron sari holding a flag and sometimes accompanied by a lion.\n",
      "\n",
      "\n",
      "=== Sports ===\n",
      "\n",
      "Sports in India are mainly in two categories: traditional sports and global sports. Traditional sports like gilli danda, kho kho, kabaddi are quite popular. On the other hand, Indians are highly enthusiastic about the game of cricket, to the extent that it is treated as a religion in itself. Sports like hockey, volleyball, football are quite popular while polo, golf and tennis are preferred sports for affluent sections of the society. In recent times with government support Olympic sports like shooting, archery, wrestling, javelin throw, swimming, badminton have gained prominence in the Indian society.\n",
      "\n",
      "\n",
      "== Indian diaspora ==\n",
      "\n",
      "Indo-Aryan migrations and emigrations have been historically present in the Indian subcontinent for thousands of years and have produced ethnic groups which derive their ancestry from India. One notable example being the Romani people, where most trace their ancestry to Rajasthan. However their historically strong presence in Europe, their ethnic and linguistic divide from the Indian subcontinent, and their assimilation with Slavic and other European backgrounds, results in historians constituting them as a separate ethnicity compared to ethnicities classified as Indian or Desi.\n",
      "However the current and historically accurate consensus of the Indian diaspora and by extension the South Asian diaspora, is generalized as individuals whose families or themselves migrated to other parts of the world during or after the British Raj.\n",
      "Article 9 of India's constitution prohibits Indian citizens from holding citizenship from other countries. As a substitution the Indian government created the Overseas Citizenship of India (OCI) status, which gives former Indian citizens and their descendants permanent residency status in the country. Many members of the Indian diaspora are not OCI holders, with only 4 million people holding OCI status as of 2022. As a result the Indian diaspora statistics posted by the Indian government may not reflect the statistics posted by the respective country of residency, or could lead to discrepancies as to how many members there are within the Indian diaspora in any given country or territory.\n",
      "\n",
      "\n",
      "=== United Kingdom ===\n",
      "\n",
      "The British Indian community had grown to number over one million. According to the 2001 UK Census, 1,053,411 Britons had full Indian ancestry (representing 1.8% of the UK's population). An overwhelming majority of 99.3% resided in England (in 2008 the figure is thought to be around 97.0%). In the seven-year period between 2001 and 2009, the number of Indian-born people in the UK increased in size by 38% from 467,634 to around 647,000 (an increase of approximately 180,000).\n",
      "\n",
      "\n",
      "=== Canada ===\n",
      "\n",
      "There are approximately 1.86 million people of Indian origin or ancestry in Canada, the majority of which live in Greater Toronto and Vancouver, with growing communities in Alberta and Quebec. Roughly 5.1% of the total Canadian population is of Indian ancestry, a figure higher than both the United States and Britain. South Asian Canadians account for 7.1% of Canada's population. According to Statistics Canada, Indo-Canadians are one of the fastest-growing visible minority groups in Canada, making up the second-largest group of non-European descent in the country after Chinese Canadians.\n",
      "The Indo-Canadian community can trace its history in Canada back 120 years to 1897 when a contingent of Sikh soldiers visited the western coast of Canada, primarily British Columbia which at the time was very sparsely populated and the Canadian government wanted to settle to prevent a takeover of the territory by the United States.\n",
      "\n",
      "\n",
      "=== South Africa ===\n",
      "\n",
      "More than a million people of South Asian descent live in South Africa, with their ancestors having left colonial India mostly as indentured labourers, and with smaller numbers emigrating later as \"Passenger Indians\", in the late 19th and early 20th centuries. They are concentrated around the city of Durban. Under the now-defunct Apartheid system, they were classified as part of the 'Indian' race. Today, they are perceived as \"black people\" within South Africa's broad-based black economic empowerment policies.\n",
      "\n",
      "\n",
      "=== Tanzania ===\n",
      "\n",
      "About 40,000 people of Indian origin live in Tanzania mostly in the urban areas.\n",
      "\n",
      "\n",
      "=== United States ===\n",
      "\n",
      "According to the American Community Survey of the United States Census Bureau, the Indian American population in the United States grew from almost 1.67 million in 2000 to 3.1 million in 2010 which is the third-largest Asian American community in the United States after Chinese Americans and Filipino Americans.\n",
      "\n",
      "\n",
      "=== Caribbean ===\n",
      "\n",
      "After slavery was abolished in the European colonies, Indians were hired under the Indian indenture system to become indentured laborers to fill the need for cheap labor and for their skills in agriculture. In the English-speaking Caribbean and Suriname, Indians primarily came from the Hindi Belt, especially the Awadh region in central and eastern Uttar Pradesh and the Bhojpur region of eastern Uttar Pradesh, western Bihar, and northwestern Jharkhand, along with a significant minority who came from South India, and a smaller minority who came from other parts of India. They arrived from the late 1830s to the early 1920s as indentured laborers to work primarily on sugarcane estates, as well as on cocoa, rice, banana, coconut, and coffee estates after indentureship. After the first wave of migration of indentured laborers, more Indians from Gujarat, Sindh, Kutch, Punjab, Bengal, and South India came to the Caribbean for business and professional occupations from the 1930s till present-day. There are more than a million Indo-Caribbean people. In Trinidad and Tobago, Guyana, and Suriname they are the largest ethnic groups. The Indians from the Bhojpuri and Awadhi-speaking areas of the Hindi Belt made up the majority of Indians in the Anglo-Caribbean and Suriname. Hence, their dialect of Hindustani, known as Caribbean Hindustani collectively, is based mostly on Bhojpuri and Awadhi, and it became the lingua franca of the early Indians. Also, since they formed the largest group of Indians, the traditions and culture from the Bhojpur and Awadh regions became the dominant culture for the Indians in those countries. France sent southern Indians to its colonies in the Caribbean as indentured laborers, hence there are also many residents of Indian descent in Guadeloupe, Martinique, and French Guiana, mostly of southern Indian descent. Many Indo-Caribbean people have migrated to the United States, United Kingdom, Canada, the Netherlands, and France, and few of them have even seasonally migrated to the neighboring Latin American and other Caribbean countries as migrant workers. A majority of Indo-Caribbean are Hindus, while there is significant minority of Christians and Muslims, along with smaller numbers of recently arrived Indian Jains, Sikhs, Buddhist, and Baháʼís. Indo-Caribbean people are known as the descendants of the jahajis or girmityas.\n",
      "\n",
      "\n",
      "== Genetics ==\n",
      "\n",
      "Recent genome studies appear to show that South Asians are a mixture of two major ancestral components, one component restricted to South Asia and the other component shared with Central Asia, West Asia, and Europe.\n",
      "\n",
      "\n",
      "== See also ==\n",
      "Lists of Indian people\n",
      "South Asian ethnic groups\n",
      "Ethnic groups in Asia\n",
      "Romani people\n",
      "\n",
      "\n",
      "== Notes ==\n",
      "\n",
      "\n",
      "== References ==\n",
      "\n",
      "\n",
      "=== Works cited ===\n"
     ]
    }
   ],
   "source": [
    "\n",
    "#web scrapping\n",
    "# Step 2: Import Libraries\n",
    "import wikipedia\n",
    "from wordcloud import WordCloud\n",
    "import matplotlib.pyplot as plt\n",
    "\n",
    "# Step 3: Ask for or Set the Article Title\n",
    "article_title = \"Indian people\"  # You can change this to any topic\n",
    "\n",
    "\n",
    "# Get Wikipedia content\n",
    "text = wikipedia.page(article_title).content\n",
    "print(text)\n"
   ]
  },
  {
   "cell_type": "code",
   "execution_count": null,
   "id": "kg-f6n3uay3v",
   "metadata": {
    "id": "kg-f6n3uay3v"
   },
   "outputs": [],
   "source": [
    "\n",
    "# Generate WordCloud\n",
    "wordcloud = WordCloud(\n",
    "    width=1000,\n",
    "    height=500,\n",
    "    background_color='white',\n",
    "    max_font_size=120,\n",
    "    max_words=100,\n",
    ").generate(text)\n",
    "\n",
    "# Display WordCloud\n",
    "plt.figure(figsize=(15, 7.5))\n",
    "plt.imshow(wordcloud)\n",
    "plt.title(f\"WordCloud for Wikipedia Article: {article_title}\", fontsize=18)\n",
    "plt.show()\n"
   ]
  }
 ],
 "metadata": {
  "colab": {
   "provenance": []
  },
  "kernelspec": {
   "display_name": "base",
   "language": "python",
   "name": "python3"
  },
  "language_info": {
   "codemirror_mode": {
    "name": "ipython",
    "version": 3
   },
   "file_extension": ".py",
   "mimetype": "text/x-python",
   "name": "python",
   "nbconvert_exporter": "python",
   "pygments_lexer": "ipython3",
   "version": "3.12.7"
  }
 },
 "nbformat": 4,
 "nbformat_minor": 5
}
