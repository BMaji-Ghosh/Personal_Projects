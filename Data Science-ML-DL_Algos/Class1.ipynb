{
 "cells": [
  {
   "cell_type": "code",
   "execution_count": 42,
   "id": "bc1df7dd",
   "metadata": {},
   "outputs": [
    {
     "name": "stdout",
     "output_type": "stream",
     "text": [
      "Total Revenue 1882\n",
      "Total Count 20\n",
      "Mean 94.1\n",
      "Median 23.5\n",
      "Mode 12\n",
      "Minimum 3\n",
      "Maximum 421\n",
      "Range 418\n",
      "Variance 17700.09\n",
      "Standard Deviation 133.04168519678333\n",
      "q1 17.25\n",
      "q3 86.25\n",
      "IQR 69.0\n",
      "Lower whisker -86.25\n",
      "upper whisker 189.75\n"
     ]
    }
   ],
   "source": [
    "#opening this library\n",
    "import numpy as np\n",
    "import warnings\n",
    "warnings.filterwarnings('ignore')\n",
    "#import scipy.stats as st\n",
    "from scipy import stats as st\n",
    "\n",
    "data=[10,22,41,42,56,74,221,21,19,23,3,24,21,421,4,12,421,12,312,123]\n",
    "\n",
    "total_sum=sum(data)\n",
    "print('Total Revenue',total_sum)\n",
    "\n",
    "count=len(data)\n",
    "print('Total Count',count)\n",
    "\n",
    "avg=total_sum/count\n",
    "print('Mean',avg)\n",
    "\n",
    "med=np.median(data)\n",
    "print('Median',med)\n",
    "\n",
    "mode_val,mode_count=st.mode(data)\n",
    "print('Mode',mode_val)\n",
    "\n",
    "low=min(data)\n",
    "print('Minimum',low)\n",
    "\n",
    "high=max(data)\n",
    "print('Maximum',high)\n",
    "\n",
    "ran=high-low\n",
    "print('Range',ran)\n",
    "\n",
    "vary=np.var(data)\n",
    "print('Variance',vary)\n",
    "\n",
    "sd=np.std(data)\n",
    "print('Standard Deviation',sd)\n",
    "\n",
    "#1st quartile-25th percentile of data\n",
    "q1=np.percentile(data,25)\n",
    "print('q1',q1)\n",
    "#2nd quartile-75th percentile of data\n",
    "q3=np.percentile(data,75)\n",
    "print('q3',q3)\n",
    "\n",
    "iqr=q3-q1\n",
    "print('IQR',iqr)\n",
    "\n",
    "lw=q1-(iqr*1.5)\n",
    "print(\"Lower whisker\",lw)\n",
    "\n",
    "uw=q3+(iqr*1.5)\n",
    "print('upper whisker',uw)\n"
   ]
  },
  {
   "cell_type": "code",
   "execution_count": 43,
   "id": "ed83fec6",
   "metadata": {},
   "outputs": [
    {
     "data": {
      "image/png": "[encoded data removed]",
      "text/plain": [
       "<Figure size 640x480 with 1 Axes>"
      ]
     },
     "metadata": {},
     "output_type": "display_data"
    }
   ],
   "source": [
    "#boxplot \n",
    "#whisker plot\n",
    "\n",
    "#Visualization\n",
    "import matplotlib.pyplot as plt\n",
    "import seaborn as sns\n",
    "\n",
    "sns.boxplot(y=data)\n",
    "plt.show()"
   ]
  },
  {
   "cell_type": "code",
   "execution_count": 44,
   "id": "db6e7d7d",
   "metadata": {},
   "outputs": [
    {
     "name": "stdout",
     "output_type": "stream",
     "text": [
      "Kurtosis-> 1.1196200947451524\n",
      "Swekness-> 1.6233292964943906\n"
     ]
    }
   ],
   "source": [
    "kurt=st.kurtosis(data)\n",
    "print('Kurtosis->',kurt)\n",
    "\n",
    "skew=st.skew(data)\n",
    "print('Swekness->',skew)"
   ]
  },
  {
   "cell_type": "code",
   "execution_count": 45,
   "id": "5be25302",
   "metadata": {},
   "outputs": [
    {
     "name": "stdout",
     "output_type": "stream",
     "text": [
      "3 X 1= 3\n",
      "3 X 2= 6\n",
      "3 X 3= 9\n",
      "3 X 4= 12\n",
      "3 X 5= 15\n",
      "3 X 6= 18\n",
      "3 X 7= 21\n",
      "3 X 8= 24\n",
      "3 X 9= 27\n",
      "3 X 10= 30\n",
      "-----------------\n",
      "10X 10 100\n",
      "9X 9 81\n",
      "8X 8 64\n",
      "7X 7 49\n",
      "6X 6 36\n",
      "5X 5 25\n",
      "4X 4 16\n",
      "3X 3 9\n",
      "2X 2 4\n",
      "1X 1 1\n"
     ]
    }
   ],
   "source": [
    "#for loop\n",
    "for i in range(1,11):\n",
    "    print(f\"3 X {i}=\",i*3)\n",
    "#while loop\n",
    "print(\"-----------------\")\n",
    "x=10\n",
    "while x>0:\n",
    "    print (f\"{x}X {x}\" ,x*x)\n",
    "    x=x-1\n",
    "\n"
   ]
  },
  {
   "cell_type": "code",
   "execution_count": 46,
   "id": "628ea99f",
   "metadata": {},
   "outputs": [
    {
     "name": "stdout",
     "output_type": "stream",
     "text": [
      "Sanket Phulpagar\n",
      "19:52\n",
      "Sanket Phulpagar\n",
      "19:52\n",
      "Sanket Phulpagar\n",
      "19:52\n",
      "Sanket Phulpagar\n",
      "19:52\n",
      "Sanket Phulpagar\n",
      "19:52\n",
      "Sanket Phulpagar\n",
      "19:52\n",
      "Sanket Phulpagar\n",
      "19:52\n",
      "Sanket Phulpagar\n",
      "19:53\n",
      "Sanket Phulpagar\n",
      "19:53\n",
      "Sanket Phulpagar\n",
      "19:53\n",
      "Sanket Phulpagar\n",
      "19:53\n",
      "Sanket Phulpagar\n",
      "19:53\n",
      "Sanket Phulpagar\n",
      "19:53\n",
      "Sanket Phulpagar\n",
      "19:53\n",
      "Sanket Phulpagar\n",
      "19:53\n",
      "Sanket Phulpagar\n",
      "19:53\n",
      "Sanket Phulpagar\n",
      "19:53\n",
      "Sanket Phulpagar\n",
      "19:53\n",
      "Sanket Phulpagar\n",
      "19:53\n",
      "Sanket Phulpagar\n",
      "19:53\n",
      "Sanket Phulpagar\n",
      "19:53\n",
      "Sanket Phulpagar\n",
      "19:53\n",
      "Sanket Phulpagar\n",
      "19:53\n",
      "Sanket Phulpagar\n",
      "19:53\n",
      "Sanket Phulpagar\n",
      "19:53\n",
      "Sanket Phulpagar\n",
      "19:53\n",
      "Sanket Phulpagar\n",
      "19:53\n",
      "Sanket Phulpagar\n",
      "19:53\n",
      "Sanket Phulpagar\n",
      "19:53\n",
      "Sanket Phulpagar\n",
      "19:53\n",
      "Sanket Phulpagar\n",
      "19:53\n",
      "Sanket Phulpagar\n",
      "19:53\n",
      "Sanket Phulpagar\n",
      "19:53\n",
      "Sanket Phulpagar\n",
      "19:53\n",
      "Sanket Phulpagar\n",
      "19:53\n",
      "Sanket Phulpagar\n",
      "19:53\n",
      "Sanket Phulpagar\n",
      "19:53\n"
     ]
    },
    {
     "ename": "KeyboardInterrupt",
     "evalue": "",
     "output_type": "error",
     "traceback": [
      "\u001b[1;31m---------------------------------------------------------------------------\u001b[0m",
      "\u001b[1;31mKeyboardInterrupt\u001b[0m                         Traceback (most recent call last)",
      "Cell \u001b[1;32mIn[46], line 9\u001b[0m\n\u001b[0;32m      7\u001b[0m \u001b[38;5;28mprint\u001b[39m(\u001b[38;5;124m\"\u001b[39m\u001b[38;5;124mSanket Phulpagar\u001b[39m\u001b[38;5;124m\"\u001b[39m)\n\u001b[0;32m      8\u001b[0m \u001b[38;5;28mprint\u001b[39m(cur_time)\n\u001b[1;32m----> 9\u001b[0m time\u001b[38;5;241m.\u001b[39msleep(\u001b[38;5;241m1\u001b[39m)\n\u001b[0;32m     10\u001b[0m cur_time\u001b[38;5;241m=\u001b[39mdatetime\u001b[38;5;241m.\u001b[39mdatetime\u001b[38;5;241m.\u001b[39mnow()\u001b[38;5;241m.\u001b[39mstrftime(\u001b[38;5;124m\"\u001b[39m\u001b[38;5;124m%\u001b[39m\u001b[38;5;124mH:\u001b[39m\u001b[38;5;124m%\u001b[39m\u001b[38;5;124mM\u001b[39m\u001b[38;5;124m\"\u001b[39m)\n",
      "\u001b[1;31mKeyboardInterrupt\u001b[0m: "
     ]
    }
   ],
   "source": [
    "import datetime\n",
    "import time\n",
    "cur_time=datetime.datetime.now().strftime(\"%H:%M\")\n",
    "\n",
    "\n",
    "while cur_time!='18:25':\n",
    "    print(\"Sanket Phulpagar\")\n",
    "    print(cur_time)\n",
    "    time.sleep(1)\n",
    "    cur_time=datetime.datetime.now().strftime(\"%H:%M\")"
   ]
  },
  {
   "cell_type": "code",
   "execution_count": 47,
   "id": "bd711452",
   "metadata": {},
   "outputs": [
    {
     "data": {
      "text/plain": [
       "'c:\\\\Users\\\\sanke\\\\Python Data Science Faiz\\\\Stats class-1 Mr Omkar'"
      ]
     },
     "execution_count": 47,
     "metadata": {},
     "output_type": "execute_result"
    }
   ],
   "source": [
    "#get current working directory\n",
    "import os\n",
    "os.getcwd()\n",
    "\n"
   ]
  },
  {
   "cell_type": "code",
   "execution_count": 52,
   "id": "393ad79f",
   "metadata": {},
   "outputs": [
    {
     "name": "stdout",
     "output_type": "stream",
     "text": [
      "win32\n",
      "['c:\\\\Users\\\\sanke\\\\Python Data Science Faiz\\\\Stats class-1 Mr Omkar', 'c:\\\\Users\\\\sanke\\\\anaconda3\\\\python312.zip', 'c:\\\\Users\\\\sanke\\\\anaconda3\\\\DLLs', 'c:\\\\Users\\\\sanke\\\\anaconda3\\\\Lib', 'c:\\\\Users\\\\sanke\\\\anaconda3', '', 'c:\\\\Users\\\\sanke\\\\anaconda3\\\\Lib\\\\site-packages', 'c:\\\\Users\\\\sanke\\\\anaconda3\\\\Lib\\\\site-packages\\\\win32', 'c:\\\\Users\\\\sanke\\\\anaconda3\\\\Lib\\\\site-packages\\\\win32\\\\lib', 'c:\\\\Users\\\\sanke\\\\anaconda3\\\\Lib\\\\site-packages\\\\Pythonwin', 'c:\\\\Users\\\\sanke\\\\anaconda3\\\\Lib\\\\site-packages\\\\setuptools\\\\_vendor']\n"
     ]
    },
    {
     "data": {
      "text/plain": [
       "'3.12.7 | packaged by Anaconda, Inc. | (main, Oct  4 2024, 13:17:27) [MSC v.1929 64 bit (AMD64)]'"
      ]
     },
     "execution_count": 52,
     "metadata": {},
     "output_type": "execute_result"
    }
   ],
   "source": [
    "#display current platform Name\n",
    "import sys\n",
    "print(sys.platform)\n",
    "print(sys.path)\n",
    "\n",
    "sys.version\n"
   ]
  },
  {
   "cell_type": "code",
   "execution_count": 53,
   "id": "e9c83c87",
   "metadata": {},
   "outputs": [
    {
     "data": {
      "text/plain": [
       "int"
      ]
     },
     "execution_count": 53,
     "metadata": {},
     "output_type": "execute_result"
    }
   ],
   "source": [
    "type(x)"
   ]
  },
  {
   "cell_type": "code",
   "execution_count": 1,
   "id": "e543e998",
   "metadata": {},
   "outputs": [
    {
     "data": {
      "text/plain": [
       "['False',\n",
       " 'None',\n",
       " 'True',\n",
       " 'and',\n",
       " 'as',\n",
       " 'assert',\n",
       " 'async',\n",
       " 'await',\n",
       " 'break',\n",
       " 'class',\n",
       " 'continue',\n",
       " 'def',\n",
       " 'del',\n",
       " 'elif',\n",
       " 'else',\n",
       " 'except',\n",
       " 'finally',\n",
       " 'for',\n",
       " 'from',\n",
       " 'global',\n",
       " 'if',\n",
       " 'import',\n",
       " 'in',\n",
       " 'is',\n",
       " 'lambda',\n",
       " 'nonlocal',\n",
       " 'not',\n",
       " 'or',\n",
       " 'pass',\n",
       " 'raise',\n",
       " 'return',\n",
       " 'try',\n",
       " 'while',\n",
       " 'with',\n",
       " 'yield']"
      ]
     },
     "execution_count": 1,
     "metadata": {},
     "output_type": "execute_result"
    }
   ],
   "source": [
    "import platform\n",
    "platform.python_version()\n",
    "import keyword\n",
    "keyword.kwlist"
   ]
  },
  {
   "cell_type": "code",
   "execution_count": 7,
   "id": "90f4404f",
   "metadata": {},
   "outputs": [
    {
     "name": "stdout",
     "output_type": "stream",
     "text": [
      "123\n",
      "10\n",
      "87\n"
     ]
    }
   ],
   "source": [
    "#primitive data structure\n",
    "#Integers,float,string,Boolean\n",
    "\n",
    "#Non-primitive data structure\n",
    "#List,Tuple,Set,dictionary\n",
    "\n",
    "\n",
    "#List of python functions\n",
    "#1)int(x[base]) 2)bool()  3)float() 4)str(x) 5)list() 6)tuple() 7)set(s) 8)dict(d) 9)ord(x) 10)chr(x) 11)complex(real)\n",
    "#1)syntax-(value,[])\n",
    "print(int(123.123))\n",
    "print(int(\"1010\",2))\n",
    "print(int(\"127\",8))\n"
   ]
  },
  {
   "cell_type": "code",
   "execution_count": 18,
   "id": "566c703b",
   "metadata": {},
   "outputs": [
    {
     "name": "stdout",
     "output_type": "stream",
     "text": [
      "True\n",
      "False\n",
      "False\n",
      "True\n",
      "True\n",
      "False\n",
      "True\n",
      "True\n",
      "<class 'bool'>\n",
      "1\n",
      "<class 'int'>\n",
      "1.0\n",
      "<class 'float'>\n",
      "False\n",
      "<class 'bool'>\n",
      "<class 'float'>\n",
      "<class 'int'>\n",
      "123\n",
      "<class 'float'>\n",
      "123.0\n"
     ]
    },
    {
     "ename": "ValueError",
     "evalue": "invalid literal for int() with base 10: 'Hello'",
     "output_type": "error",
     "traceback": [
      "\u001b[1;31m---------------------------------------------------------------------------\u001b[0m",
      "\u001b[1;31mValueError\u001b[0m                                Traceback (most recent call last)",
      "Cell \u001b[1;32mIn[18], line 40\u001b[0m\n\u001b[0;32m     37\u001b[0m \u001b[38;5;28mprint\u001b[39m(\u001b[38;5;28mfloat\u001b[39m(pystr))\n\u001b[0;32m     39\u001b[0m pystr\u001b[38;5;241m=\u001b[39m\u001b[38;5;124m\"\u001b[39m\u001b[38;5;124mHello\u001b[39m\u001b[38;5;124m\"\u001b[39m\n\u001b[1;32m---> 40\u001b[0m \u001b[38;5;28mprint\u001b[39m(\u001b[38;5;28mtype\u001b[39m(\u001b[38;5;28;43mint\u001b[39;49m\u001b[43m(\u001b[49m\u001b[43mpystr\u001b[49m\u001b[43m)\u001b[49m))\n",
      "\u001b[1;31mValueError\u001b[0m: invalid literal for int() with base 10: 'Hello'"
     ]
    }
   ],
   "source": [
    "print(bool(1))\n",
    "print(bool(0))\n",
    "print(bool(0.0))\n",
    "print(bool(\"Hello\"))\n",
    "print(bool(1))\n",
    "print(bool(None))\n",
    "print(bool(-1))\n",
    "print(bool([0,0]))\n",
    "\n",
    "#type conversion\n",
    "pybool=True\n",
    "print(type(pybool))\n",
    "\n",
    "pyint=int(pybool)\n",
    "print(pyint)\n",
    "print(type(pyint))\n",
    "\n",
    "pyfloat=float(pybool)\n",
    "print(pyfloat)\n",
    "print(type(pyfloat))\n",
    "\n",
    "inti=0\n",
    "print(bool(inti))\n",
    "print(type(bool(inti)))\n",
    "\n",
    "pyfloat=123.01\n",
    "print(type(pyfloat))\n",
    "\n",
    "\n",
    "pystr=\"123\"\n",
    "print(type(int(pystr)))\n",
    "print(int(pystr))\n",
    "\n",
    "\n",
    "pystr=\"123\"\n",
    "print(type(float(pystr)))\n",
    "print(float(pystr))\n",
    "\n",
    "pystr=\"Hello\"\n",
    "print(type(int(pystr)))"
   ]
  },
  {
   "cell_type": "code",
   "execution_count": 30,
   "id": "2e3714ae",
   "metadata": {},
   "outputs": [
    {
     "name": "stdout",
     "output_type": "stream",
     "text": [
      "<class 'str'>\n",
      "<class 'list'>\n",
      "['1', '2', '4', '3']\n",
      "<class 'str'>\n",
      "2\n",
      "1\n",
      "<class 'tuple'>\n",
      "{1: 'Python', 2: 'ai', 3: 'class'}\n"
     ]
    }
   ],
   "source": [
    "#same with tuple,set\n",
    "pystr=\"1243\"\n",
    "print(type(pystr))\n",
    "pylist=list(pystr)\n",
    "print(type(pylist))\n",
    "print(pylist)\n",
    "\n",
    "\n",
    "print(type(pylist[1]))\n",
    "print(int(pylist[1]))\n",
    "x=int(pylist[0])\n",
    "print(x)\n",
    "\n",
    "\n",
    "#Dictionary()-It is used to convert a tuple of order(key,value) into a dictionarty. Syntax-dict(key,value)\n",
    "\n",
    "\n",
    "pytuple=((1,\"Python\"),(2,\"ai\"),(3,'class'))\n",
    "print(type(pytuple))\n",
    "pydict=dict(pytuple)\n",
    "print(pydict)"
   ]
  },
  {
   "cell_type": "code",
   "execution_count": 39,
   "id": "99774ee9",
   "metadata": {},
   "outputs": [
    {
     "name": "stdout",
     "output_type": "stream",
     "text": [
      "65\n",
      "66\n",
      "67\n",
      "97\n",
      "98\n",
      "95\n",
      "49\n",
      "A\n"
     ]
    }
   ],
   "source": [
    "#ord()-it is used to convert a charecter to integer.syntax:ord('char')\n",
    "#chr(i)-return the string of unicode-the opposite of ord to chr\n",
    "print(ord('A'))\n",
    "print(ord('B'))\n",
    "print(ord('C'))\n",
    "print(ord('a'))\n",
    "print(ord('b'))\n",
    "print(ord('_'))\n",
    "print(ord('1'))\n",
    "\n",
    "print(chr(65))"
   ]
  },
  {
   "cell_type": "code",
   "execution_count": 40,
   "id": "02b3d321",
   "metadata": {},
   "outputs": [
    {
     "name": "stdout",
     "output_type": "stream",
     "text": [
      "(3+5j)\n"
     ]
    }
   ],
   "source": [
    "#complex-this function conversts real no to complex numbers\n",
    "#complex(real,imaginary)\n",
    "x=complex(1,2)\n",
    "y=complex(2,3)\n",
    "print(x+y)"
   ]
  },
  {
   "cell_type": "code",
   "execution_count": 43,
   "id": "72ccc546",
   "metadata": {},
   "outputs": [
    {
     "name": "stdout",
     "output_type": "stream",
     "text": [
      "NIT is a good institute,it has 19 years of experience\n",
      "Naresh-IT has lot of experince is coaching\n"
     ]
    }
   ],
   "source": [
    "#String formatting operators- %c,%s,%d,%u,%o,%x,%X\n",
    "\n",
    "print(\"%s is a good institute,it has %d years of experience\" %(\"NIT\",19))\n",
    "print(\"%s has lot of experince is coaching\"%(\"Naresh-IT\"))"
   ]
  },
  {
   "cell_type": "code",
   "execution_count": 47,
   "id": "b7173683",
   "metadata": {},
   "outputs": [
    {
     "name": "stdout",
     "output_type": "stream",
     "text": [
      "3/2\n",
      "21/2\n",
      "201/2\n",
      "175/2\n"
     ]
    }
   ],
   "source": [
    "#what is indentation in python-it is required to indicate that if a statement belongs to a particular block of code.\n",
    "from fractions import Fraction\n",
    "#from classname import module\n",
    " \n",
    "print(Fraction(1.5)) \n",
    "print(Fraction(10.5)) \n",
    "print(Fraction(100.5)) \n",
    "print(Fraction(87.5)) \n"
   ]
  },
  {
   "cell_type": "code",
   "execution_count": null,
   "id": "ff645b43",
   "metadata": {},
   "outputs": [],
   "source": []
  }
 ],
 "metadata": {
  "kernelspec": {
   "display_name": "Python 3",
   "language": "python",
   "name": "python3"
  },
  "language_info": {
   "codemirror_mode": {
    "name": "ipython",
    "version": 3
   },
   "file_extension": ".py",
   "mimetype": "text/x-python",
   "name": "python",
   "nbconvert_exporter": "python",
   "pygments_lexer": "ipython3",
   "version": "3.13.1"
  }
 },
 "nbformat": 4,
 "nbformat_minor": 5
}
