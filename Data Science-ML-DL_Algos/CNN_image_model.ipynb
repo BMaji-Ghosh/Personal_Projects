{
 "cells": [
  {
   "cell_type": "code",
   "execution_count": 1,
   "id": "45699f7b",
   "metadata": {},
   "outputs": [],
   "source": [
    "import tensorflow as tf\n",
    "import pandas as pd\n",
    "import numpy as np\n",
    "import matplotlib.pyplot as plt\n",
    "from tensorflow.keras.preprocessing import image\n",
    "from tensorflow.keras.models import load_model\n",
    "import warnings\n",
    "warnings.filterwarnings('ignore')"
   ]
  },
  {
   "cell_type": "code",
   "execution_count": 2,
   "id": "3dae77e0",
   "metadata": {},
   "outputs": [
    {
     "name": "stderr",
     "output_type": "stream",
     "text": [
      "WARNING:absl:Compiled the loaded model, but the compiled metrics have yet to be built. `model.compile_metrics` will be empty until you train or evaluate the model.\n"
     ]
    }
   ],
   "source": [
    "model=load_model('model.h5')"
   ]
  },
  {
   "cell_type": "code",
   "execution_count": 3,
   "id": "d50ecf25",
   "metadata": {},
   "outputs": [],
   "source": [
    "output=['airplane','automobile','bird','cat','deer','dog','frog','horse','ship','truck']"
   ]
  },
  {
   "cell_type": "code",
   "execution_count": null,
   "id": "0cc3d2a1",
   "metadata": {},
   "outputs": [
    {
     "data": {
      "text/plain": [
       "<matplotlib.image.AxesImage at 0x1525009f620>"
      ]
     },
     "execution_count": 4,
     "metadata": {},
     "output_type": "execute_result"
    },
    {
     "data": {
      "image/png": "[encoded data removed]",
      "text/plain": [
       "<Figure size 640x480 with 1 Axes>"
      ]
     },
     "metadata": {},
     "output_type": "display_data"
    }
   ],
   "source": [
    "#Load image\n",
    "img_path='cifar10/cifar10/test/truck/0005.png'\n",
    "img=image.load_img(img_path,target_size=(32,32))\n",
    "\n",
    "#show image\n",
    "plt.imshow(img)\n",
    "\n"
   ]
  },
  {
   "cell_type": "code",
   "execution_count": 5,
   "id": "d1a51654",
   "metadata": {},
   "outputs": [
    {
     "data": {
      "text/plain": [
       "(32, 32, 3)"
      ]
     },
     "execution_count": 5,
     "metadata": {},
     "output_type": "execute_result"
    }
   ],
   "source": [
    "#convert image to matrix of numbers  \n",
    "img_array=image.img_to_array(img)\n",
    "img_array.shape"
   ]
  },
  {
   "cell_type": "code",
   "execution_count": 6,
   "id": "3257e482",
   "metadata": {},
   "outputs": [
    {
     "data": {
      "text/plain": [
       "array([[[[0.53333336, 0.5882353 , 0.77254903],\n",
       "         [0.54901963, 0.6039216 , 0.78431374],\n",
       "         [0.5568628 , 0.6117647 , 0.7921569 ],\n",
       "         ...,\n",
       "         [0.76862746, 0.79607844, 0.92941177],\n",
       "         [0.74509805, 0.76862746, 0.9137255 ],\n",
       "         [0.7294118 , 0.7607843 , 0.90588236]],\n",
       "\n",
       "        [[0.5254902 , 0.5803922 , 0.7647059 ],\n",
       "         [0.5411765 , 0.59607846, 0.78039217],\n",
       "         [0.54901963, 0.60784316, 0.7921569 ],\n",
       "         ...,\n",
       "         [0.72156864, 0.7529412 , 0.90588236],\n",
       "         [0.7019608 , 0.7294118 , 0.89411765],\n",
       "         [0.6862745 , 0.72156864, 0.8862745 ]],\n",
       "\n",
       "        [[0.49411765, 0.54901963, 0.73333335],\n",
       "         [0.50980395, 0.5647059 , 0.7490196 ],\n",
       "         [0.52156866, 0.5764706 , 0.7607843 ],\n",
       "         ...,\n",
       "         [0.6627451 , 0.69803923, 0.8666667 ],\n",
       "         [0.65882355, 0.6901961 , 0.87058824],\n",
       "         [0.654902  , 0.69803923, 0.87058824]],\n",
       "\n",
       "        ...,\n",
       "\n",
       "        [[0.3137255 , 0.28235295, 0.27058825],\n",
       "         [0.31764707, 0.28627452, 0.27450982],\n",
       "         [0.31764707, 0.28627452, 0.27450982],\n",
       "         ...,\n",
       "         [0.28235295, 0.2627451 , 0.23921569],\n",
       "         [0.28235295, 0.2627451 , 0.23529412],\n",
       "         [0.27058825, 0.25490198, 0.23529412]],\n",
       "\n",
       "        [[0.32156864, 0.2901961 , 0.2784314 ],\n",
       "         [0.32156864, 0.2901961 , 0.2784314 ],\n",
       "         [0.32156864, 0.2901961 , 0.2784314 ],\n",
       "         ...,\n",
       "         [0.28235295, 0.2627451 , 0.23921569],\n",
       "         [0.27058825, 0.2509804 , 0.22745098],\n",
       "         [0.2627451 , 0.24705882, 0.22745098]],\n",
       "\n",
       "        [[0.3137255 , 0.28235295, 0.27058825],\n",
       "         [0.30980393, 0.2784314 , 0.26666668],\n",
       "         [0.3137255 , 0.28627452, 0.27450982],\n",
       "         ...,\n",
       "         [0.28627452, 0.26666668, 0.24705882],\n",
       "         [0.2784314 , 0.25882354, 0.23529412],\n",
       "         [0.25490198, 0.23921569, 0.21960784]]]], dtype=float32)"
      ]
     },
     "execution_count": 6,
     "metadata": {},
     "output_type": "execute_result"
    }
   ],
   "source": [
    "#rescale pixel values from 0 to 1\n",
    "img_array=img_array/255.0\n",
    "img_array.shape\n",
    "\n",
    "#increase dimension\n",
    "img_array=np.expand_dims(img_array,axis=0)\n",
    "img_array"
   ]
  },
  {
   "cell_type": "code",
   "execution_count": 14,
   "id": "d9493dad",
   "metadata": {},
   "outputs": [
    {
     "name": "stdout",
     "output_type": "stream",
     "text": [
      "\u001b[1m1/1\u001b[0m \u001b[32m━━━━━━━━━━━━━━━━━━━━\u001b[0m\u001b[37m\u001b[0m \u001b[1m0s\u001b[0m 95ms/step\n",
      "This seems like a Truck with 97.51% confidence\n"
     ]
    }
   ],
   "source": [
    "#prediction\n",
    "pred=model.predict(img_array)\n",
    "#index=0\n",
    "# i in pred[0]:\n",
    "#    print(output[index],round(i,3))\n",
    "#    index+=1\n",
    "prediction=output[np.argmax(pred)].title()\n",
    "confidence=round(np.max(pred)*100,2)\n",
    "print(f\"This seems like a {prediction} with {confidence}% confidence\")\n",
    "\n",
    "\n",
    "    \n",
    "\n",
    "\n"
   ]
  },
  {
   "cell_type": "code",
   "execution_count": null,
   "id": "f2d08325",
   "metadata": {},
   "outputs": [],
   "source": []
  }
 ],
 "metadata": {
  "kernelspec": {
   "display_name": "base",
   "language": "python",
   "name": "python3"
  },
  "language_info": {
   "codemirror_mode": {
    "name": "ipython",
    "version": 3
   },
   "file_extension": ".py",
   "mimetype": "text/x-python",
   "name": "python",
   "nbconvert_exporter": "python",
   "pygments_lexer": "ipython3",
   "version": "3.12.7"
  }
 },
 "nbformat": 4,
 "nbformat_minor": 5
}
