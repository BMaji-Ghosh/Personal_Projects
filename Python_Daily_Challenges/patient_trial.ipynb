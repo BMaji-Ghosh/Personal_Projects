{
 "cells": [
  {
   "cell_type": "code",
   "execution_count": null,
   "id": "e8436feb",
   "metadata": {},
   "outputs": [],
   "source": [
    "# drugs\n",
    "amlodipine = (\"amlodipine\", \"Blood pressure\")\n",
    "buspirone = (\"buspirone\", \"Anxiety disorders\")\n",
    "carbimazole = (\"carbimazole\", \"Antithyroid agent\")\n",
    "citalopram = (\"citalopram\", \"Antidepressant\")\n",
    "edoxaban = (\"edoxaban\", \"anti-coagulant\")\n",
    "erythromycin = (\"erythromycin\", \"Antibiotic\")\n",
    "lusinopril = (\"lusinopril\", \"High blood pressure\")\n",
    "metformin = (\"metformin\", \"Type 2 diabetes\")\n",
    "methotrexate = (\"methotrexate\", \"Rheumatoid arthritis\")\n",
    "paracetamol = (\"paracetamol\", \"Painkiller\")\n",
    "propranol = (\"propranol\", \"Beta blocker\")\n",
    "simvastatin = (\"simvastatin\", \"High cholesterol\")\n",
    "warfarin = (\"warfarin\", \"anti-coagulant\")\n",
    "\n",
    "# Drugs that shouldn't be taken together\n",
    "adverse_interactions = [\n",
    "    {metformin, amlodipine},\n",
    "    {simvastatin, erythromycin},\n",
    "    {citalopram, buspirone},\n",
    "    {warfarin, citalopram},\n",
    "    {warfarin, edoxaban},\n",
    "    {warfarin, erythromycin},\n",
    "    {warfarin, amlodipine},\n",
    "]\n",
    "\n",
    "# Patient prescriptions\n",
    "patients = {\n",
    "    \"Anne\": {methotrexate, paracetamol},\n",
    "    \"Bob\": {carbimazole, erythromycin, methotrexate, paracetamol},\n",
    "    \"Charley\": {buspirone, lusinopril, metformin},\n",
    "    \"Denise\": {amlodipine, lusinopril, metformin, warfarin},\n",
    "    \"Eddie\": {amlodipine, propranol, simvastatin, warfarin},\n",
    "    \"Frank\": {buspirone, citalopram, propranol, warfarin},\n",
    "    \"Georgia\": {carbimazole, edoxaban, warfarin},\n",
    "    \"Helmut\": {erythromycin, paracetamol, propranol, simvastatin},\n",
    "    \"Izabella\": {amlodipine, citalopram, simvastatin, warfarin},\n",
    "    \"John\": {simvastatin},\n",
    "    \"Kenny\": {amlodipine, citalopram, metformin},\n",
    "}\n",
    "\n"
   ]
  }
 ],
 "metadata": {
  "language_info": {
   "name": "python"
  }
 },
 "nbformat": 4,
 "nbformat_minor": 5
}
