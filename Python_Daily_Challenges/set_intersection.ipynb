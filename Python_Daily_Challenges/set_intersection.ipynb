{
 "cells": [
  {
   "cell_type": "code",
   "execution_count": 18,
   "id": "21d009be",
   "metadata": {},
   "outputs": [
    {
     "name": "stdout",
     "output_type": "stream",
     "text": [
      "{0, 2, 4, 6, 8, 10, 12, 14, 16, 18}\n",
      "{1, 3, 5, 7, 9, 11, 13, 15, 17, 19}\n"
     ]
    }
   ],
   "source": [
    "evens=set(range(0,20,2))\n",
    "odds=set(range(1,20,2))\n",
    "\n",
    "print(evens)\n",
    "print(odds)"
   ]
  },
  {
   "cell_type": "code",
   "execution_count": 19,
   "id": "174ad5eb",
   "metadata": {},
   "outputs": [
    {
     "name": "stdout",
     "output_type": "stream",
     "text": [
      "{0, 1, 64, 4, 36, 100, 9, 16, 49, 81, 25}\n"
     ]
    }
   ],
   "source": [
    "def Square(x,y):\n",
    "    squares=set()\n",
    "    for i in range(x,y+1):\n",
    "        result=i*i\n",
    "        squares.add(result)\n",
    "    return squares   \n",
    "sqares_set=Square(0,10)\n",
    "print(sqares_set)"
   ]
  },
  {
   "cell_type": "code",
   "execution_count": 20,
   "id": "223dca99",
   "metadata": {},
   "outputs": [
    {
     "name": "stdout",
     "output_type": "stream",
     "text": [
      "{0, 16, 4}\n",
      "{0, 16, 4}\n"
     ]
    }
   ],
   "source": [
    "print(evens.intersection(sqares_set))\n",
    "print(evens & sqares_set)"
   ]
  },
  {
   "cell_type": "code",
   "execution_count": 23,
   "id": "29545a2b",
   "metadata": {},
   "outputs": [
    {
     "name": "stdout",
     "output_type": "stream",
     "text": [
      "{1, 9}\n"
     ]
    }
   ],
   "source": [
    "#passing an iterable to intersect method\n",
    "odd_squares=odds.intersection(Square(0,10))\n",
    "print(odd_squares)"
   ]
  },
  {
   "cell_type": "code",
   "execution_count": 25,
   "id": "b69a2139",
   "metadata": {},
   "outputs": [
    {
     "name": "stdout",
     "output_type": "stream",
     "text": [
      "{2, 6, 8, 10, 12, 14, 18}\n",
      "{2, 6, 8, 10, 12, 14, 18}\n"
     ]
    }
   ],
   "source": [
    "#set difference method\n",
    "print(evens.difference(sqares_set))\n",
    "print(evens-sqares_set)"
   ]
  },
  {
   "cell_type": "code",
   "execution_count": null,
   "id": "85b333d1",
   "metadata": {},
   "outputs": [],
   "source": []
  }
 ],
 "metadata": {
  "kernelspec": {
   "display_name": "base",
   "language": "python",
   "name": "python3"
  },
  "language_info": {
   "codemirror_mode": {
    "name": "ipython",
    "version": 3
   },
   "file_extension": ".py",
   "mimetype": "text/x-python",
   "name": "python",
   "nbconvert_exporter": "python",
   "pygments_lexer": "ipython3",
   "version": "3.12.7"
  }
 },
 "nbformat": 4,
 "nbformat_minor": 5
}
