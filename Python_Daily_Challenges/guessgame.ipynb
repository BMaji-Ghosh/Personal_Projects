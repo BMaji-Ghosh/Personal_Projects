{
 "cells": [
  {
   "cell_type": "code",
   "execution_count": null,
   "id": "6445fb2f",
   "metadata": {},
   "outputs": [
    {
     "name": "stdout",
     "output_type": "stream",
     "text": [
      "Think about a no between {low} to {High}\n",
      "Please enter h,l or c \n",
      "Please enter h,l or c \n",
      "Please enter h,l or c \n",
      "Please enter h,l or c \n",
      "Please enter h,l or c \n",
      "Please enter h,l or c \n",
      "Please enter h,l or c \n",
      "Please enter h,l or c \n",
      "Please enter h,l or c \n",
      "Please enter h,l or c \n",
      "Please enter h,l or c \n",
      "Please enter h,l or c \n",
      "Please enter h,l or c \n",
      "Please enter h,l or c \n",
      "Please enter h,l or c \n",
      "Please enter h,l or c \n",
      "Please enter h,l or c \n",
      "Please enter h,l or c \n",
      "Please enter h,l or c \n",
      "Please enter h,l or c \n",
      "Please enter h,l or c \n",
      "Please enter h,l or c \n",
      "Please enter h,l or c \n"
     ]
    }
   ],
   "source": [
    "high=1000\n",
    "low=1\n",
    "print(\"Think about a no between {low} to {High}\")\n",
    "input(\"please press ENTER to START\")\n",
    "\n",
    "guesses=1\n",
    "while True:\n",
    "    guess=low+(high-low)//2\n",
    "    high_low=input(\"I have guessed the number {}.Please press H for Higher,\" \n",
    "    \"L for lower,c if I am correct\".format(guess).casefold())\n",
    "    if high_low== \"h\":\n",
    "        low=guess+1\n",
    "    elif high_low=='l':\n",
    "        high=guess-1\n",
    "    elif high_low=='C':\n",
    "        print(\"I have guessed {guesses} it correctly\".format(guesses))\n",
    "        break\n",
    "    else:\n",
    "        print(\"Please enter h,l or c \")\n",
    "    guesses+=1\n",
    "  \n",
    "\n",
    "\n",
    "\n",
    "\n",
    "\n",
    "\n",
    "    "
   ]
  },
  {
   "cell_type": "code",
   "execution_count": null,
   "id": "f834eba2",
   "metadata": {},
   "outputs": [],
   "source": []
  }
 ],
 "metadata": {
  "kernelspec": {
   "display_name": "base",
   "language": "python",
   "name": "python3"
  },
  "language_info": {
   "codemirror_mode": {
    "name": "ipython",
    "version": 3
   },
   "file_extension": ".py",
   "mimetype": "text/x-python",
   "name": "python",
   "nbconvert_exporter": "python",
   "pygments_lexer": "ipython3",
   "version": "3.12.7"
  }
 },
 "nbformat": 4,
 "nbformat_minor": 5
}
