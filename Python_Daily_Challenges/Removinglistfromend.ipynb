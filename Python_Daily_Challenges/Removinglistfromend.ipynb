{
 "cells": [
  {
   "cell_type": "code",
   "execution_count": 3,
   "id": "0c7d9025",
   "metadata": {},
   "outputs": [
    {
     "name": "stdout",
     "output_type": "stream",
     "text": [
      "9 [104, 101, 4, 105, 308, 103, 5, 107, 100, 306, 106, 102, 108]\n",
      "6 [104, 101, 4, 105, 308, 103, 5, 107, 100, 106, 102, 108]\n",
      "4 [104, 101, 4, 105, 308, 103, 107, 100, 106, 102, 108]\n",
      "2 [104, 101, 4, 105, 103, 107, 100, 106, 102, 108]\n",
      "[104, 101, 105, 103, 107, 100, 106, 102, 108]\n"
     ]
    }
   ],
   "source": [
    "#Reverse Iteration:Removing list from end\n",
    "\n",
    "data=[104,101,4,105,308,103,5,107,100,306,106,102,108]\n",
    "min_value=100\n",
    "max_value=200\n",
    "\n",
    "for index in range(len(data)-1,-1,-1):\n",
    "    if data[index]< min_value or data[index]>200:\n",
    "        print(index,data)\n",
    "        del data[index]\n",
    "\n",
    "print(data)        "
   ]
  },
  {
   "cell_type": "code",
   "execution_count": 7,
   "id": "71f61e8b",
   "metadata": {},
   "outputs": [
    {
     "name": "stdout",
     "output_type": "stream",
     "text": [
      "12 108\n",
      "11 102\n",
      "10 106\n",
      "9 306\n",
      "9 306\n",
      "8 100\n",
      "7 107\n",
      "6 5\n",
      "6 5\n",
      "5 103\n",
      "4 308\n",
      "4 308\n",
      "3 105\n",
      "2 4\n",
      "2 4\n",
      "1 101\n",
      "0 104\n",
      "[104, 101, 105, 103, 107, 100, 106, 102, 108]\n"
     ]
    }
   ],
   "source": [
    "data=[104,101,4,105,308,103,5,107,100,306,106,102,108]\n",
    "min_value=100\n",
    "max_value=200\n",
    "\n",
    "top_index=len(data)-1\n",
    "for index,value in enumerate(reversed(data)):\n",
    "    print(top_index-index,value)\n",
    "    if value<min_value or value>max_value:\n",
    "        print(top_index-index,value)\n",
    "        del data[top_index-index]\n",
    "print(data)\n",
    "\n"
   ]
  },
  {
   "cell_type": "code",
   "execution_count": 2,
   "id": "526fbc22",
   "metadata": {},
   "outputs": [
    {
     "name": "stdout",
     "output_type": "stream",
     "text": [
      "[0, 1, 2, 3, 4, 5, 6, 7, 8, 9, 10, 11, 12, 13, 14, 15, 16, 17, 18, 19, 20, 21, 22, 23, 24, 25, 26, 27, 28, 29, 30, 31, 32, 33, 34, 35, 36, 37, 38, 39, 40, 41, 42, 43, 44, 45, 46, 47, 48, 49, 50, 51, 52, 53, 54, 55, 56, 57, 58, 59, 60, 61, 62, 63, 64, 65, 66, 67, 68, 69, 70, 71, 72, 73, 74, 75, 76, 77, 78, 79, 80, 81, 82, 83, 84, 85, 86, 87, 88, 89, 90, 91, 92, 93, 94, 95, 96, 97, 98, 99]\n"
     ]
    }
   ],
   "source": [
    "max_value=list(range(100))\n",
    "\n",
    "print(max_value)"
   ]
  }
 ],
 "metadata": {
  "kernelspec": {
   "display_name": "base",
   "language": "python",
   "name": "python3"
  },
  "language_info": {
   "codemirror_mode": {
    "name": "ipython",
    "version": 3
   },
   "file_extension": ".py",
   "mimetype": "text/x-python",
   "name": "python",
   "nbconvert_exporter": "python",
   "pygments_lexer": "ipython3",
   "version": "3.12.7"
  }
 },
 "nbformat": 4,
 "nbformat_minor": 5
}
