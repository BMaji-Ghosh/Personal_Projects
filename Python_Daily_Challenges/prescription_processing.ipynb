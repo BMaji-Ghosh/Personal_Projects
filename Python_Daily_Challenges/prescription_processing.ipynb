{
 "cells": [
  {
   "cell_type": "code",
   "execution_count": 3,
   "id": "82af0477",
   "metadata": {},
   "outputs": [],
   "source": [
    "# drugs\n",
    "amlodipine = (\"amlodipine\", \"Blood pressure\")\n",
    "buspirone = (\"buspirone\", \"Anxiety disorders\")\n",
    "carbimazole = (\"carbimazole\", \"Antithyroid agent\")\n",
    "citalopram = (\"citalopram\", \"Antidepressant\")\n",
    "edoxaban = (\"edoxaban\", \"anti-coagulant\")\n",
    "erythromycin = (\"erythromycin\", \"Antibiotic\")\n",
    "lusinopril = (\"lusinopril\", \"High blood pressure\")\n",
    "metformin = (\"metformin\", \"Type 2 diabetes\")\n",
    "methotrexate = (\"methotrexate\", \"Rheumatoid arthritis\")\n",
    "paracetamol = (\"paracetamol\", \"Painkiller\")\n",
    "propranol = (\"propranol\", \"Beta blocker\")\n",
    "simvastatin = (\"simvastatin\", \"High cholesterol\")\n",
    "warfarin = (\"warfarin\", \"anti-coagulant\")\n",
    "\n",
    "# Drugs that shouldn't be taken together\n",
    "adverse_interactions = [\n",
    "    {metformin, amlodipine},\n",
    "    {simvastatin, erythromycin},\n",
    "    {citalopram, buspirone},\n",
    "    {warfarin, citalopram},\n",
    "    {warfarin, edoxaban},\n",
    "    {warfarin, erythromycin},\n",
    "    {warfarin, amlodipine},\n",
    "]\n",
    "\n",
    "# Patient prescriptions\n",
    "patients = {\n",
    "    \"Anne\": {methotrexate, paracetamol},\n",
    "    \"Bob\": {carbimazole, erythromycin, methotrexate, paracetamol},\n",
    "    \"Charley\": {buspirone, lusinopril, metformin},\n",
    "    \"Denise\": {amlodipine, lusinopril, metformin, warfarin},\n",
    "    \"Eddie\": {amlodipine, propranol, simvastatin, warfarin},\n",
    "    \"Frank\": {buspirone, citalopram, propranol, warfarin},\n",
    "    \"Georgia\": {carbimazole, edoxaban, warfarin},\n",
    "    \"Helmut\": {erythromycin, paracetamol, propranol, simvastatin},\n",
    "    \"Izabella\": {amlodipine, citalopram, simvastatin, warfarin},\n",
    "    \"John\": {simvastatin},\n",
    "    \"Kenny\": {amlodipine, citalopram, metformin},\n",
    "}\n",
    "\n"
   ]
  },
  {
   "cell_type": "code",
   "execution_count": 4,
   "id": "bf60b284",
   "metadata": {},
   "outputs": [
    {
     "name": "stdout",
     "output_type": "stream",
     "text": [
      "{'Frank', 'Georgia', 'Bob', 'Denise', 'Anne', 'Izabella', 'Charley', 'Helmut', 'John', 'Kenny', 'Eddie'}\n"
     ]
    }
   ],
   "source": [
    "#pop method -removes random items from the set and returns it.\n",
    "\n",
    "patient_name=list(patients)\n",
    "print(set(patient_name))"
   ]
  },
  {
   "cell_type": "code",
   "execution_count": 5,
   "id": "035b5c14",
   "metadata": {},
   "outputs": [
    {
     "name": "stdout",
     "output_type": "stream",
     "text": [
      "Kenny : {('amlodipine', 'Blood pressure'), ('citalopram', 'Antidepressant'), ('metformin', 'Type 2 diabetes')}\n",
      "John : {('simvastatin', 'High cholesterol')}\n",
      "Izabella : {('simvastatin', 'High cholesterol'), ('amlodipine', 'Blood pressure'), ('citalopram', 'Antidepressant'), ('warfarin', 'anti-coagulant')}\n",
      "Helmut : {('simvastatin', 'High cholesterol'), ('erythromycin', 'Antibiotic'), ('propranol', 'Beta blocker'), ('paracetamol', 'Painkiller')}\n",
      "Georgia : {('edoxaban', 'anti-coagulant'), ('warfarin', 'anti-coagulant'), ('carbimazole', 'Antithyroid agent')}\n",
      "Frank : {('warfarin', 'anti-coagulant'), ('buspirone', 'Anxiety disorders'), ('propranol', 'Beta blocker'), ('citalopram', 'Antidepressant')}\n",
      "Eddie : {('simvastatin', 'High cholesterol'), ('amlodipine', 'Blood pressure'), ('propranol', 'Beta blocker'), ('warfarin', 'anti-coagulant')}\n",
      "Denise : {('lusinopril', 'High blood pressure'), ('amlodipine', 'Blood pressure'), ('warfarin', 'anti-coagulant'), ('metformin', 'Type 2 diabetes')}\n",
      "Charley : {('lusinopril', 'High blood pressure'), ('metformin', 'Type 2 diabetes'), ('buspirone', 'Anxiety disorders')}\n",
      "Bob : {('paracetamol', 'Painkiller'), ('erythromycin', 'Antibiotic'), ('methotrexate', 'Rheumatoid arthritis'), ('carbimazole', 'Antithyroid agent')}\n",
      "Anne : {('methotrexate', 'Rheumatoid arthritis'), ('paracetamol', 'Painkiller')}\n"
     ]
    }
   ],
   "source": [
    "while patient_name:\n",
    "    patient=patient_name.pop()\n",
    "    print(patient,end=\" : \")\n",
    "    pescription=patients[patient]\n",
    "    print(pescription)"
   ]
  },
  {
   "cell_type": "code",
   "execution_count": null,
   "id": "8bc7a872",
   "metadata": {},
   "outputs": [
    {
     "name": "stdout",
     "output_type": "stream",
     "text": [
      "[('amlodipine', 'Blood pressure'), ('buspirone', 'Anxiety disorders'), ('citalopram', 'Antidepressant'), ('edoxaban', 'anti-coagulant'), ('erythromycin', 'Antibiotic'), ('metformin', 'Type 2 diabetes'), ('simvastatin', 'High cholesterol'), ('warfarin', 'anti-coagulant')]\n"
     ]
    }
   ],
   "source": [
    "#METHOD 1\n",
    "meds_to_watch = set()\n",
    "\n",
    "for interaction in adverse_interactions:\n",
    "    # meds_to_watch = meds_to_watch.union(interaction)\n",
    "    meds_to_watch = meds_to_watch | interaction\n",
    "\n",
    "print(sorted(meds_to_watch))\n"
   ]
  },
  {
   "cell_type": "code",
   "execution_count": null,
   "id": "9af703ae",
   "metadata": {},
   "outputs": [
    {
     "name": "stdout",
     "output_type": "stream",
     "text": [
      "[('amlodipine', 'Blood pressure'), ('buspirone', 'Anxiety disorders'), ('citalopram', 'Antidepressant'), ('edoxaban', 'anti-coagulant'), ('erythromycin', 'Antibiotic'), ('metformin', 'Type 2 diabetes'), ('simvastatin', 'High cholesterol'), ('warfarin', 'anti-coagulant')]\n"
     ]
    }
   ],
   "source": [
    "#METHOD 2\n",
    "#update method.Avoid creating a new list each time.\n",
    "meds_to_watch = set()\n",
    "\n",
    "for interaction in adverse_interactions:\n",
    "    # meds_to_watch = meds_to_watch.union(interaction)\n",
    "    # meds_to_watch = meds_to_watch | interaction\n",
    "    meds_to_watch.update(interaction)\n",
    "\n",
    "print(sorted(meds_to_watch))"
   ]
  },
  {
   "cell_type": "code",
   "execution_count": 11,
   "id": "4b1e562d",
   "metadata": {},
   "outputs": [
    {
     "name": "stdout",
     "output_type": "stream",
     "text": [
      "[('amlodipine', 'Blood pressure'), ('buspirone', 'Anxiety disorders'), ('citalopram', 'Antidepressant'), ('edoxaban', 'anti-coagulant'), ('erythromycin', 'Antibiotic'), ('metformin', 'Type 2 diabetes'), ('simvastatin', 'High cholesterol'), ('warfarin', 'anti-coagulant')]\n"
     ]
    }
   ],
   "source": [
    "#METHOD 3\n",
    "meds_to_watch2=set()\n",
    "meds_to_watch2.update(*adverse_interactions)\n",
    "print(sorted(meds_to_watch2))"
   ]
  },
  {
   "cell_type": "code",
   "execution_count": 15,
   "id": "754c577e",
   "metadata": {},
   "outputs": [
    {
     "name": "stdout",
     "output_type": "stream",
     "text": [
      "('metformin', 'Type 2 diabetes')\n",
      "('amlodipine', 'Blood pressure')\n",
      "('warfarin', 'anti-coagulant')\n",
      "('buspirone', 'Anxiety disorders')\n",
      "('erythromycin', 'Antibiotic')\n",
      "('citalopram', 'Antidepressant')\n",
      "('edoxaban', 'anti-coagulant')\n",
      "('simvastatin', 'High cholesterol')\n"
     ]
    }
   ],
   "source": [
    "#to see set items in each line \n",
    "print(*meds_to_watch2,sep=\"\\n\")"
   ]
  }
 ],
 "metadata": {
  "kernelspec": {
   "display_name": "base",
   "language": "python",
   "name": "python3"
  },
  "language_info": {
   "codemirror_mode": {
    "name": "ipython",
    "version": 3
   },
   "file_extension": ".py",
   "mimetype": "text/x-python",
   "name": "python",
   "nbconvert_exporter": "python",
   "pygments_lexer": "ipython3",
   "version": "3.12.7"
  }
 },
 "nbformat": 4,
 "nbformat_minor": 5
}
