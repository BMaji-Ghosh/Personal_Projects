{
 "cells": [
  {
   "cell_type": "code",
   "execution_count": 8,
   "id": "382f7082",
   "metadata": {},
   "outputs": [],
   "source": [
    "Mantras=[(\"Bhagwat\",\"OM BHAGWATE NAMAHA\",1200),\n",
    "       (\"Shivaya\",\"OM NAMAHA Shivaya\",1300),\n",
    "       (\"Kali\",\"OM kalikey Namah\",1400),\n",
    "       (\"Narayan\",\"OM Namoh Narayana\",1500),\n",
    "       (\"Rama\",\"hare krishna hare krishna krishna krishna hare,hare rama hare rama rama rama hare hare\",1600)]"
   ]
  },
  {
   "cell_type": "code",
   "execution_count": 9,
   "id": "1712c453",
   "metadata": {},
   "outputs": [
    {
     "name": "stdout",
     "output_type": "stream",
     "text": [
      "Deity:Bhagwat,mantra:OM BHAGWATE NAMAHA,year:1200\n",
      "Deity:Shivaya,mantra:OM NAMAHA Shivaya,year:1300\n",
      "Deity:Kali,mantra:OM kalikey Namah,year:1400\n",
      "Deity:Narayan,mantra:OM Namoh Narayana,year:1500\n",
      "Deity:Rama,mantra:hare krishna hare krishna krishna krishna hare,hare rama hare rama rama rama hare hare,year:1600\n"
     ]
    }
   ],
   "source": [
    "#packing outside and inside of loop \n",
    "\n",
    "#method-1\n",
    "for deity,mantra,year in Mantras:\n",
    "    print(\"Deity:{},mantra:{},year:{}\".format(deity,mantra,year))"
   ]
  },
  {
   "cell_type": "code",
   "execution_count": 10,
   "id": "b7ba9096",
   "metadata": {},
   "outputs": [
    {
     "name": "stdout",
     "output_type": "stream",
     "text": [
      "Deity:Bhagwat,mantra:OM BHAGWATE NAMAHA,year:1200\n",
      "Deity:Shivaya,mantra:OM NAMAHA Shivaya,year:1300\n",
      "Deity:Kali,mantra:OM kalikey Namah,year:1400\n",
      "Deity:Narayan,mantra:OM Namoh Narayana,year:1500\n",
      "Deity:Rama,mantra:hare krishna hare krishna krishna krishna hare,hare rama hare rama rama rama hare hare,year:1600\n"
     ]
    }
   ],
   "source": [
    "#method-2\n",
    "for manus in Mantras:\n",
    "    deity,mantra,year=manus\n",
    "    print(\"Deity:{},mantra:{},year:{}\".format(deity,mantra,year))"
   ]
  },
  {
   "cell_type": "code",
   "execution_count": null,
   "id": "07d93ad2",
   "metadata": {},
   "outputs": [],
   "source": []
  }
 ],
 "metadata": {
  "kernelspec": {
   "display_name": "base",
   "language": "python",
   "name": "python3"
  },
  "language_info": {
   "codemirror_mode": {
    "name": "ipython",
    "version": 3
   },
   "file_extension": ".py",
   "mimetype": "text/x-python",
   "name": "python",
   "nbconvert_exporter": "python",
   "pygments_lexer": "ipython3",
   "version": "3.12.7"
  }
 },
 "nbformat": 4,
 "nbformat_minor": 5
}
