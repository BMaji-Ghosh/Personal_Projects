{
 "cells": [
  {
   "cell_type": "code",
   "execution_count": 6,
   "id": "ce8c2b6b",
   "metadata": {},
   "outputs": [
    {
     "name": "stdout",
     "output_type": "stream",
     "text": [
      "[2, 4, 6, 8, 10, 1, 3, 5, 7, 9]\n",
      "[2, 4, 6, 8, 10] [1, 3, 5, 7, 9]\n",
      "[2, 4, 6, 8, 10]\n",
      "2\n",
      "4\n",
      "6\n",
      "8\n",
      "10\n",
      "[1, 3, 5, 7, 9]\n",
      "1\n",
      "3\n",
      "5\n",
      "7\n",
      "9\n"
     ]
    }
   ],
   "source": [
    "even=[2,4,6,8,10]\n",
    "odd=[1,3,5,7,9]\n",
    "\n",
    "print(even+odd)\n",
    "print(even,odd)\n",
    "#list inside of list\n",
    "numbers=[even,odd]\n",
    "\n",
    "for numbers_list in numbers:\n",
    "    print(numbers_list)\n",
    "\n",
    "    for value in numbers_list:\n",
    "        print(value)"
   ]
  },
  {
   "cell_type": "code",
   "execution_count": null,
   "id": "65a59a7c",
   "metadata": {},
   "outputs": [],
   "source": []
  }
 ],
 "metadata": {
  "kernelspec": {
   "display_name": "base",
   "language": "python",
   "name": "python3"
  },
  "language_info": {
   "codemirror_mode": {
    "name": "ipython",
    "version": 3
   },
   "file_extension": ".py",
   "mimetype": "text/x-python",
   "name": "python",
   "nbconvert_exporter": "python",
   "pygments_lexer": "ipython3",
   "version": "3.12.7"
  }
 },
 "nbformat": 4,
 "nbformat_minor": 5
}
