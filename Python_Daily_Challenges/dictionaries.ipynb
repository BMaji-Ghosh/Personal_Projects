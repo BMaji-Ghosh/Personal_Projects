{
 "cells": [
  {
   "cell_type": "code",
   "execution_count": 1,
   "id": "6d3b4c09",
   "metadata": {},
   "outputs": [],
   "source": [
    "vehicles={\n",
    "    'x':'124dt-ew2',\n",
    "    'a':'12d23-1fe',\n",
    "    'n':'9878e-fhd',\n",
    "    'y':'93875-dga',\n",
    "    'i':'6732h-jer',\n",
    "    'p':'eqw24-tet',\n",
    "    'm':'yadyw-ee2'\n",
    "}\n",
    "\n",
    "vehicles[\"o\"]=\"Opule6237\"\n",
    "vehicles[\"q\"]=\"quar94358\""
   ]
  },
  {
   "cell_type": "code",
   "execution_count": 2,
   "id": "4c85d040",
   "metadata": {},
   "outputs": [
    {
     "name": "stdout",
     "output_type": "stream",
     "text": [
      "x\n",
      "a\n",
      "n\n",
      "y\n",
      "i\n",
      "p\n",
      "m\n",
      "o\n",
      "q\n"
     ]
    }
   ],
   "source": [
    "#dictionaries iterate over the key only. If we want the value we shoul be indexing the dictionary.\n",
    "for key in vehicles:\n",
    "    print(key)"
   ]
  },
  {
   "cell_type": "code",
   "execution_count": 3,
   "id": "de054f15",
   "metadata": {},
   "outputs": [
    {
     "name": "stdout",
     "output_type": "stream",
     "text": [
      "124dt-ew2\n",
      "12d23-1fe\n",
      "9878e-fhd\n",
      "93875-dga\n",
      "6732h-jer\n",
      "eqw24-tet\n",
      "yadyw-ee2\n",
      "Opule6237\n",
      "quar94358\n"
     ]
    }
   ],
   "source": [
    "for key in vehicles:\n",
    "    print(vehicles[key],sep=',')"
   ]
  },
  {
   "cell_type": "code",
   "execution_count": 4,
   "id": "fd24044c",
   "metadata": {},
   "outputs": [
    {
     "name": "stdout",
     "output_type": "stream",
     "text": [
      "x, 124dt-ew2\n",
      "a, 12d23-1fe\n",
      "n, 9878e-fhd\n",
      "y, 93875-dga\n",
      "i, 6732h-jer\n",
      "p, eqw24-tet\n",
      "m, yadyw-ee2\n",
      "o, Opule6237\n",
      "q, quar94358\n"
     ]
    }
   ],
   "source": [
    "#.items()\n",
    "\n",
    "for key,value in vehicles.items():\n",
    "    print(key,value,sep=\", \")"
   ]
  },
  {
   "cell_type": "code",
   "execution_count": 5,
   "id": "8ee1960a",
   "metadata": {},
   "outputs": [],
   "source": [
    "#.items() when iterating over sequences and .enumerate() when iterating over sequences.\n",
    "\n"
   ]
  },
  {
   "cell_type": "code",
   "execution_count": 6,
   "id": "f911ccac",
   "metadata": {},
   "outputs": [
    {
     "name": "stdout",
     "output_type": "stream",
     "text": [
      "dream, Honda 250T\n",
      "roadster, BMW R1100\n",
      "er5, Kawasaki ER5\n",
      "can-am, Bombardier Can-Am 250\n",
      "virago, Yamaha XV250\n",
      "tenere, Yamaha XT650\n",
      "jimny, Suzuki Jimny 1.5\n",
      "fiesta, Ford Fiesta Ghia 1.4\n",
      "starfighter, Lockheed F-104\n",
      "learjet, Bombardier Learjet 75\n",
      "toy, glider\n"
     ]
    }
   ],
   "source": [
    "vehicles = {\n",
    "    'dream': 'Honda 250T',\n",
    "    'roadster': 'BMW R1100',\n",
    "    'er5': 'Kawasaki ER5',\n",
    "    'can-am': 'Bombardier Can-Am 250',\n",
    "    'virago': 'Yamaha XV250',\n",
    "    'tenere': 'Yamaha XT650',\n",
    "    'jimny': 'Suzuki Jimny 1.5',\n",
    "    'fiesta': 'Ford Fiesta Ghia 1.4',\n",
    "}\n",
    "\n",
    "vehicles[\"starfighter\"] = \"Lockheed F-104\"\n",
    "vehicles[\"learjet\"] = \"Bombardier Learjet 75\"\n",
    "vehicles[\"toy\"] = \"glider\"\n",
    "\n",
    "# for key in vehicles:\n",
    "#     print(key, vehicles[key], sep=\", \")\n",
    "for key, value in vehicles.items():\n",
    "    print(key, value, sep=\", \")"
   ]
  },
  {
   "cell_type": "code",
   "execution_count": 7,
   "id": "fcc62d27",
   "metadata": {},
   "outputs": [],
   "source": [
    "#update virago\n",
    "vehicles[\"virago\"]=\"yamaha xv220\""
   ]
  },
  {
   "cell_type": "code",
   "execution_count": 8,
   "id": "e84eb2ac",
   "metadata": {},
   "outputs": [
    {
     "name": "stdout",
     "output_type": "stream",
     "text": [
      "dream, Honda 250T\n",
      "roadster, BMW R1100\n",
      "er5, Kawasaki ER5\n",
      "can-am, Bombardier Can-Am 250\n",
      "virago, yamaha xv220\n",
      "tenere, Yamaha XT650\n",
      "jimny, Suzuki Jimny 1.5\n",
      "fiesta, Ford Fiesta Ghia 1.4\n",
      "starfighter, Lockheed F-104\n",
      "learjet, Bombardier Learjet 75\n",
      "toy, glider\n"
     ]
    }
   ],
   "source": [
    "for key, value in vehicles.items():\n",
    "    print(key, value, sep=\", \")"
   ]
  },
  {
   "cell_type": "code",
   "execution_count": 9,
   "id": "4a563993",
   "metadata": {},
   "outputs": [
    {
     "name": "stdout",
     "output_type": "stream",
     "text": [
      "You wish!Sell the learjet and you might afford a racing car!\n"
     ]
    }
   ],
   "source": [
    "#delete disctionary items\n",
    "del vehicles[\"starfighter\"]\n",
    "result=vehicles.pop(\"f1\",\"You wish!Sell the learjet and you might afford a racing car!\")\n",
    "print(result)\n"
   ]
  },
  {
   "cell_type": "code",
   "execution_count": 10,
   "id": "e33ceb20",
   "metadata": {},
   "outputs": [
    {
     "name": "stdout",
     "output_type": "stream",
     "text": [
      "Bombardier Learjet 75\n"
     ]
    }
   ],
   "source": [
    "plane=vehicles.pop(\"learjet\")\n",
    "print(plane)"
   ]
  },
  {
   "cell_type": "code",
   "execution_count": 11,
   "id": "8f22378f",
   "metadata": {},
   "outputs": [
    {
     "name": "stdout",
     "output_type": "stream",
     "text": [
      "Yamaha XT650\n",
      "\n"
     ]
    }
   ],
   "source": [
    "bike=vehicles.pop(\"tenere\",\"not present\")\n",
    "print(bike)\n",
    "print()"
   ]
  },
  {
   "cell_type": "code",
   "execution_count": 12,
   "id": "dc221f1a",
   "metadata": {},
   "outputs": [
    {
     "name": "stdout",
     "output_type": "stream",
     "text": [
      "dream, Honda 250T\n",
      "roadster, BMW R1100\n",
      "er5, Kawasaki ER5\n",
      "can-am, Bombardier Can-Am 250\n",
      "virago, yamaha xv220\n",
      "jimny, Suzuki Jimny 1.5\n",
      "fiesta, Ford Fiesta Ghia 1.4\n",
      "toy, glider\n"
     ]
    }
   ],
   "source": [
    "for key,value in vehicles.items():\n",
    "    print(key,value,sep=\", \")"
   ]
  },
  {
   "cell_type": "code",
   "execution_count": null,
   "id": "5ec3cd5a",
   "metadata": {},
   "outputs": [
    {
     "name": "stdout",
     "output_type": "stream",
     "text": [
      "please choose from the below list:\n",
      "1: keyboard\n",
      "2: Monitor\n",
      "3: Mouse\n",
      "4: Computer\n",
      "5: mouse mat\n",
      "6: hdmi cable\n",
      "0:to finish\n"
     ]
    }
   ],
   "source": [
    "#computer program\n",
    "\n",
    "cart={'1':\"keyboard\",\n",
    "      '2':\"Monitor\",\n",
    "      '3':\"Mouse\",\n",
    "      '4':\"Computer\",\n",
    "      '5':\"mouse mat\",\n",
    "      '6':\"hdmi cable\"\n",
    "    }\n",
    "current_choice=None\n",
    "while current_choice!=0:\n",
    "    if current_choice in cart:\n",
    "        chosen_part=cart[current_choice]\n",
    "        print(f\"Adding {chosen_part}\")\n",
    "    else:\n",
    "        print(\"please choose from the below list:\")\n",
    "        for key,value in cart.items():\n",
    "            print(f\"{key}: {value}\")  \n",
    "        print(\"0:to finish\")      \n",
    "    current_choice=input(\"> \")    "
   ]
  },
  {
   "cell_type": "code",
   "execution_count": null,
   "id": "5a374f1a",
   "metadata": {},
   "outputs": [],
   "source": [
    "available_parts = {\"1\": \"computer\",\n",
    "                   \"2\": \"monitor\",\n",
    "                   \"3\": \"keyboard\",\n",
    "                   \"4\": \"mouse\",\n",
    "                   \"5\": \"hdmi cable\",\n",
    "                   \"6\": \"dvd drive\",\n",
    "                   }\n",
    " \n",
    "current_choice = None\n",
    "computer_parts = []  # create an empty list\n",
    " \n",
    "while current_choice != \"0\":\n",
    "    if current_choice in available_parts:\n",
    "        chosen_part = available_parts[current_choice]\n",
    "        if chosen_part in computer_parts:\n",
    "            # it's already in, so remove it\n",
    "            print(f\"Removing {chosen_part}\")\n",
    "            computer_parts.remove(chosen_part)\n",
    "        else:\n",
    "            print(f\"Adding {chosen_part}\")\n",
    "            computer_parts.append(chosen_part)\n",
    "        print(f\"Your list now contains: {computer_parts}\")\n",
    "    else:\n",
    "        print(\"Please add options from the list:\")\n",
    "        for key, value in available_parts.items():\n",
    "            print(f\"{key}: {value}\")\n",
    "        print(\"0: to finish\")\n",
    " \n",
    "    current_choice = input(\"> \")\n",
    "\n"
   ]
  },
  {
   "cell_type": "code",
   "execution_count": 4,
   "id": "cd974ad8",
   "metadata": {},
   "outputs": [],
   "source": [
    "pantry = {\n",
    "    \"chicken\": 500,\n",
    "    \"lemon\": 2,\n",
    "    \"cumin\": 24,\n",
    "    \"paprika\": 18,\n",
    "    \"chilli powder\": 7,\n",
    "    \"yogurt\": 300,\n",
    "    \"oil\": 450,\n",
    "    \"onion\": 5,\n",
    "    \"garlic\": 9,\n",
    "    \"ginger\": 2,\n",
    "    \"tomato puree\": 125,\n",
    "    \"almonds\": 75,\n",
    "    \"rice\": 500,\n",
    "    \"coriander\": 20,\n",
    "    \"lime\": 3,\n",
    "    \"pepper\": 8,\n",
    "    \"egg\": 6,\n",
    "    \"pizza\": 2,\n",
    "    \"spam\": 1,\n",
    "}\n",
    "\n",
    "recipes = {\n",
    "    \"Butter chicken\": {\n",
    "        \"chicken\": 750,\n",
    "        \"lemon\": 1,\n",
    "        \"cumin\": 1,\n",
    "        \"paprika\": 1,\n",
    "        \"chilli powder\": 2,\n",
    "        \"yogurt\": 250,\n",
    "        \"oil\": 50,\n",
    "        \"onion\": 1,\n",
    "        \"garlic\": 2,\n",
    "        \"ginger\": 3,\n",
    "        \"tomato puree\": 240,\n",
    "        \"almonds\": 25,\n",
    "        \"rice\": 360,\n",
    "        \"coriander\": 1,\n",
    "        \"lime\": 1,\n",
    "    },\n",
    "    \"Chicken and chips\": {\n",
    "        \"chicken\": 100,\n",
    "        \"potatoes\": 3,\n",
    "        \"salt\": 1,\n",
    "        \"malt vinegar\": 5,\n",
    "    },\n",
    "    \"Pizza\": {\n",
    "        \"pizza\": 1,\n",
    "    },\n",
    "    \"Egg sandwich\": {\n",
    "        \"egg\": 2,\n",
    "        \"bread\": 80,\n",
    "        \"butter\": 10,\n",
    "    },\n",
    "    \"Beans on toast\": {\n",
    "        \"beans\": 1,\n",
    "        \"bread\": 40,\n",
    "    },\n",
    "    \"Spam a la tin\": {\n",
    "        \"spam\": 1,\n",
    "        \"tin opener\": 1,\n",
    "        \"spoon\": 1,\n",
    "    },\n",
    "\n",
    "}"
   ]
  },
  {
   "cell_type": "code",
   "execution_count": 11,
   "id": "cc11c72f",
   "metadata": {},
   "outputs": [
    {
     "name": "stdout",
     "output_type": "stream",
     "text": [
      "{'1': 'Butter chicken', '2': 'Chicken and chips', '3': 'Pizza', '4': 'Egg sandwich', '5': 'Beans on toast', '6': 'Spam a la tin'}\n",
      "Please choose your recipe\n",
      "*************************\n",
      "['chicken', 'lemon', 'cumin', 'paprika', 'chilli powder', 'yogurt', 'oil', 'onion', 'garlic', 'ginger', 'tomato puree', 'almonds', 'rice', 'coriander', 'lime']\n",
      "['chicken', 'potatoes', 'salt', 'malt vinegar']\n",
      "['pizza']\n",
      "['egg', 'bread', 'butter']\n",
      "['beans', 'bread']\n",
      "['spam', 'tin opener', 'spoon']\n"
     ]
    }
   ],
   "source": [
    "display_dict={}\n",
    "for index,key in enumerate(recipes):\n",
    "    display_dict[str(index+1)]=key\n",
    "print(display_dict)    \n",
    "\n",
    "\n",
    "#display the menu of recepies we know how to cook\n",
    "print(\"Please choose your recipe\") \n",
    "print(\"*************************\")\n",
    "for key,value in display_dict.items():\n",
    "    print(recipes[value])"
   ]
  },
  {
   "cell_type": "code",
   "execution_count": null,
   "id": "e5122f11",
   "metadata": {},
   "outputs": [
    {
     "name": "stdout",
     "output_type": "stream",
     "text": [
      "Please choose your recipe\n",
      "-------------------------\n",
      "1 - Butter chicken\n",
      "2 - Chicken and chips\n",
      "3 - Pizza\n",
      "4 - Egg sandwich\n",
      "5 - Beans on toast\n",
      "6 - Spam a la tin\n",
      "Please choose your recipe\n",
      "-------------------------\n",
      "1 - Butter chicken\n",
      "2 - Chicken and chips\n",
      "3 - Pizza\n",
      "4 - Egg sandwich\n",
      "5 - Beans on toast\n",
      "6 - Spam a la tin\n",
      "Please choose your recipe\n",
      "-------------------------\n",
      "1 - Butter chicken\n",
      "2 - Chicken and chips\n",
      "3 - Pizza\n",
      "4 - Egg sandwich\n",
      "5 - Beans on toast\n",
      "6 - Spam a la tin\n",
      "Please choose your recipe\n",
      "-------------------------\n",
      "1 - Butter chicken\n",
      "2 - Chicken and chips\n",
      "3 - Pizza\n",
      "4 - Egg sandwich\n",
      "5 - Beans on toast\n",
      "6 - Spam a la tin\n",
      "Please choose your recipe\n",
      "-------------------------\n",
      "1 - Butter chicken\n",
      "2 - Chicken and chips\n",
      "3 - Pizza\n",
      "4 - Egg sandwich\n",
      "5 - Beans on toast\n",
      "6 - Spam a la tin\n",
      "Please choose your recipe\n",
      "-------------------------\n",
      "1 - Butter chicken\n",
      "2 - Chicken and chips\n",
      "3 - Pizza\n",
      "4 - Egg sandwich\n",
      "5 - Beans on toast\n",
      "6 - Spam a la tin\n",
      "Please choose your recipe\n",
      "-------------------------\n",
      "1 - Butter chicken\n",
      "2 - Chicken and chips\n",
      "3 - Pizza\n",
      "4 - Egg sandwich\n",
      "5 - Beans on toast\n",
      "6 - Spam a la tin\n",
      "Please choose your recipe\n",
      "-------------------------\n",
      "1 - Butter chicken\n",
      "2 - Chicken and chips\n",
      "3 - Pizza\n",
      "4 - Egg sandwich\n",
      "5 - Beans on toast\n",
      "6 - Spam a la tin\n",
      "You have selected Chicken and chips\n",
      "checking ingredients ...\n",
      "['chicken', 'potatoes', 'salt', 'malt vinegar']\n",
      "Please choose your recipe\n",
      "-------------------------\n",
      "1 - Butter chicken\n",
      "2 - Chicken and chips\n",
      "3 - Pizza\n",
      "4 - Egg sandwich\n",
      "5 - Beans on toast\n",
      "6 - Spam a la tin\n",
      "You have selected Pizza\n",
      "checking ingredients ...\n",
      "['pizza']\n",
      "Please choose your recipe\n",
      "-------------------------\n",
      "1 - Butter chicken\n",
      "2 - Chicken and chips\n",
      "3 - Pizza\n",
      "4 - Egg sandwich\n",
      "5 - Beans on toast\n",
      "6 - Spam a la tin\n",
      "You have selected Pizza\n",
      "checking ingredients ...\n",
      "['pizza']\n",
      "Please choose your recipe\n",
      "-------------------------\n",
      "1 - Butter chicken\n",
      "2 - Chicken and chips\n",
      "3 - Pizza\n",
      "4 - Egg sandwich\n",
      "5 - Beans on toast\n",
      "6 - Spam a la tin\n",
      "Please choose your recipe\n",
      "-------------------------\n",
      "1 - Butter chicken\n",
      "2 - Chicken and chips\n",
      "3 - Pizza\n",
      "4 - Egg sandwich\n",
      "5 - Beans on toast\n",
      "6 - Spam a la tin\n",
      "Please choose your recipe\n",
      "-------------------------\n",
      "1 - Butter chicken\n",
      "2 - Chicken and chips\n",
      "3 - Pizza\n",
      "4 - Egg sandwich\n",
      "5 - Beans on toast\n",
      "6 - Spam a la tin\n"
     ]
    }
   ],
   "source": [
    "display_dict = {}\n",
    "for index, key in enumerate(recipes):\n",
    "    display_dict[str(index + 1)] = key\n",
    "\n",
    "while True:\n",
    "    # Display a menu of the recipes we know how to cook\n",
    "    print(\"Please choose your recipe\")\n",
    "    print(\"-------------------------\")\n",
    "    for key, value in display_dict.items():\n",
    "        print(f\"{key} - {value}\")\n",
    "\n",
    "    choice = input(\": \")\n",
    "\n",
    "    if choice == \"0\":\n",
    "        break\n",
    "    elif choice in display_dict:\n",
    "        selected_item = display_dict[choice]\n",
    "        print(f\"You have selected {selected_item}\")\n",
    "        print(\"checking ingredients ...\")\n",
    "        ingredients = recipes[selected_item]\n",
    "        print(ingredients)"
   ]
  }
 ],
 "metadata": {
  "kernelspec": {
   "display_name": "base",
   "language": "python",
   "name": "python3"
  },
  "language_info": {
   "codemirror_mode": {
    "name": "ipython",
    "version": 3
   },
   "file_extension": ".py",
   "mimetype": "text/x-python",
   "name": "python",
   "nbconvert_exporter": "python",
   "pygments_lexer": "ipython3",
   "version": "3.12.7"
  }
 },
 "nbformat": 4,
 "nbformat_minor": 5
}
