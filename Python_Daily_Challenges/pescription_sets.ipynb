{
 "cells": [
  {
   "cell_type": "code",
   "execution_count": 4,
   "id": "b90cf09c",
   "metadata": {},
   "outputs": [],
   "source": [
    "# drugs\n",
    "amlodipine = (\"amlodipine\", \"Blood pressure\")\n",
    "buspirone = (\"buspirone\", \"Anxiety disorders\")\n",
    "carbimazole = (\"carbimazole\", \"Antithyroid agent\")\n",
    "citalopram = (\"citalopram\", \"Antidepressant\")\n",
    "edoxaban = (\"edoxaban\", \"anti-coagulant\")\n",
    "erythromycin = (\"erythromycin\", \"Antibiotic\")\n",
    "lusinopril = (\"lusinopril\", \"High blood pressure\")\n",
    "metformin = (\"metformin\", \"Type 2 diabetes\")\n",
    "methotrexate = (\"methotrexate\", \"Rheumatoid arthritis\")\n",
    "paracetamol = (\"paracetamol\", \"Painkiller\")\n",
    "propranol = (\"propranol\", \"Beta blocker\")\n",
    "simvastatin = (\"simvastatin\", \"High cholesterol\")\n",
    "warfarin = (\"warfarin\", \"anti-coagulant\")\n",
    "\n",
    "# Drugs that shouldn't be taken together\n",
    "adverse_interactions = [\n",
    "    {metformin, amlodipine},\n",
    "    {simvastatin, erythromycin},\n",
    "    {citalopram, buspirone},\n",
    "    {warfarin, citalopram},\n",
    "    {warfarin, edoxaban},\n",
    "    {warfarin, erythromycin},\n",
    "    {warfarin, amlodipine},\n",
    "]\n",
    "\n",
    "# Patient prescriptions\n",
    "patients = {\n",
    "    \"Anne\": {methotrexate, paracetamol},\n",
    "    \"Bob\": {carbimazole, erythromycin, methotrexate, paracetamol},\n",
    "    \"Charley\": {buspirone, lusinopril, metformin},\n",
    "    \"Denise\": {amlodipine, lusinopril, metformin, warfarin},\n",
    "    \"Eddie\": {amlodipine, propranol, simvastatin, warfarin},\n",
    "    \"Frank\": {buspirone, citalopram, propranol, warfarin},\n",
    "    \"Georgia\": {carbimazole, edoxaban, warfarin},\n",
    "    \"Helmut\": {erythromycin, paracetamol, propranol, simvastatin},\n",
    "    \"Izabella\": {amlodipine, citalopram, simvastatin, warfarin},\n",
    "    \"John\": {simvastatin},\n",
    "    \"Kenny\": {amlodipine, citalopram, metformin},\n",
    "}\n",
    "\n"
   ]
  },
  {
   "cell_type": "code",
   "execution_count": 14,
   "id": "9c80b1e4",
   "metadata": {},
   "outputs": [
    {
     "name": "stdout",
     "output_type": "stream",
     "text": [
      "Denise {('lusinopril', 'High blood pressure'), ('edoxaban', 'anti-coagulant'), ('metformin', 'Type 2 diabetes'), ('amlodipine', 'Blood pressure')}\n",
      "Eddie {('propranol', 'Beta blocker'), ('simvastatin', 'High cholesterol'), ('edoxaban', 'anti-coagulant'), ('amlodipine', 'Blood pressure')}\n",
      "Frank {('citalopram', 'Antidepressant'), ('propranol', 'Beta blocker'), ('buspirone', 'Anxiety disorders'), ('edoxaban', 'anti-coagulant')}\n",
      "Georgia {('edoxaban', 'anti-coagulant'), ('carbimazole', 'Antithyroid agent')}\n",
      "\n",
      "Paitient Denise is not having Warfarin.Please remove Denise from this trial.\n",
      "Denise {('lusinopril', 'High blood pressure'), ('edoxaban', 'anti-coagulant'), ('metformin', 'Type 2 diabetes'), ('amlodipine', 'Blood pressure')}\n",
      "\n",
      "Paitient Eddie is not having Warfarin.Please remove Eddie from this trial.\n",
      "Eddie {('propranol', 'Beta blocker'), ('simvastatin', 'High cholesterol'), ('edoxaban', 'anti-coagulant'), ('amlodipine', 'Blood pressure')}\n",
      "\n",
      "Paitient Frank is not having Warfarin.Please remove Frank from this trial.\n",
      "Frank {('citalopram', 'Antidepressant'), ('propranol', 'Beta blocker'), ('buspirone', 'Anxiety disorders'), ('edoxaban', 'anti-coagulant')}\n",
      "\n",
      "Paitient Georgia is not having Warfarin.Please remove Georgia from this trial.\n",
      "Georgia {('edoxaban', 'anti-coagulant'), ('carbimazole', 'Antithyroid agent')}\n"
     ]
    }
   ],
   "source": [
    "trial_patients=[\"Denise\",\"Eddie\",\"Frank\",\"Georgia\"]\n",
    "\n",
    "for patient in trial_patients:\n",
    "    pescription=patients[patient]\n",
    "    pescription.discard(warfarin)\n",
    "    pescription.add(edoxaban)\n",
    "    print(patient,pescription)\n",
    "\n",
    "\n",
    "trial_patients=[\"Denise\",\"Eddie\",\"Frank\",\"Georgia\"]\n",
    "\n",
    "for patient in trial_patients:\n",
    "    pescription=patients[patient]\n",
    "    \n",
    "    if warfarin in pescription:\n",
    "       pescription.remove(warfarin)\n",
    "       pescription.add(edoxaban)\n",
    "       \n",
    "    else:\n",
    "        print(f\"\\nPaitient {patient} is not having Warfarin.\"\n",
    "        f\"Please remove {patient} from this trial.\")\n",
    "    print(patient,pescription)    "
   ]
  },
  {
   "cell_type": "code",
   "execution_count": null,
   "id": "ce746eb4",
   "metadata": {},
   "outputs": [],
   "source": []
  }
 ],
 "metadata": {
  "kernelspec": {
   "display_name": "base",
   "language": "python",
   "name": "python3"
  },
  "language_info": {
   "codemirror_mode": {
    "name": "ipython",
    "version": 3
   },
   "file_extension": ".py",
   "mimetype": "text/x-python",
   "name": "python",
   "nbconvert_exporter": "python",
   "pygments_lexer": "ipython3",
   "version": "3.12.7"
  }
 },
 "nbformat": 4,
 "nbformat_minor": 5
}
