{
 "cells": [
  {
   "cell_type": "code",
   "execution_count": 3,
   "id": "a778b925",
   "metadata": {},
   "outputs": [
    {
     "name": "stdout",
     "output_type": "stream",
     "text": [
      "['blue', 'green', 'red', 'yellow']\n"
     ]
    }
   ],
   "source": [
    "#remove duplicate from a data \n",
    "#create a list from set to remove dublicate\n",
    "\n",
    "data=[\"blue\",\"red\",\"yellow\",\"green\",\"green\",\"blue\"]\n",
    "\n",
    "print(sorted(set(data)))\n"
   ]
  },
  {
   "cell_type": "code",
   "execution_count": 9,
   "id": "1bfc465c",
   "metadata": {},
   "outputs": [
    {
     "name": "stdout",
     "output_type": "stream",
     "text": [
      "['blue', 'red', 'yellow', 'green']\n",
      "['blue', 'red', 'yellow', 'green']\n"
     ]
    }
   ],
   "source": [
    "#to preserve the order the set concept is automatically ruled out. since python 3.6 the dictionary keys are unique.\n",
    "#hence trying a different method to remove duplicate is converting the keys of dictionary\n",
    "new_data=dict.fromkeys(data)\n",
    "print(list(new_data.keys()))\n",
    "print(list(dict.fromkeys(data)))\n"
   ]
  },
  {
   "cell_type": "code",
   "execution_count": null,
   "id": "c42ec1c3",
   "metadata": {},
   "outputs": [],
   "source": [
    "#when we convert a dictionary to list only the keys are used. Values are ignored."
   ]
  },
  {
   "cell_type": "code",
   "execution_count": 10,
   "id": "39a5d4b1",
   "metadata": {},
   "outputs": [
    {
     "name": "stdout",
     "output_type": "stream",
     "text": [
      "{'yellow', 'red'}\n"
     ]
    }
   ],
   "source": [
    "#discard vs remove\n",
    "data={\"blue\",\"red\",\"yellow\",\"green\",\"green\",\"blue\"}\n",
    "\n",
    "data.discard(\"blue\")\n",
    "data.remove(\"green\")\n",
    "print(data)"
   ]
  },
  {
   "cell_type": "code",
   "execution_count": null,
   "id": "25826b0c",
   "metadata": {},
   "outputs": [],
   "source": []
  }
 ],
 "metadata": {
  "kernelspec": {
   "display_name": "base",
   "language": "python",
   "name": "python3"
  },
  "language_info": {
   "codemirror_mode": {
    "name": "ipython",
    "version": 3
   },
   "file_extension": ".py",
   "mimetype": "text/x-python",
   "name": "python",
   "nbconvert_exporter": "python",
   "pygments_lexer": "ipython3",
   "version": "3.12.7"
  }
 },
 "nbformat": 4,
 "nbformat_minor": 5
}
