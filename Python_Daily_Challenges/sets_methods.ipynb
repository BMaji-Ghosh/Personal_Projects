{
 "cells": [
  {
   "cell_type": "code",
   "execution_count": 7,
   "id": "9b9231d0",
   "metadata": {},
   "outputs": [
    {
     "name": "stdout",
     "output_type": "stream",
     "text": [
      "{'cow', 'sheep', 'Elephant', 'tiger', 'lion', 'hen', 'panther', 'goat', 'horse'}\n",
      "{'cow', 'sheep', 'Elephant', 'tiger', 'lion', 'hen', 'panther', 'goat', 'horse'}\n"
     ]
    }
   ],
   "source": [
    "farm_animals={\"sheep\",\"hen\",\"cow\",\"horse\",\"goat\"}\n",
    "wild_animals={\"lion\",\"Elephant\",\"goat\",\"tiger\",\"panther\",\"horse\"}\n",
    "potential_rides={\"horse\",\"elephant\",\"bull\"}\n",
    "all_animals1=farm_animals.union(wild_animals)\n",
    "print(all_animals1)\n",
    "all_animals2=wild_animals.union(farm_animals)\n",
    "print(all_animals1)"
   ]
  },
  {
   "cell_type": "code",
   "execution_count": 8,
   "id": "536cd8f3",
   "metadata": {},
   "outputs": [
    {
     "name": "stdout",
     "output_type": "stream",
     "text": [
      "{'cow', 'sheep', 'Elephant', 'tiger', 'lion', 'hen', 'panther', 'goat', 'horse'}\n"
     ]
    }
   ],
   "source": [
    "#UNION MENTHOD OR UNION OPERATOR\n",
    "\n",
    "all_animals3=farm_animals|wild_animals\n",
    "print(all_animals3)"
   ]
  },
  {
   "cell_type": "code",
   "execution_count": 11,
   "id": "9b1f232b",
   "metadata": {},
   "outputs": [
    {
     "name": "stdout",
     "output_type": "stream",
     "text": [
      "{'horse'}\n",
      "{'horse'}\n"
     ]
    }
   ],
   "source": [
    "#intersection of 3 or more sets\n",
    "intersect=farm_animals.intersection(wild_animals,potential_rides)\n",
    "print(intersect)\n",
    "\n",
    "#method 2\n",
    "intersect=farm_animals & wild_animals & potential_rides\n",
    "print(intersect)\n"
   ]
  },
  {
   "cell_type": "code",
   "execution_count": null,
   "id": "8c115341",
   "metadata": {},
   "outputs": [],
   "source": [
    "\n",
    "\n"
   ]
  },
  {
   "cell_type": "code",
   "execution_count": null,
   "id": "ab63c3c1",
   "metadata": {},
   "outputs": [],
   "source": []
  }
 ],
 "metadata": {
  "kernelspec": {
   "display_name": "base",
   "language": "python",
   "name": "python3"
  },
  "language_info": {
   "codemirror_mode": {
    "name": "ipython",
    "version": 3
   },
   "file_extension": ".py",
   "mimetype": "text/x-python",
   "name": "python",
   "nbconvert_exporter": "python",
   "pygments_lexer": "ipython3",
   "version": "3.12.7"
  }
 },
 "nbformat": 4,
 "nbformat_minor": 5
}
