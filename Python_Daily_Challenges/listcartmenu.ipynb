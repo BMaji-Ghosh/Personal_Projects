{
 "cells": [
  {
   "cell_type": "code",
   "execution_count": 1,
   "id": "aafc6147",
   "metadata": {},
   "outputs": [
    {
     "name": "stdout",
     "output_type": "stream",
     "text": [
      "please select from the given options as 1 2 3 4 or 5\n",
      "1: Keyboard\n",
      "2: Monitor\n",
      "3: Mouse\n",
      "4: computer\n",
      "5: mouse mat\n",
      "6: hdmi cable\n",
      "0: to finish\n",
      "[]\n",
      "choice added as \n",
      "[]\n",
      "choice added as 2\n",
      "['Monitor']\n",
      "choice added as 4\n",
      "['Monitor', 'Computer']\n",
      "choice added as 5\n",
      "['Monitor', 'Computer', 'mouse mat']\n",
      "choice added as 5\n",
      "['Monitor', 'Computer', 'mouse mat', 'mouse mat']\n"
     ]
    }
   ],
   "source": [
    "current_choice=\"_\"\n",
    "computer_parts=[]\n",
    "\n",
    "while current_choice!=\"0\":\n",
    "    if current_choice in \"12345\":\n",
    "        print(\"choice added as {}\".format(current_choice))\n",
    "        if current_choice=='1':\n",
    "            computer_parts.append(\"Keyboard\")\n",
    "        if current_choice=='2':\n",
    "            computer_parts.append(\"Monitor\")\n",
    "        if current_choice=='3':\n",
    "            computer_parts.append(\"Mouse\")  \n",
    "        if current_choice=='4':\n",
    "            computer_parts.append(\"Computer\") \n",
    "        if current_choice=='5':\n",
    "            computer_parts.append(\"mouse mat\")\n",
    "        if current_choice=='6':\n",
    "            computer_parts.append(\"hdmi cable\")\n",
    "\n",
    "\n",
    "    else:\n",
    "        print(\"please select from the given options as 1 2 3 4 or 5\") \n",
    "        print(\"1: Keyboard\")  \n",
    "        print(\"2: Monitor\")  \n",
    "        print(\"3: Mouse\")\n",
    "        print(\"4: computer\")  \n",
    "        print(\"5: mouse mat\")  \n",
    "        print(\"6: hdmi cable\")  \n",
    "        print(\"0: to finish\") \n",
    "\n",
    "    current_choice=input()  \n",
    "    print (computer_parts)    \n",
    "\n",
    "  \n"
   ]
  },
  {
   "cell_type": "code",
   "execution_count": 3,
   "id": "5f21370f",
   "metadata": {},
   "outputs": [
    {
     "name": "stdout",
     "output_type": "stream",
     "text": [
      "[]\n"
     ]
    }
   ],
   "source": [
    "print (computer_parts)  "
   ]
  },
  {
   "cell_type": "code",
   "execution_count": 5,
   "id": "e3d17292",
   "metadata": {},
   "outputs": [
    {
     "name": "stdout",
     "output_type": "stream",
     "text": [
      "please select from the given options as 1 2 3 4 or 5\n",
      " 1: keyboard\n",
      " 2: Monitor\n",
      " 3: Mouse\n",
      " 4: Computer\n",
      " 5: mouse mat\n",
      " 6: hdmi cable\n",
      "[]\n",
      "choice added as 1\n",
      "['Keyboard']\n",
      "choice added as 4\n",
      "['Keyboard', 'Computer']\n",
      "choice added as 3\n",
      "['Keyboard', 'Computer', 'Mouse']\n"
     ]
    }
   ],
   "source": [
    "current_choice=\"_\"\n",
    "computer_parts=[]\n",
    "cart=[\"keyboard\",\n",
    "      \"Monitor\",\n",
    "      \"Mouse\",\n",
    "      \"Computer\",\n",
    "      \"mouse mat\",\n",
    "      \"hdmi cable\"\n",
    "    ]\n",
    "\n",
    "while current_choice!=\"0\":\n",
    "    if current_choice in \"12345\":\n",
    "        print(\"choice added as {}\".format(current_choice))\n",
    "        if current_choice=='1':\n",
    "            computer_parts.append(\"Keyboard\")\n",
    "        if current_choice=='2':\n",
    "            computer_parts.append(\"Monitor\")\n",
    "        if current_choice=='3':\n",
    "            computer_parts.append(\"Mouse\")  \n",
    "        if current_choice=='4':\n",
    "            computer_parts.append(\"Computer\") \n",
    "        if current_choice=='5':\n",
    "            computer_parts.append(\"mouse mat\")\n",
    "        if current_choice=='6':\n",
    "            computer_parts.append(\"hdmi cable\")\n",
    "\n",
    "\n",
    "    else:\n",
    "        print(\"please select from the given options as 1 2 3 4 or 5\") \n",
    "        for part in cart:\n",
    "                print(\" {}: {}\".format(cart.index(part)+1,part))\n",
    "\n",
    "    current_choice=input()  \n",
    "    print (computer_parts)    "
   ]
  },
  {
   "cell_type": "code",
   "execution_count": 6,
   "id": "181f355e",
   "metadata": {},
   "outputs": [
    {
     "name": "stdout",
     "output_type": "stream",
     "text": [
      "please select from the given options as 1 2 3 4 or 5\n",
      " 1: keyboard\n",
      " 2: Monitor\n",
      " 3: Mouse\n",
      " 4: Computer\n",
      " 5: mouse mat\n",
      " 6: hdmi cable\n",
      "[]\n",
      "choice added as \n",
      "[]\n",
      "choice added as 3\n",
      "['Mouse']\n",
      "choice added as 45\n",
      "['Mouse']\n",
      "choice added as 5\n",
      "['Mouse', 'mouse mat']\n",
      "choice added as 5\n",
      "['Mouse', 'mouse mat', 'mouse mat']\n"
     ]
    }
   ],
   "source": [
    "current_choice=\"_\"\n",
    "computer_parts=[]\n",
    "cart=[\"keyboard\",\n",
    "      \"Monitor\",\n",
    "      \"Mouse\",\n",
    "      \"Computer\",\n",
    "      \"mouse mat\",\n",
    "      \"hdmi cable\"\n",
    "    ]\n",
    "\n",
    "while current_choice!=\"0\":\n",
    "    if current_choice in \"12345\":\n",
    "        print(\"choice added as {}\".format(current_choice))\n",
    "        if current_choice=='1':\n",
    "            computer_parts.append(\"Keyboard\")\n",
    "        if current_choice=='2':\n",
    "            computer_parts.append(\"Monitor\")\n",
    "        if current_choice=='3':\n",
    "            computer_parts.append(\"Mouse\")  \n",
    "        if current_choice=='4':\n",
    "            computer_parts.append(\"Computer\") \n",
    "        if current_choice=='5':\n",
    "            computer_parts.append(\"mouse mat\")\n",
    "        if current_choice=='6':\n",
    "            computer_parts.append(\"hdmi cable\")\n",
    "\n",
    "\n",
    "    else:\n",
    "        print(\"please select from the given options as 1 2 3 4 or 5\") \n",
    "        for number,part in enumerate(cart):\n",
    "                print(\" {}: {}\".format(number+1,part))\n",
    "\n",
    "    current_choice=input()  \n",
    "    print (computer_parts)    "
   ]
  },
  {
   "cell_type": "code",
   "execution_count": 18,
   "id": "e338ffbf",
   "metadata": {},
   "outputs": [
    {
     "name": "stdout",
     "output_type": "stream",
     "text": [
      " 1: keyboard\n",
      " 2: Monitor\n",
      " 3: Mouse\n",
      " 4: Computer\n",
      " 5: mouse mat\n",
      " 6: hdmi cable\n",
      "Press '0' for exit\n",
      "You selected 1 as in keyboard\n",
      "Removing 1\n",
      "Your cart now has following items->{} ['keyboard']\n",
      "['keyboard']\n",
      "['Monitor', 'Mouse', 'Computer', 'mouse mat', 'hdmi cable']\n"
     ]
    }
   ],
   "source": [
    "current_choice=\"_\"\n",
    "computer_parts=[]\n",
    "cart=[\"keyboard\",\n",
    "      \"Monitor\",\n",
    "      \"Mouse\",\n",
    "      \"Computer\",\n",
    "      \"mouse mat\",\n",
    "      \"hdmi cable\"\n",
    "    ]\n",
    "\n",
    "valid_choices=[str(i) for i in range(1,len(cart)+1)] \n",
    "#print(valid_choices)   \n",
    "\n",
    "while current_choice!=\"0\":\n",
    "    if current_choice in valid_choices:\n",
    "        index=int(current_choice)-1\n",
    "        print(\"You selected {} as in {}\".format(current_choice,cart[index]))\n",
    "       \n",
    "        chosen_part=cart[index]\n",
    "        computer_parts.append(chosen_part)\n",
    "        if chosen_part in cart:\n",
    "            print(\"Removing {}\".format(current_choice))    \n",
    "            cart.remove(chosen_part)  \n",
    "            print(\"Your cart now has following items->{}\",format(computer_parts)) \n",
    "        \n",
    "\n",
    "\n",
    "    else:\n",
    "        for number,part in enumerate(cart):\n",
    "            print(\" {}: {}\".format(number+1,part))\n",
    "        print(\"Press '0' for exit\")    \n",
    "\n",
    "    current_choice=input()  \n",
    "print (computer_parts)  \n",
    "print(cart)  "
   ]
  },
  {
   "cell_type": "code",
   "execution_count": null,
   "id": "4ef45e1d",
   "metadata": {},
   "outputs": [],
   "source": []
  },
  {
   "cell_type": "code",
   "execution_count": null,
   "id": "18610fa7",
   "metadata": {},
   "outputs": [],
   "source": []
  }
 ],
 "metadata": {
  "kernelspec": {
   "display_name": "base",
   "language": "python",
   "name": "python3"
  },
  "language_info": {
   "codemirror_mode": {
    "name": "ipython",
    "version": 3
   },
   "file_extension": ".py",
   "mimetype": "text/x-python",
   "name": "python",
   "nbconvert_exporter": "python",
   "pygments_lexer": "ipython3",
   "version": "3.12.7"
  }
 },
 "nbformat": 4,
 "nbformat_minor": 5
}
