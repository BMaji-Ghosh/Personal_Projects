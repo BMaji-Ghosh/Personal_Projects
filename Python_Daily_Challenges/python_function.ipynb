{
 "cells": [
  {
   "cell_type": "code",
   "execution_count": 2,
   "id": "45d3391a",
   "metadata": {},
   "outputs": [
    {
     "name": "stdout",
     "output_type": "stream",
     "text": [
      "Tim 10 Python 2020\n",
      "Tim, 10, Python, 2020\n"
     ]
    }
   ],
   "source": [
    "Name='Tim'\n",
    "Age=10\n",
    "print(Name,Age,\"Python\",2020)\n",
    "print(Name,Age,\"Python\",2020,sep=\", \")\n",
    "\n",
    "\n"
   ]
  },
  {
   "cell_type": "code",
   "execution_count": 3,
   "id": "5bdb9964",
   "metadata": {},
   "outputs": [],
   "source": [
    "list=[\n",
    "    [\"Ram\",\"Jam\",\"Shyam\"],\n",
    "      [\"tam\",\"bam\",\"lam\"],\n",
    "      [\"shan\",\"ban\",\"man\"],\n",
    "      [\"het\",\"met\",\"fet\"],\n",
    "      [\"lu\",\"chu\",\"ku\",\"nu\"]\n",
    "      ]\n",
    "\n"
   ]
  },
  {
   "cell_type": "code",
   "execution_count": null,
   "id": "6af69005",
   "metadata": {},
   "outputs": [
    {
     "name": "stdout",
     "output_type": "stream",
     "text": [
      "Ram Jam Shyam \n",
      "tam bam lam \n",
      "shan ban man \n",
      "het met fet \n",
      "lu chu ku nu \n"
     ]
    }
   ],
   "source": [
    "for meal in list:\n",
    "    for menu in meal:\n",
    "       print(menu,end=\" \",)\n",
    "    print()   "
   ]
  },
  {
   "cell_type": "code",
   "execution_count": null,
   "id": "a1970939",
   "metadata": {},
   "outputs": [],
   "source": []
  }
 ],
 "metadata": {
  "kernelspec": {
   "display_name": "base",
   "language": "python",
   "name": "python3"
  },
  "language_info": {
   "codemirror_mode": {
    "name": "ipython",
    "version": 3
   },
   "file_extension": ".py",
   "mimetype": "text/x-python",
   "name": "python",
   "nbconvert_exporter": "python",
   "pygments_lexer": "ipython3",
   "version": "3.12.7"
  }
 },
 "nbformat": 4,
 "nbformat_minor": 5
}
