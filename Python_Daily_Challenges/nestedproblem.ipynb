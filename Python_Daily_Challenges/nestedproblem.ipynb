{
 "cells": [
  {
   "cell_type": "code",
   "execution_count": 2,
   "id": "e5c37484",
   "metadata": {},
   "outputs": [],
   "source": [
    "albums=[\n",
    "    (\"Reputation\",\"Taylor Swift\",2017,\n",
    "     [(1,\"Ready for it\"),\n",
    "      (2,\"End Game\"),\n",
    "      (3,\"Dont Blame Me\"),\n",
    "      (4,\"I did something Bad\")]\n",
    "     ),\n",
    "     (\"Love\",\"Taylor Swift\",2019,\n",
    "     [(1,\"Cruel summer\"),\n",
    "      (2,\"Lover\"),\n",
    "      (3,\"The Man\"),\n",
    "      (4,\"I Forgot that you Existed\")]\n",
    "     ),\n",
    "\n",
    "      (\"Red\",\"Taylor Swift\",2022,\n",
    "     [(1,\"State of Grace\"),\n",
    "      (2,\"Red\"),\n",
    "      (3,\"Treacherous\"),\n",
    "      (4,\"I know you were Trouble\")]\n",
    "     ),\n",
    "\n",
    "     (\"Fearless\",\"Taylor Swift\",2008,\n",
    "     [(1,\"Hey Stephen\"),\n",
    "      (2,\"Love Story\"),\n",
    "      (3,\"Fifteen\"),\n",
    "      (4,\"Fearless\")]\n",
    "     )\n",
    "]"
   ]
  },
  {
   "cell_type": "code",
   "execution_count": 23,
   "id": "bd9ea9ae",
   "metadata": {},
   "outputs": [
    {
     "name": "stdout",
     "output_type": "stream",
     "text": [
      "Please choose your album (invalid choice exists):\n",
      "1:Reputation \n",
      "2:Love \n",
      "3:Red \n",
      "4:Fearless \n",
      "Please choose your song\n",
      "1:Ready for it\n",
      "2:End Game\n",
      "3:Dont Blame Me\n",
      "4:I did something Bad\n",
      "========================================\n",
      "Please choose your album (invalid choice exists):\n",
      "1:Reputation \n",
      "2:Love \n",
      "3:Red \n",
      "4:Fearless \n",
      "Please choose your song\n",
      "1:State of Grace\n",
      "2:Red\n",
      "3:Treacherous\n",
      "4:I know you were Trouble\n",
      "Playing Red\n",
      "========================================\n",
      "Please choose your album (invalid choice exists):\n",
      "1:Reputation \n",
      "2:Love \n",
      "3:Red \n",
      "4:Fearless \n"
     ]
    }
   ],
   "source": [
    "while True:\n",
    "    print(\"Please choose your album (invalid choice exists):\")\n",
    "    for index,(title,artist,year,song) in enumerate(albums):\n",
    "        print(\"{}:{} \".format(index+1,title))\n",
    "\n",
    "    choice=int(input())\n",
    "\n",
    "    if 1<=choice<=len(albums):\n",
    "        songs_list=albums[choice-1][3]\n",
    "    else:\n",
    "        break\n",
    "\n",
    "    print(\"Please choose your song\")\n",
    "    for index,(tracknumber,song) in enumerate(songs_list):\n",
    "        print(f\"{index+1}:{song}\")\n",
    "\n",
    "    song_choice=int(input())\n",
    "    if 1<=song_choice<=len(songs_list):\n",
    "        title=songs_list[song_choice-1][1]\n",
    "       \n",
    "        print(\"Playing {}\".format(title))\n",
    "    print(\"=\"*40)"
   ]
  },
  {
   "cell_type": "code",
   "execution_count": 20,
   "id": "3d174e71",
   "metadata": {},
   "outputs": [],
   "source": [
    "#for index,value in enumerate(albums):\n",
    "#    title,artist,year,song=value\n",
    "#    print(index,value)"
   ]
  }
 ],
 "metadata": {
  "kernelspec": {
   "display_name": "base",
   "language": "python",
   "name": "python3"
  },
  "language_info": {
   "codemirror_mode": {
    "name": "ipython",
    "version": 3
   },
   "file_extension": ".py",
   "mimetype": "text/x-python",
   "name": "python",
   "nbconvert_exporter": "python",
   "pygments_lexer": "ipython3",
   "version": "3.12.7"
  }
 },
 "nbformat": 4,
 "nbformat_minor": 5
}
