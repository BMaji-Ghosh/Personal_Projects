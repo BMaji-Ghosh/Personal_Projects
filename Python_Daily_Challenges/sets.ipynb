{
 "cells": [
  {
   "cell_type": "code",
   "execution_count": 15,
   "id": "c8924ea1",
   "metadata": {},
   "outputs": [
    {
     "name": "stdout",
     "output_type": "stream",
     "text": [
      "set() <class 'set'>\n",
      "set() <class 'set'>\n",
      "set() <class 'set'>\n"
     ]
    }
   ],
   "source": [
    "#how to initialize an empty set\n",
    "#no 1\n",
    "numbers={*\"\"}\n",
    "print(numbers,type(numbers))\n",
    "\n",
    "#no 2\n",
    "numbers={*{}}\n",
    "print(numbers,type(numbers))\n",
    "\n",
    "#no 3\n",
    "numbers=set()\n",
    "print(numbers,type(numbers))"
   ]
  },
  {
   "cell_type": "code",
   "execution_count": 16,
   "id": "4e639ecd",
   "metadata": {},
   "outputs": [
    {
     "name": "stdout",
     "output_type": "stream",
     "text": [
      "{'1'}\n"
     ]
    }
   ],
   "source": [
    "#add a value to set\n",
    "numbers.add(\"1\")\n",
    "print(numbers)"
   ]
  },
  {
   "cell_type": "code",
   "execution_count": 17,
   "id": "b170aa00",
   "metadata": {},
   "outputs": [
    {
     "name": "stdout",
     "output_type": "stream",
     "text": [
      "{'7', '8', '9', '1'}\n"
     ]
    }
   ],
   "source": [
    "while len(numbers)<4:\n",
    "    next_value=input(\"please enter the value\")\n",
    "    numbers.add(next_value)\n",
    "print(numbers)    "
   ]
  },
  {
   "cell_type": "code",
   "execution_count": 3,
   "id": "b8edac4e",
   "metadata": {},
   "outputs": [
    {
     "name": "stdout",
     "output_type": "stream",
     "text": [
      "Please choose your option from the list below:\n",
      "1:\tLearn Python\n",
      "2:\tLearn Java\n",
      "3:\tGo swimming\n",
      "4:\tHave dinner\n",
      "5:\tGo to bed\n",
      "0:\tExit\n",
      "You chose 4\n",
      "You chose 6\n"
     ]
    }
   ],
   "source": [
    "#challenge\n",
    "choice = \"-\"  # initialise choice to something invalid\n",
    "while choice != \"0\":\n",
    "    if choice in list(\"123456\"):\n",
    "        print(\"You chose {}\".format(choice))\n",
    "    else:\n",
    "        print(\"Please choose your option from the list below:\")\n",
    "        print(\"1:\\tLearn Python\")\n",
    "        print(\"2:\\tLearn Java\")\n",
    "        print(\"3:\\tGo swimming\")\n",
    "        print(\"4:\\tHave dinner\")\n",
    "        print(\"5:\\tGo to bed\")\n",
    "        print(\"0:\\tExit\")\n",
    "\n",
    "    choice = input() "
   ]
  },
  {
   "cell_type": "code",
   "execution_count": 4,
   "id": "35766f2f",
   "metadata": {},
   "outputs": [
    {
     "data": {
      "text/plain": [
       "{'1', '2', '3', '4', '5'}"
      ]
     },
     "execution_count": 4,
     "metadata": {},
     "output_type": "execute_result"
    }
   ],
   "source": [
    "set(\"12345\")"
   ]
  },
  {
   "cell_type": "code",
   "execution_count": 6,
   "id": "6a7267a4",
   "metadata": {},
   "outputs": [
    {
     "data": {
      "text/plain": [
       "{0, 2, 4, 6, 8, 10, 12, 14, 16, 18}"
      ]
     },
     "execution_count": 6,
     "metadata": {},
     "output_type": "execute_result"
    }
   ],
   "source": [
    "set(range(0,20,2))"
   ]
  },
  {
   "cell_type": "code",
   "execution_count": null,
   "id": "998069d5",
   "metadata": {},
   "outputs": [
    {
     "name": "stdout",
     "output_type": "stream",
     "text": [
      "Please choose your option from the list below:\n",
      "1:\tLearn Python\n",
      "2:\tLearn Java\n",
      "3:\tGo swimming\n",
      "4:\tHave dinner\n",
      "5:\tGo to bed\n",
      "0:\tExit\n",
      "You chose 6\n"
     ]
    }
   ],
   "source": [
    "#challenge\n",
    "choice = \"-\"  # initialise choice to something invalid\n",
    "while choice != \"0\":\n",
    "    if choice in {\"1\",\"2\",\"3\",\"4\",\"5\",\"6\"}:\n",
    "        print(\"You chose {}\".format(choice))\n",
    "    else:\n",
    "        print(\"Please choose your option from the list below:\")\n",
    "        print(\"1:\\tLearn Python\")\n",
    "        print(\"2:\\tLearn Java\")\n",
    "        print(\"3:\\tGo swimming\")\n",
    "        print(\"4:\\tHave dinner\")\n",
    "        print(\"5:\\tGo to bed\")\n",
    "        print(\"0:\\tExit\")\n",
    "\n",
    "    choice = input() \n",
    "\n",
    "#using a set literal {\"1\",\"2\",\"3\",\"4\",\"5\",\"6\"} is much faster than set function set(\"123456\").    "
   ]
  },
  {
   "cell_type": "code",
   "execution_count": 21,
   "id": "1cc8eb80",
   "metadata": {},
   "outputs": [
    {
     "data": {
      "text/plain": [
       "[22, 24, 26, 28, 30, 32, 34, 36, 38, 40]"
      ]
     },
     "execution_count": 21,
     "metadata": {},
     "output_type": "execute_result"
    }
   ],
   "source": [
    "data={0, 2, 4, 6, 8, 10, 12, 14, 16, 18}\n",
    "sorted(list(range(40,20,-2)))"
   ]
  }
 ],
 "metadata": {
  "kernelspec": {
   "display_name": "base",
   "language": "python",
   "name": "python3"
  },
  "language_info": {
   "codemirror_mode": {
    "name": "ipython",
    "version": 3
   },
   "file_extension": ".py",
   "mimetype": "text/x-python",
   "name": "python",
   "nbconvert_exporter": "python",
   "pygments_lexer": "ipython3",
   "version": "3.12.7"
  }
 },
 "nbformat": 4,
 "nbformat_minor": 5
}
