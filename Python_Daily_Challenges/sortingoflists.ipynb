{
 "cells": [
  {
   "cell_type": "code",
   "execution_count": 42,
   "id": "109f654d",
   "metadata": {},
   "outputs": [
    {
     "name": "stdout",
     "output_type": "stream",
     "text": [
      "None\n",
      "[2, 4, 6, 8, 2, 4, 24, 1, 3, 7, 9, 1, 3, 5]\n",
      "[1, 1, 2, 2, 3, 3, 4, 4, 5, 6, 7, 8, 9, 24]\n"
     ]
    }
   ],
   "source": [
    "odd=[1,3,7,9,1,3,5]\n",
    "even=[2,4,6,8,2,4,24]\n",
    "list=[]\n",
    "list=even.extend(odd)\n",
    "print(list)\n",
    "print(even)\n",
    "\n",
    "#sorting\n",
    "even.sort()\n",
    "print(even)\n",
    "\n",
    "#reverse sorting\n",
    "\n",
    "\n",
    "#difference between sort and sorted  methods.\n",
    "\n",
    "#sort does not create any new list unlike sorted. The sort function sorts the original list. But sorted function\n",
    "#gives a new list with sorted values.\n"
   ]
  },
  {
   "cell_type": "code",
   "execution_count": 43,
   "id": "7c10177c",
   "metadata": {},
   "outputs": [
    {
     "name": "stdout",
     "output_type": "stream",
     "text": [
      "[1, 1, 2, 2, 3, 3, 4, 4, 5, 6, 7, 8, 9, 24]\n"
     ]
    }
   ],
   "source": [
    "sorted_values=sorted(even)\n",
    "print(sorted_values)"
   ]
  },
  {
   "cell_type": "code",
   "execution_count": 44,
   "id": "800ff08d",
   "metadata": {},
   "outputs": [
    {
     "name": "stdout",
     "output_type": "stream",
     "text": [
      "[' ', ' ', ' ', ' ', ' ', ' ', ' ', ' ', 'T', 'a', 'b', 'c', 'd', 'e', 'e', 'e', 'f', 'g', 'h', 'h', 'i', 'j', 'k', 'l', 'm', 'n', 'o', 'o', 'o', 'o', 'p', 'q', 'r', 'r', 's', 't', 'u', 'u', 'v', 'w', 'x', 'y', 'z']\n"
     ]
    }
   ],
   "source": [
    "pangram=\"The quick brown fox jumps over the lazy dog\"\n",
    "letters=sorted(pangram)\n",
    "print(letters)"
   ]
  },
  {
   "cell_type": "code",
   "execution_count": 45,
   "id": "73b33964",
   "metadata": {},
   "outputs": [
    {
     "name": "stdout",
     "output_type": "stream",
     "text": [
      "[1, 1, 2, 2, 3, 3, 4, 4, 5, 6, 7, 8, 9, 24, 1, 3, 7, 9, 1, 3, 5]\n",
      "[1, 1, 2, 2, 3, 3, 4, 4, 5, 6, 7, 8, 9, 24, 1, 3, 7, 9, 1, 3, 5]\n",
      "False\n",
      "True\n",
      "False\n"
     ]
    }
   ],
   "source": [
    "\n",
    "number=even+odd\n",
    "print(number)\n",
    "\n",
    "#method 1\n",
    "more_numbers=number[:]\n",
    "print(more_numbers)\n",
    "print(more_numbers is number)\n",
    "print(more_numbers== number)\n",
    "\n",
    "#method 2 -python 3.3\n",
    "more_numbers=number.copy()\n",
    "print(more_numbers is number)\n",
    "\n",
    "\n",
    "\n",
    "#copy method\n",
    "\n"
   ]
  },
  {
   "cell_type": "code",
   "execution_count": 46,
   "id": "9d52cb14",
   "metadata": {},
   "outputs": [],
   "source": [
    "#more operations -replace mutable list items\n",
    "even[1]=3"
   ]
  },
  {
   "cell_type": "code",
   "execution_count": 47,
   "id": "023a9da0",
   "metadata": {},
   "outputs": [],
   "source": [
    "even[-1]=23"
   ]
  },
  {
   "cell_type": "code",
   "execution_count": 48,
   "id": "a1a4115c",
   "metadata": {},
   "outputs": [
    {
     "data": {
      "text/plain": [
       "[1, 3, 2, 2, 3, 3, 4, 4, 5, 6, 7, 8, 9, 23]"
      ]
     },
     "execution_count": 48,
     "metadata": {},
     "output_type": "execute_result"
    }
   ],
   "source": [
    "even"
   ]
  },
  {
   "cell_type": "code",
   "execution_count": 49,
   "id": "ab7cbd61",
   "metadata": {},
   "outputs": [],
   "source": [
    "#assinging iterable elements 1 to 5 with set of contents 2,3,46,5\n",
    "even[1:5]=[2,3,46,5]"
   ]
  },
  {
   "cell_type": "code",
   "execution_count": 50,
   "id": "8c3ecb84",
   "metadata": {},
   "outputs": [
    {
     "data": {
      "text/plain": [
       "[1, 2, 3, 46, 5, 3, 4, 4, 5, 6, 7, 8, 9, 23]"
      ]
     },
     "execution_count": 50,
     "metadata": {},
     "output_type": "execute_result"
    }
   ],
   "source": [
    "even"
   ]
  },
  {
   "cell_type": "code",
   "execution_count": 51,
   "id": "dd877365",
   "metadata": {},
   "outputs": [],
   "source": [
    "#delete data\n",
    "del even[0:3]\n"
   ]
  },
  {
   "cell_type": "code",
   "execution_count": 52,
   "id": "8d10b3f5",
   "metadata": {},
   "outputs": [
    {
     "data": {
      "text/plain": [
       "[46, 5, 3, 4, 4, 5, 6, 7, 8, 9, 23]"
      ]
     },
     "execution_count": 52,
     "metadata": {},
     "output_type": "execute_result"
    }
   ],
   "source": [
    "even"
   ]
  },
  {
   "cell_type": "code",
   "execution_count": 53,
   "id": "8786f264",
   "metadata": {},
   "outputs": [
    {
     "name": "stdout",
     "output_type": "stream",
     "text": [
      "[2, 3, 6, 6, 7, 9, 12, 44, 55, 56, 66, 77, 78, 80, 100, 200, 209, 456, 479, 789, 800, 890]\n"
     ]
    },
    {
     "data": {
      "text/plain": [
       "[456, 479, 789, 800, 890]"
      ]
     },
     "execution_count": 53,
     "metadata": {},
     "output_type": "execute_result"
    }
   ],
   "source": [
    "data=[3,6,2,7,9,6,80,78,56,479,890,456,789,800,200,209,12,44,55,66,77,100]\n",
    "data.sort()\n",
    "min_value=400\n",
    "\n",
    "stop=0\n",
    "\n",
    "print(data)\n",
    "#process the low values in the list\n",
    "for index,value in enumerate(data):\n",
    "    if value>=400:\n",
    "        stop=index\n",
    "        break\n",
    "\n",
    "#to delete the items\n",
    "del data[0:stop]\n",
    "data"
   ]
  },
  {
   "cell_type": "code",
   "execution_count": 65,
   "id": "ae30ac34",
   "metadata": {},
   "outputs": [
    {
     "data": {
      "text/plain": [
       "[890]"
      ]
     },
     "execution_count": 65,
     "metadata": {},
     "output_type": "execute_result"
    }
   ],
   "source": [
    "#process the high values in the list\n",
    "data1=[3,6,2,7,9,6,80,78,56,479,890,456,789,800,200,209,12,44,55,66,77,100]\n",
    "data1.sort()\n",
    "max_value=800\n",
    "start=0\n",
    "for index in range(len(data1)-1,-1,-1):\n",
    "    if data1[index]<=max_value:\n",
    "        start=index+1\n",
    "        break\n",
    "del data1[0:start]  \n",
    "data1 \n"
   ]
  },
  {
   "cell_type": "code",
   "execution_count": null,
   "id": "c7ec70b8",
   "metadata": {},
   "outputs": [],
   "source": []
  }
 ],
 "metadata": {
  "kernelspec": {
   "display_name": "base",
   "language": "python",
   "name": "python3"
  },
  "language_info": {
   "codemirror_mode": {
    "name": "ipython",
    "version": 3
   },
   "file_extension": ".py",
   "mimetype": "text/x-python",
   "name": "python",
   "nbconvert_exporter": "python",
   "pygments_lexer": "ipython3",
   "version": "3.12.7"
  }
 },
 "nbformat": 4,
 "nbformat_minor": 5
}
