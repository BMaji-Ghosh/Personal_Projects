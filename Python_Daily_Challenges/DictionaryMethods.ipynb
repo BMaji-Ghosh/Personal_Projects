{
 "cells": [
  {
   "cell_type": "code",
   "execution_count": 2,
   "id": "3fb61095",
   "metadata": {},
   "outputs": [],
   "source": [
    "d = {\n",
    "    0: \"zero\",\n",
    "    1: \"one\",\n",
    "    2: \"two\",\n",
    "    3: \"three\",\n",
    "    4: \"four\",\n",
    "    5: \"five\",\n",
    "    6: \"six\",\n",
    "    7: \"seven\",\n",
    "    8: \"eight\",\n",
    "    9: \"nine\",\n",
    "}\n",
    "\n",
    "pantry_items = ['chicken', 'spam', 'egg', 'bread', 'lemon']\n"
   ]
  },
  {
   "cell_type": "code",
   "execution_count": 3,
   "id": "9c4c9d14",
   "metadata": {},
   "outputs": [
    {
     "name": "stdout",
     "output_type": "stream",
     "text": [
      "{'chicken': None, 'spam': None, 'egg': None, 'bread': None, 'lemon': None}\n"
     ]
    }
   ],
   "source": [
    "#fromkeys method\n",
    "#passing keys to a new dictionary \n",
    "\n",
    "\n",
    "new_dict=dict.fromkeys(pantry_items)\n",
    "print(new_dict)"
   ]
  },
  {
   "cell_type": "code",
   "execution_count": 4,
   "id": "88f3c92c",
   "metadata": {},
   "outputs": [
    {
     "name": "stdout",
     "output_type": "stream",
     "text": [
      "dict_keys([0, 1, 2, 3, 4, 5, 6, 7, 8, 9])\n"
     ]
    }
   ],
   "source": [
    "#d.keys\n",
    "\n",
    "keys=d.keys()\n",
    "print(keys)\n",
    "\n"
   ]
  },
  {
   "cell_type": "code",
   "execution_count": 5,
   "id": "757eee31",
   "metadata": {},
   "outputs": [
    {
     "name": "stdout",
     "output_type": "stream",
     "text": [
      "0\n",
      "1\n",
      "2\n",
      "3\n",
      "4\n",
      "5\n",
      "6\n",
      "7\n",
      "8\n",
      "9\n"
     ]
    }
   ],
   "source": [
    "for item in d.keys():\n",
    "    print(item)"
   ]
  },
  {
   "cell_type": "code",
   "execution_count": null,
   "id": "389edc23",
   "metadata": {},
   "outputs": [
    {
     "name": "stdout",
     "output_type": "stream",
     "text": [
      "0 zero0\n",
      "1 one1\n",
      "2 two2\n",
      "3 three\n",
      "4 four\n",
      "5 five\n",
      "6 six\n",
      "7 seven\n",
      "8 eight\n",
      "9 nine\n"
     ]
    }
   ],
   "source": [
    "#dictionary keys are unique\n",
    "#how to UPDATE a dictionary\n",
    "\n",
    "d2={\n",
    "    0: \"zero0\",\n",
    "    1: \"one1\",\n",
    "    2: \"two2\",\n",
    "}\n",
    "\n",
    "d.update(d2)\n",
    "\n",
    "for key,value in d.items():\n",
    "    print(key, value)"
   ]
  },
  {
   "cell_type": "code",
   "execution_count": null,
   "id": "18280122",
   "metadata": {},
   "outputs": [
    {
     "name": "stdout",
     "output_type": "stream",
     "text": [
      "0 chicken\n",
      "1 spam\n",
      "2 egg\n",
      "3 bread\n",
      "4 lemon\n",
      "5 five\n",
      "6 six\n",
      "7 seven\n",
      "8 eight\n",
      "9 nine\n"
     ]
    }
   ],
   "source": [
    "d.update(enumerate(pantry_items))\n",
    "\n",
    "for key,value in d.items():\n",
    "    print(key, value)\n",
    "    "
   ]
  },
  {
   "cell_type": "code",
   "execution_count": 12,
   "id": "0a00b7f4",
   "metadata": {},
   "outputs": [
    {
     "name": "stdout",
     "output_type": "stream",
     "text": [
      "dict_values(['chicken', 'spam', 'egg', 'bread', 'lemon', 'five', 'six', 'seven', 'eight', 'nine'])\n",
      "True\n",
      "False\n"
     ]
    }
   ],
   "source": [
    "#valuesnin dictionary\n",
    "\n",
    "V=d.values()\n",
    "print(V)\n",
    "\n",
    "print(\"nine\" in V)\n",
    "print(\"eleven\" in V)"
   ]
  },
  {
   "cell_type": "code",
   "execution_count": 14,
   "id": "79bea98c",
   "metadata": {},
   "outputs": [
    {
     "name": "stdout",
     "output_type": "stream",
     "text": [
      "six was found with the key 6\n"
     ]
    }
   ],
   "source": [
    "keys=list(d.keys())\n",
    "values=list(V)\n",
    "if \"six\" in values:\n",
    "    index=values.index(\"six\")\n",
    "    key=keys[index]\n",
    "    print(f\"{d[key]} was found with the key {key}\")\n"
   ]
  },
  {
   "cell_type": "code",
   "execution_count": 18,
   "id": "a9bcd788",
   "metadata": {},
   "outputs": [
    {
     "name": "stdout",
     "output_type": "stream",
     "text": [
      "six was found with the key 6\n"
     ]
    }
   ],
   "source": [
    "#another approach\n",
    "\n",
    "for key,value in d.items():\n",
    "    if value==\"six\":\n",
    "        print(f\"{d[key]} was found with the key {key}\")"
   ]
  },
  {
   "cell_type": "code",
   "execution_count": 19,
   "id": "d5253ded",
   "metadata": {},
   "outputs": [
    {
     "name": "stdout",
     "output_type": "stream",
     "text": [
      "toy\n"
     ]
    }
   ],
   "source": [
    "#copy dictionary vs referring dictionary\n",
    "\n",
    "#A dictionary can be referred with multiple names\n",
    "\n",
    "animals={\n",
    "    \"lion\":\"scary\",\n",
    "    \"elephant\":\"big\",\n",
    "    \"teddy\":\"cuddly\"\n",
    "}\n",
    "\n",
    "things=animals\n",
    "#referring multiple names to a single dictionary will inherit all properties of that dictionary \n",
    "# including any chnges or updation.\n",
    "animals[\"teddy\"]=\"toy\"\n",
    "print(things[\"teddy\"])"
   ]
  },
  {
   "cell_type": "code",
   "execution_count": 24,
   "id": "29e127e7",
   "metadata": {},
   "outputs": [
    {
     "name": "stdout",
     "output_type": "stream",
     "text": [
      "cuddly\n",
      "toys\n"
     ]
    }
   ],
   "source": [
    "#create a copy of dictionary\n",
    "animals={\n",
    "    \"lion\":\"scary\",\n",
    "    \"elephant\":\"big\",\n",
    "    \"teddy\":\"cuddly\"\n",
    "}\n",
    "dict=animals.copy()\n",
    "#shallow copies\n",
    "animals[\"teddy\"]=\"toys\"\n",
    "print(dict[\"teddy\"]) \n",
    "print(animals[\"teddy\"]) "
   ]
  },
  {
   "cell_type": "code",
   "execution_count": 25,
   "id": "2fa31542",
   "metadata": {},
   "outputs": [
    {
     "name": "stdout",
     "output_type": "stream",
     "text": [
      "['cuddly', 'stuffed']\n",
      "['cuddly', 'stuffed']\n",
      "\n",
      "['cuddly', 'stuffed', 'toy', 'added via `animals`', 'added via `things`']\n",
      "['cuddly', 'stuffed', 'toy', 'added via `animals`', 'added via `things`']\n",
      "['cuddly', 'stuffed', 'toy', 'added via `animals`', 'added via `things`']\n"
     ]
    }
   ],
   "source": [
    "lion_list = [\"scary\", \"big\", \"cat\"]\n",
    "elephant_list = [\"big\", \"grey\", \"wrinkled\"]\n",
    "teddy_list = [\"cuddly\", \"stuffed\"]\n",
    "\n",
    "animals = {\n",
    "    \"lion\": lion_list,\n",
    "    \"elephant\": elephant_list,\n",
    "    \"teddy\": teddy_list,\n",
    "}\n",
    "\n",
    "# things = animals.copy()\n",
    "things = {\n",
    "    \"lion\": lion_list,\n",
    "    \"elephant\": elephant_list,\n",
    "    \"teddy\": teddy_list,\n",
    "}\n",
    "\n",
    "print(things[\"teddy\"])\n",
    "print(animals[\"teddy\"])\n",
    "\n",
    "print()\n",
    "\n",
    "# things[\"teddy\"].append(\"toy\")\n",
    "teddy_list.append(\"toy\")\n",
    "animals[\"teddy\"].append(\"added via `animals`\")\n",
    "things[\"teddy\"].append(\"added via `things`\")\n",
    "print(things[\"teddy\"])\n",
    "print(animals[\"teddy\"])\n",
    "print(teddy_list)"
   ]
  }
 ],
 "metadata": {
  "kernelspec": {
   "display_name": "base",
   "language": "python",
   "name": "python3"
  },
  "language_info": {
   "codemirror_mode": {
    "name": "ipython",
    "version": 3
   },
   "file_extension": ".py",
   "mimetype": "text/x-python",
   "name": "python",
   "nbconvert_exporter": "python",
   "pygments_lexer": "ipython3",
   "version": "3.12.7"
  }
 },
 "nbformat": 4,
 "nbformat_minor": 5
}
