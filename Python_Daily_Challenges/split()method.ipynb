{
 "cells": [
  {
   "cell_type": "code",
   "execution_count": 1,
   "id": "ef628ac9",
   "metadata": {},
   "outputs": [
    {
     "name": "stdout",
     "output_type": "stream",
     "text": [
      "['The', 'quick', 'brown', 'fox', 'jumps', 'over', 'the', 'lady', 'dog']\n"
     ]
    }
   ],
   "source": [
    "panagram=\"\"\"The quick brown fox jumps over the lady dog\"\"\"\n",
    "words=panagram.split()\n",
    "print(words)"
   ]
  },
  {
   "cell_type": "code",
   "execution_count": 3,
   "id": "b18551d2",
   "metadata": {},
   "outputs": [
    {
     "name": "stdout",
     "output_type": "stream",
     "text": [
      "['1', '2', '3', '4', '5', '', '4', '4.42352', '66']\n"
     ]
    }
   ],
   "source": [
    "numbers=\"1,2,3,4,5,,4,4.42352,66\"\n",
    "print(numbers.split(sep=\",\"))"
   ]
  },
  {
   "cell_type": "code",
   "execution_count": null,
   "id": "1386f0b3",
   "metadata": {},
   "outputs": [
    {
     "name": "stdout",
     "output_type": "stream",
     "text": [
      "[1.0, 2.0, 3.0, 4.0, 5.0, 9.0, 4.0, 4.42352, 66.0]\n"
     ]
    }
   ],
   "source": [
    "#replace values in same list\n",
    "x=['1', '2', '3', '4', '5', '9', '4', '4.42352', '66']\n",
    "\n",
    "for index in range((len(x))):\n",
    "    x[index]= float(x[index])\n",
    "print(x)"
   ]
  },
  {
   "cell_type": "code",
   "execution_count": 8,
   "id": "3100b753",
   "metadata": {},
   "outputs": [
    {
     "name": "stdout",
     "output_type": "stream",
     "text": [
      "[1.0, 2.0, 3.0, 4.0, 5.0, 9.0, 4.0, 4.42352, 66.0]\n"
     ]
    }
   ],
   "source": [
    "#create a new list\n",
    "y=[]\n",
    "x=['1', '2', '3', '4', '5', '9', '4', '4.42352', '66']\n",
    "\n",
    "for value in x:\n",
    "    y.append(float(value))\n",
    "print(y)    "
   ]
  },
  {
   "cell_type": "code",
   "execution_count": null,
   "id": "e190181d",
   "metadata": {},
   "outputs": [
    {
     "name": "stdout",
     "output_type": "stream",
     "text": [
      "20000\n",
      "20000\n"
     ]
    }
   ],
   "source": [
    "#packing unpacking of list\n",
    "table=(\"Coffee Table\",200,100,700,500,300)\n",
    "print(table[1]*table[2])\n",
    "\n",
    "\n",
    "\n",
    "#packing unpacking of list\n",
    "name,length,width,height,price,discount=table\n",
    "print(width*length)\n",
    "\n",
    "\n",
    "\n"
   ]
  },
  {
   "cell_type": "code",
   "execution_count": null,
   "id": "44fee2bd",
   "metadata": {},
   "outputs": [],
   "source": []
  }
 ],
 "metadata": {
  "kernelspec": {
   "display_name": "base",
   "language": "python",
   "name": "python3"
  },
  "language_info": {
   "codemirror_mode": {
    "name": "ipython",
    "version": 3
   },
   "file_extension": ".py",
   "mimetype": "text/x-python",
   "name": "python",
   "nbconvert_exporter": "python",
   "pygments_lexer": "ipython3",
   "version": "3.12.7"
  }
 },
 "nbformat": 4,
 "nbformat_minor": 5
}
