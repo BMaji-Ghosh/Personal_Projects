{
 "cells": [
  {
   "cell_type": "code",
   "execution_count": 3,
   "id": "304271a7",
   "metadata": {},
   "outputs": [
    {
     "name": "stdout",
     "output_type": "stream",
     "text": [
      "['1', '2', '2', '3', '3', '3', '3', '4', '4', '4', '5', '5', '6', '6', '7']\n",
      "['1', '3', '5', '2', '3', '2', '5', '6', '4', '3', '4', '3', '6', '7', '4']\n",
      "False\n"
     ]
    }
   ],
   "source": [
    "digits=sorted(\"135232564343674\")\n",
    "\n",
    "print(digits)\n",
    "\n",
    "Digits=list(\"135232564343674\")\n",
    "\n",
    "print(Digits)\n",
    "\n",
    "print(digits is Digits)"
   ]
  },
  {
   "cell_type": "code",
   "execution_count": null,
   "id": "a1dc7994",
   "metadata": {},
   "outputs": [],
   "source": [
    "even=[2,4,6,8]\n",
    "odd=[]"
   ]
  }
 ],
 "metadata": {
  "kernelspec": {
   "display_name": "base",
   "language": "python",
   "name": "python3"
  },
  "language_info": {
   "codemirror_mode": {
    "name": "ipython",
    "version": 3
   },
   "file_extension": ".py",
   "mimetype": "text/x-python",
   "name": "python",
   "nbconvert_exporter": "python",
   "pygments_lexer": "ipython3",
   "version": "3.12.7"
  }
 },
 "nbformat": 4,
 "nbformat_minor": 5
}
