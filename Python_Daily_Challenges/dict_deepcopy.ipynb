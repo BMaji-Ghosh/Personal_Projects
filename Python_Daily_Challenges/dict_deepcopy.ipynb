{
 "cells": [
  {
   "cell_type": "code",
   "execution_count": 6,
   "id": "149bd050",
   "metadata": {},
   "outputs": [
    {
     "data": {
      "text/plain": [
       "dict"
      ]
     },
     "execution_count": 6,
     "metadata": {},
     "output_type": "execute_result"
    }
   ],
   "source": [
    "#Write a function that takes a dictionary as an argument,and returns a deep copy of the dictionary\n",
    "import copy\n",
    "dicts= {\n",
    "    \"lion_list\" :[\"scary\", \"big\", \"cat\"],\n",
    "    \"elephant_list\": [\"big\", \"grey\", \"wrinkled\"],\n",
    "    \"teddy_list\" : [\"cuddly\", \"stuffed\"]\n",
    "    }\n",
    "def deepcopy_dict(dictionary):\n",
    "    return copy.deepcopy(dictionary)\n",
    "\n",
    "deepcopy_dict(dict)\n",
    "\n"
   ]
  },
  {
   "cell_type": "code",
   "execution_count": 7,
   "id": "82b8615d",
   "metadata": {},
   "outputs": [],
   "source": [
    "#deep copy without copy module\n",
    "recipes = {\n",
    "    \"Butter chicken\": {\n",
    "        \"chicken\": 750,\n",
    "        \"lemon\": 1,\n",
    "        \"cumin\": 1,\n",
    "        \"paprika\": 1,\n",
    "        \"chilli powder\": 2,\n",
    "        \"yogurt\": 250,\n",
    "        \"oil\": 50,\n",
    "        \"onion\": 1,\n",
    "        \"garlic\": 2,\n",
    "        \"ginger\": 3,\n",
    "        \"tomato puree\": 240,\n",
    "        \"almonds\": 25,\n",
    "        \"rice\": 360,\n",
    "        \"coriander\": 1,\n",
    "        \"lime\": 1,\n",
    "    },\n",
    "    \"Chicken and chips\": {\n",
    "        \"chicken\": 100,\n",
    "        \"potatoes\": 3,\n",
    "        \"salt\": 1,\n",
    "        \"malt vinegar\": 5,\n",
    "    },\n",
    "    \"Pizza\": {\n",
    "        \"pizza\": 1,\n",
    "    },\n",
    "    \"Egg sandwich\": {\n",
    "        \"egg\": 2,\n",
    "        \"bread\": 80,\n",
    "        \"butter\": 10,\n",
    "    },\n",
    "    \"Beans on toast\": {\n",
    "        \"beans\": 1,\n",
    "        \"bread\": 40,\n",
    "    },\n",
    "    \"Spam a la tin\": {\n",
    "        \"spam\": 1,\n",
    "        \"tin opener\": 1,\n",
    "        \"spoon\": 1,\n",
    "    }\n",
    "}    \n",
    "\n"
   ]
  },
  {
   "cell_type": "code",
   "execution_count": 8,
   "id": "17146a56",
   "metadata": {},
   "outputs": [
    {
     "name": "stdout",
     "output_type": "stream",
     "text": [
      "300\n",
      "3\n"
     ]
    }
   ],
   "source": [
    "def my_deepcopy(d:dict) -> dict:\n",
    "    \"\"\" \n",
    "    Copy a dictionary creating copy of list or dictionary\n",
    "    The function will crash with attribute error if the values arent lists or dictionaries\n",
    "    :param d:The dictionary to copy\n",
    "    :return: A copy of d,with the values being copies of original values\n",
    "\n",
    "    \"\"\"\n",
    "\n",
    "    new_dict={}\n",
    "    for key,value in d.items():\n",
    "        new_value=value.copy()\n",
    "        new_dict[key]=new_value\n",
    "\n",
    "        return new_dict\n",
    "    \n",
    "    \n",
    "recipes_copy = my_deepcopy(recipes)\n",
    "recipes_copy[\"Butter chicken\"][\"ginger\"] = 300\n",
    "print(recipes_copy[\"Butter chicken\"][\"ginger\"])\n",
    "print(recipes[\"Butter chicken\"][\"ginger\"])\n"
   ]
  },
  {
   "cell_type": "code",
   "execution_count": 9,
   "id": "8c33dcf0",
   "metadata": {},
   "outputs": [
    {
     "name": "stdout",
     "output_type": "stream",
     "text": [
      "{'Tim': ['Buchalka', ['Programmer', 'Teacher', 'Cashier'], 'Australia'], 'J-P': ['Roberts', ['Programmer', 'Teacher', 'Courier'], 'UK']}\n",
      "{'Tim': ['Buchalka', ['Programmer', 'Teacher']], 'J-P': ['Roberts', ['Programmer', 'Teacher']]}\n",
      "{'Tim': ['Buchalka', ['Programmer', 'Teacher', 'Cashier']]}\n"
     ]
    }
   ],
   "source": [
    "import copy\n",
    "\n",
    "original = {\n",
    "    \"Tim\": [\"Buchalka\", [\"Programmer\", \"Teacher\"]],\n",
    "    \"J-P\": [\"Roberts\", [\"Programmer\", \"Teacher\"]],\n",
    "}\n",
    "\n",
    "copy_1 = copy.deepcopy(original)\n",
    "copy_2 = my_deepcopy(original)\n",
    "\n",
    "original[\"Tim\"].append(\"Australia\")\n",
    "original[\"J-P\"].append(\"UK\")\n",
    "\n",
    "original[\"Tim\"][1].append(\"Cashier\")\n",
    "jp_list = original[\"J-P\"]\n",
    "jp_list[1].append(\"Courier\")\n",
    "\n",
    "print(original)\n",
    "print(copy_1)\n",
    "print(copy_2)\n"
   ]
  },
  {
   "cell_type": "code",
   "execution_count": 21,
   "id": "5fb0a7ab",
   "metadata": {},
   "outputs": [
    {
     "name": "stdout",
     "output_type": "stream",
     "text": [
      "['HagrI', 'loVe', 'I']\n",
      "HagrI loVe I\n"
     ]
    }
   ],
   "source": [
    "#reverse a sentence\n",
    "\n",
    "x=\"I loVe HagrI\"\n",
    "y=x.split()\n",
    "rev_y=list(y[::-1])\n",
    "print(rev_y)\n",
    "string=\" \".join(rev_y)\n",
    "print(string)\n"
   ]
  }
 ],
 "metadata": {
  "kernelspec": {
   "display_name": "base",
   "language": "python",
   "name": "python3"
  },
  "language_info": {
   "codemirror_mode": {
    "name": "ipython",
    "version": 3
   },
   "file_extension": ".py",
   "mimetype": "text/x-python",
   "name": "python",
   "nbconvert_exporter": "python",
   "pygments_lexer": "ipython3",
   "version": "3.12.7"
  }
 },
 "nbformat": 4,
 "nbformat_minor": 5
}
