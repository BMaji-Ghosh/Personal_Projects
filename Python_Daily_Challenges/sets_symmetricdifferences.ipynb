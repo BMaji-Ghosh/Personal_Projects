{
 "cells": [
  {
   "cell_type": "code",
   "execution_count": null,
   "id": "a311c3bf",
   "metadata": {},
   "outputs": [],
   "source": [
    "morning={\"Java\",'C',\"Ruby\",\"Lisp\",\"C#\"}\n",
    "afternoon={'Python','C#','Java','C','Ruby'}\n",
    "\n",
    "symmetric=morning^afternoon\n",
    "print()"
   ]
  }
 ],
 "metadata": {
  "language_info": {
   "name": "python"
  }
 },
 "nbformat": 4,
 "nbformat_minor": 5
}
