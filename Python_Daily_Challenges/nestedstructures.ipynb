{
 "cells": [
  {
   "cell_type": "code",
   "execution_count": null,
   "id": "20dc4769",
   "metadata": {},
   "outputs": [
    {
     "name": "stdout",
     "output_type": "stream",
     "text": [
      "Albums:Reputation,Artist:Taylor Swift,Year:2017,Songs:[(1, 'Ready for it'), (2, 'End Game'), (3, 'Dont Blame Me'), (4, 'I did something Bad')]\n",
      "Albums:Love,Artist:Taylor Swift,Year:2019,Songs:[(1, 'Cruel summer'), (2, 'Lover'), (3, 'The Man'), (4, 'I Forgot that you Existed')]\n",
      "Albums:Red,Artist:Taylor Swift,Year:2022,Songs:[(1, 'State of Grace'), (2, 'Red'), (3, 'Treacherous'), (4, 'I know you were Trouble')]\n",
      "Albums:Fearless,Artist:Taylor Swift,Year:2008,Songs:[(1, 'Hey Stephen'), (2, 'Love Story'), (3, 'Fifteen'), (4, 'Fearless')]\n"
     ]
    }
   ],
   "source": [
    "albums=[\n",
    "    (\"Reputation\",\"Taylor Swift\",2017,\n",
    "     [(1,\"Ready for it\"),\n",
    "      (2,\"End Game\"),\n",
    "      (3,\"Dont Blame Me\"),\n",
    "      (4,\"I did something Bad\")]\n",
    "     ),\n",
    "     (\"Love\",\"Taylor Swift\",2019,\n",
    "     [(1,\"Cruel summer\"),\n",
    "      (2,\"Lover\"),\n",
    "      (3,\"The Man\"),a\n",
    "      (4,\"I Forgot that you Existed\")]\n",
    "     ),\n",
    "\n",
    "      (\"Red\",\"Taylor Swift\",2022,\n",
    "     [(1,\"State of Grace\"),\n",
    "      (2,\"Red\"),\n",
    "      (3,\"Treacherous\"),\n",
    "      (4,\"I know you were Trouble\")]\n",
    "     ),\n",
    "\n",
    "     (\"Fearless\",\"Taylor Swift\",2008,\n",
    "     [(1,\"Hey Stephen\"),\n",
    "      (2,\"Love Story\"),\n",
    "      (3,\"Fifteen\"),\n",
    "      (4,\"Fearless\")]\n",
    "     )\n",
    "]\n",
    "\n",
    "for name,artist,year,songs in albums:\n",
    "    print(\"Albums:{},Artist:{},Year:{},Songs:{}\".format(name,artist,year,songs)) "
   ]
  },
  {
   "cell_type": "code",
   "execution_count": 20,
   "id": "fb664dd5",
   "metadata": {},
   "outputs": [
    {
     "name": "stdout",
     "output_type": "stream",
     "text": [
      "('Fearless', 'Taylor Swift', 2008, [(1, 'Hey Stephen'), (2, 'Love Story'), (3, 'Fifteen'), (4, 'Fearless')])\n"
     ]
    }
   ],
   "source": [
    "album=albums[3]\n",
    "print(album)"
   ]
  },
  {
   "cell_type": "code",
   "execution_count": null,
   "id": "d8ffe73e",
   "metadata": {},
   "outputs": [
    {
     "name": "stdout",
     "output_type": "stream",
     "text": [
      "[(1, 'Hey Stephen'), (2, 'Love Story'), (3, 'Fifteen'), (4, 'Fearless')]\n",
      "(2, 'Love Story')\n"
     ]
    }
   ],
   "source": [
    "songs=album[3]\n",
    "print(songs)\n"
   ]
  },
  {
   "cell_type": "code",
   "execution_count": 24,
   "id": "e44b6d68",
   "metadata": {},
   "outputs": [
    {
     "name": "stdout",
     "output_type": "stream",
     "text": [
      "(2, 'Love Story')\n",
      "Love Story\n"
     ]
    }
   ],
   "source": [
    "song=songs[1]\n",
    "print(song)\n",
    "print(song[1])"
   ]
  },
  {
   "cell_type": "code",
   "execution_count": 26,
   "id": "9248d25a",
   "metadata": {},
   "outputs": [
    {
     "name": "stdout",
     "output_type": "stream",
     "text": [
      "Fifteen\n"
     ]
    }
   ],
   "source": [
    "x=albums[3][3][2][1]\n",
    "print(x)"
   ]
  },
  {
   "cell_type": "code",
   "execution_count": null,
   "id": "cc809cf2",
   "metadata": {},
   "outputs": [],
   "source": []
  }
 ],
 "metadata": {
  "kernelspec": {
   "display_name": "base",
   "language": "python",
   "name": "python3"
  },
  "language_info": {
   "codemirror_mode": {
    "name": "ipython",
    "version": 3
   },
   "file_extension": ".py",
   "mimetype": "text/x-python",
   "name": "python",
   "nbconvert_exporter": "python",
   "pygments_lexer": "ipython3",
   "version": "3.12.7"
  }
 },
 "nbformat": 4,
 "nbformat_minor": 5
}
