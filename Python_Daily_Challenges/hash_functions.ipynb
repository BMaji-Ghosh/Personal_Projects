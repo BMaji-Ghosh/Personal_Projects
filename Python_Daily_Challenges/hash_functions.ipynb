{
 "cells": [
  {
   "cell_type": "code",
   "execution_count": 1,
   "id": "cdbb5342",
   "metadata": {},
   "outputs": [
    {
     "name": "stdout",
     "output_type": "stream",
     "text": [
      "orange 525723289668927214\n",
      "apple 2978401517698580249\n",
      "lemon -3647889948528909345\n",
      "grape 1148116491261177905\n",
      "melon -3695058622135011569\n"
     ]
    }
   ],
   "source": [
    "data = [\n",
    "    (\"orange\", \"a sweet, orange, citrus fruit\"),\n",
    "    (\"apple\", \"good for making cider\"),\n",
    "    (\"lemon\", \"a sour, yellow citrus fruit\"),\n",
    "    (\"grape\", \"a small, sweet fruit growing in bunches\"),\n",
    "    (\"melon\", \"sweet and juicy\"),\n",
    "]\n",
    "\n",
    "# print(ord(\"a\"))\n",
    "# print(ord(\"b\"))\n",
    "# print(ord(\"z\"))\n",
    "\n",
    "\n",
    "def simple_hash(s: str) -> int:\n",
    "    \"\"\"A ridiculously simple hashing function\"\"\"\n",
    "    basic_hash = ord(s[0])\n",
    "    return basic_hash % 10\n",
    "\n",
    "\n",
    "for key, value in data:\n",
    "    # h = simple_hash(key)\n",
    "    h = hash(key)\n",
    "    print(key, h)"
   ]
  }
 ],
 "metadata": {
  "kernelspec": {
   "display_name": "base",
   "language": "python",
   "name": "python3"
  },
  "language_info": {
   "codemirror_mode": {
    "name": "ipython",
    "version": 3
   },
   "file_extension": ".py",
   "mimetype": "text/x-python",
   "name": "python",
   "nbconvert_exporter": "python",
   "pygments_lexer": "ipython3",
   "version": "3.12.7"
  }
 },
 "nbformat": 4,
 "nbformat_minor": 5
}
